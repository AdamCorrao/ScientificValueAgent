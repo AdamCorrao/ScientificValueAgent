{
 "cells": [
  {
   "cell_type": "code",
   "execution_count": null,
   "id": "9b0f74b9-cb13-4f43-bf4b-afe47baf145f",
   "metadata": {},
   "outputs": [],
   "source": [
    "%load_ext autoreload\n",
    "%autoreload 2\n",
    "%config Completer.use_jedi = False"
   ]
  },
  {
   "cell_type": "code",
   "execution_count": null,
   "id": "8a6a2743-2900-43ad-b0e3-087240158a82",
   "metadata": {},
   "outputs": [],
   "source": [
    "from functools import lru_cache"
   ]
  },
  {
   "cell_type": "code",
   "execution_count": null,
   "id": "58150a21-cc5f-406d-abb5-693875fd6ace",
   "metadata": {},
   "outputs": [],
   "source": [
    "import numpy as np\n",
    "import matplotlib.pyplot as plt\n",
    "from matplotlib import cm\n",
    "from pathlib import Path\n",
    "import plotly.graph_objects as go\n",
    "import json\n",
    "import pandas as pd\n",
    "from string import ascii_lowercase\n",
    "from PyAstronomy.pyasl import broadGaussFast\n",
    "from scipy.interpolate import InterpolatedUnivariateSpline\n",
    "from scipy.spatial import distance_matrix\n",
    "import torch\n",
    "from tqdm import tqdm"
   ]
  },
  {
   "cell_type": "code",
   "execution_count": null,
   "id": "0e246293-f0eb-46d7-b561-d2b00facb0f8",
   "metadata": {},
   "outputs": [],
   "source": [
    "# Put this in your path for pretty plotting! https://gist.github.com/x94carbone/f5201b1c44963ff9453b9cc1d5f768ac\n",
    "from mpl_utils import MPLAdjutant\n",
    "adj = MPLAdjutant()\n",
    "adj.set_defaults()\n",
    "plt.rcParams[\"figure.figsize\"] = (3, 2)"
   ]
  },
  {
   "cell_type": "code",
   "execution_count": null,
   "id": "ce0f219a-3def-4c70-8ba3-4db6a39dd8d6",
   "metadata": {},
   "outputs": [],
   "source": [
    "from value_agent import experiments, phases, value"
   ]
  },
  {
   "cell_type": "code",
   "execution_count": null,
   "id": "d60470c2-a487-482c-a86c-1eb2774fded8",
   "metadata": {},
   "outputs": [],
   "source": [
    "@lru_cache\n",
    "def read_data(path=\"results/results_sine2phase\"):\n",
    "    # Takes a while, it's about 9 GB of data to read into memory\n",
    "    results = dict()\n",
    "    for file in Path(path).rglob(\"sine2phase*.json\"):\n",
    "        with open(file, \"r\") as f:\n",
    "            d = json.loads(json.load(f))\n",
    "        c = experiments.Experiment.from_dict(d)\n",
    "        results[str(c.name)] = c\n",
    "    return results"
   ]
  },
  {
   "cell_type": "markdown",
   "id": "2cad6ac1-6915-4f9a-8090-a4b9871c7a81",
   "metadata": {
    "tags": []
   },
   "source": [
    "# Two-phase sine result"
   ]
  },
  {
   "cell_type": "markdown",
   "id": "4bffcfcb-fbf8-4760-bc67-53312d2ac7ea",
   "metadata": {},
   "source": [
    "## Plot the phases only"
   ]
  },
  {
   "cell_type": "code",
   "execution_count": null,
   "id": "0a97e3a8-e402-4229-b35d-70ec22fb7ad6",
   "metadata": {},
   "outputs": [],
   "source": [
    "x, y, Z = phases.get_phase_plot_info(phases.phase_1_sine_on_2d_raster)\n",
    "X, Y = np.meshgrid(x, y)\n",
    "gradZ = np.array(np.gradient(Z))\n",
    "gradZ = np.sqrt((gradZ**2).sum(axis=0))"
   ]
  },
  {
   "cell_type": "code",
   "execution_count": null,
   "id": "88b5ac53-ab1f-48b1-bb03-6f5c1e5121f4",
   "metadata": {},
   "outputs": [],
   "source": [
    "extent = (x[0], x[-1], y[0], y[-1])\n",
    "scale = 1\n",
    "lw = 1\n",
    "\n",
    "fig, axs = plt.subplots(1, 2, figsize=(4*scale, 2*scale), sharex=True, sharey=True)\n",
    "\n",
    "ax = axs[0]\n",
    "im = ax.imshow(Z, interpolation='bilinear', origin='lower', cmap=cm.binary, extent=extent)\n",
    "ax.set_ylabel(\"$x_2$~[a.u.]\")\n",
    "adj.set_grids(ax, grid=False)\n",
    "ax.text(0.1, 0.1, r\"$p(\\mathbf{x})$\", ha=\"left\", va=\"bottom\", transform=ax.transAxes)\n",
    "\n",
    "g = np.linspace(0, 1, 100)\n",
    "ax.plot(g, 0.5 + np.sin(2.0 * np.pi * g) / 4, \"y--\", linewidth=lw, zorder=0)\n",
    "\n",
    "# ax.text(0.9, 0.9, \"$g(x_1) = \\\\frac{1}{2} + \\\\frac{1}{4} \\sin(2\\pi x_1)$\", ha=\"right\", va=\"top\", transform=ax.transAxes, color=\"yellow\")\n",
    "\n",
    "\n",
    "ax = axs[1]\n",
    "im = ax.imshow(gradZ, interpolation='bilinear', origin='lower', cmap=cm.binary, extent=extent)\n",
    "\n",
    "ax.plot(g, 0.5 + np.sin(2.0 * np.pi * g) / 4, \"y--\", linewidth=lw, zorder=0, label=\"$g(x_1)$\")\n",
    "\n",
    "ax.plot(g, 0.55 + 0.25 * np.sin(2.0 * np.pi * g), \"k--\", linewidth=lw, label=\"$g(x_1) \\pm 0.05$\")\n",
    "ax.plot(g, 0.45 + 0.25 * np.sin(2.0 * np.pi * g), \"k--\", linewidth=lw)\n",
    "ax.text(0.1, 0.1, r\"$||\\nabla_\\mathbf{x} p(\\mathbf{x})||$\", ha=\"left\", va=\"bottom\", transform=ax.transAxes)\n",
    "\n",
    "adj.set_grids(ax, grid=False)\n",
    "ax.set_xticks([0, 1])\n",
    "ax.set_yticks([0, 1])\n",
    "ax.legend(frameon=False)\n",
    "\n",
    "\n",
    "ax = fig.add_subplot(111, frameon=False)\n",
    "# hide tick and tick label of the big axes\n",
    "plt.tick_params(labelcolor='none', top='off', bottom='off', left='off', right='off')\n",
    "ax.set_xticks([])\n",
    "ax.set_yticks([])\n",
    "ax.set_xlabel(\"$x_1$~[a.u.]\", labelpad=15)\n",
    "\n",
    "plt.subplots_adjust(wspace=0.1)\n",
    "# plt.savefig(\"figures/01_sine/sine_phase_plot.svg\", dpi=300, bbox_inches=\"tight\")\n",
    "plt.show()"
   ]
  },
  {
   "cell_type": "markdown",
   "id": "9d691296-c46c-41b1-bd0b-10af643512cc",
   "metadata": {},
   "source": [
    "## HFSVF convergence"
   ]
  },
  {
   "cell_type": "code",
   "execution_count": null,
   "id": "0afbccc1-a359-47d0-afb5-9f70a0180e25",
   "metadata": {},
   "outputs": [],
   "source": [
    "# X = np.random.random(size=(2000, 2))\n",
    "X = np.linspace(0, 1, 50)\n",
    "X = np.array([[xx, yy] for xx in X for yy in X])\n",
    "\n",
    "Y = phases.sine_on_2d_raster_observations(X)\n",
    "V = value.value_function(X, Y)"
   ]
  },
  {
   "cell_type": "code",
   "execution_count": null,
   "id": "04e18374-5eee-4bef-8584-15400d492309",
   "metadata": {},
   "outputs": [],
   "source": [
    "fig, ax = plt.subplots(1, 1, figsize=(3, 3))\n",
    "\n",
    "ax.scatter(X[:, 0], X[:, 1], c=V, s=6, marker=\"s\")\n",
    "\n",
    "plt.show()"
   ]
  },
  {
   "cell_type": "markdown",
   "id": "1f97b259-92d9-4ab5-b339-2b7b8b75280f",
   "metadata": {},
   "source": [
    "## Plot everything (possibly for the appendix)"
   ]
  },
  {
   "cell_type": "markdown",
   "id": "27feb100-044e-4bc4-ae06-f59e20ab2215",
   "metadata": {},
   "source": [
    "Load in the data. This was computed using random seeds `range(125, 155)` for the initial random conditions of 3 points and seeds `range(225,255)` for seeding `pytorch` during the Bayesian Optimization procedure."
   ]
  },
  {
   "cell_type": "code",
   "execution_count": null,
   "id": "0cf87e9d-7dbf-41f4-ac12-dee3bf9babd6",
   "metadata": {},
   "outputs": [],
   "source": [
    "results = read_data(path=\"results/results_sine2phase_sd_0_15\")"
   ]
  },
  {
   "cell_type": "code",
   "execution_count": null,
   "id": "4da13b3a-d0ff-4c66-b0a5-a05a18993344",
   "metadata": {},
   "outputs": [],
   "source": [
    "len(results)"
   ]
  },
  {
   "cell_type": "code",
   "execution_count": null,
   "id": "5bc25bbc-f0d2-4299-bbf1-f1c65352579d",
   "metadata": {},
   "outputs": [],
   "source": [
    "plotting = [\"Random\", \"MaxVar\", \"EI\", \"UCB1\", \"UCB10\", \"UCB20\", \"UCB100\"]\n",
    "aq_strings = {\"Random\": \"Random\", \"MaxVar\": \"MaxVar\", \"EI\": \"EI\", \"UCB1\": \"UCB(1)\", \"UCB10\": \"UCB(10)\", \"UCB20\": \"UCB(20)\", \"UCB100\": \"UCB(100)\"}"
   ]
  },
  {
   "cell_type": "code",
   "execution_count": null,
   "id": "d803a6c7-0285-4cc7-91a8-6e6c3fc2557b",
   "metadata": {},
   "outputs": [],
   "source": [
    "plt.clf()\n",
    "\n",
    "extent = (0, 1, 0, 1)\n",
    "scale = 2\n",
    "n_cols = 6\n",
    "fontsize = 22\n",
    "cseed = 125\n",
    "eseed = 225\n",
    "\n",
    "fig, axs = plt.subplots(len(plotting), n_cols, figsize=(n_cols * scale, len(plotting) * scale), sharey=True, sharex=True)\n",
    "\n",
    "for ii_row, (name, letter_label) in enumerate(zip(plotting, list(ascii_lowercase))):\n",
    "    for ii_col in range(n_cols):\n",
    "\n",
    "        ax = axs[ii_row, ii_col]\n",
    "\n",
    "        label = f\"({letter_label}{ii_col+1})\"\n",
    "        t = ax.text(0.1, 0.1, label, ha=\"left\", va=\"bottom\", transform=ax.transAxes, fontsize=fontsize-8)\n",
    "        t.set_bbox(dict(facecolor='white', alpha=0.8, edgecolor='white'))\n",
    "        \n",
    "        current = results[f\"sine2phase-random-{name}-seed-{cseed}-{eseed}\"]\n",
    "\n",
    "        pred = current.recorded_Yhat[ii_col + 1][\"mean\"]\n",
    "        n_reshape = int(np.sqrt(len(pred)))\n",
    "\n",
    "        im = ax.imshow(\n",
    "            pred.reshape(n_reshape, n_reshape).T,\n",
    "            interpolation='bilinear',\n",
    "            origin='lower',\n",
    "            cmap=cm.binary,\n",
    "            extent=extent\n",
    "        )\n",
    "        \n",
    "        x = np.linspace(0, 1, 100)\n",
    "        y = 0.5 + np.sin(2.0 * np.pi * x) / 4\n",
    "        ax.plot(x, y, \"y--\", linewidth=1, zorder=0)\n",
    "        \n",
    "        X_plot = current.recorded_X[ii_col + 1][:, 0]\n",
    "        Y_plot = current.recorded_X[ii_col + 1][:, 1]\n",
    "        ax.scatter(X_plot, Y_plot, s=1.0, color=\"red\")\n",
    "        \n",
    "        if ii_col == n_cols - 1:\n",
    "            ax.text(1.05, 0.5, aq_strings[name], ha=\"left\", va=\"center\", transform=ax.transAxes, rotation=90, fontsize=fontsize)\n",
    "        \n",
    "        if ii_row == 0:\n",
    "            n = len(X_plot)\n",
    "            ax.set_title(f\"$N={n}$\", fontsize=fontsize)\n",
    "            \n",
    "        if ii_col == 0:\n",
    "            X_plot = current.recorded_X[0][:, 0]\n",
    "            Y_plot = current.recorded_X[0][:, 1]\n",
    "            ax.scatter(X_plot, Y_plot, s=2, color=\"blue\")\n",
    "\n",
    "for ax in axs.flatten():\n",
    "    adj.set_grids(ax, grid=False)\n",
    "    ax.set_xticks([0, 1])\n",
    "    ax.set_yticks([0, 1])\n",
    "    ax.set_xticklabels([])\n",
    "    ax.set_yticklabels([])\n",
    "\n",
    "ax = fig.add_subplot(111, frameon=False)\n",
    "plt.tick_params(labelcolor='none', top='off', bottom='off', left='off', right='off')\n",
    "ax.set_xticks([])\n",
    "ax.set_yticks([])\n",
    "ax.set_xlabel(\"$x_1$~[a.u.]\", fontsize=fontsize)\n",
    "ax.set_ylabel(\"$x_2$~[a.u.]\", fontsize=fontsize)\n",
    "    \n",
    "plt.subplots_adjust(wspace=0.05, hspace=0.05)\n",
    "\n",
    "plt.show()\n",
    "# plt.savefig(\"figures/01_sine/sine_all.pdf\", dpi=300, bbox_inches=\"tight\")"
   ]
  },
  {
   "cell_type": "markdown",
   "id": "eca3f26d-2456-4286-8025-c3709b3b9048",
   "metadata": {},
   "source": [
    "## Metric - random initial conditions"
   ]
  },
  {
   "cell_type": "code",
   "execution_count": null,
   "id": "8903d740-1961-4f49-a483-9e482e657de9",
   "metadata": {},
   "outputs": [],
   "source": [
    "plot_kwargs = {\n",
    "    'linewidth': 0.5,\n",
    "    'marker': 's',\n",
    "    'ms': 1.0,\n",
    "    'capthick': 0.3,\n",
    "    'capsize': 2.0,\n",
    "    'elinewidth': 0.3\n",
    "}\n",
    "\n",
    "def plot_metric(ax, metrics, N_vals=[3, 40, 80, 120, 160, 200, 240], use_axhline=True, plot_kwargs=plot_kwargs):\n",
    "\n",
    "    for key, value in metrics.items():\n",
    "        value = np.array(value).reshape(-1, len(N_vals))\n",
    "        mu = value.mean(axis=0)\n",
    "        sd = value.std(axis=0)\n",
    "\n",
    "        ax.errorbar(N_vals, mu, yerr=sd/3, label=aq_strings[key], **plot_kwargs)\n",
    "\n",
    "    if use_axhline:\n",
    "        ax.axhline(0.1, linestyle=\"--\", linewidth=0.5, color=\"black\", label=\"Uniform\")\n",
    "\n",
    "    adj.set_grids(ax, grid=False)\n",
    "    ax.set_xticks(N_vals)\n",
    "    ax.tick_params(axis=\"x\", which=\"minor\", bottom=False, top=False)"
   ]
  },
  {
   "cell_type": "code",
   "execution_count": null,
   "id": "d4d8793d-fcce-4783-906d-65adcd3673cd",
   "metadata": {},
   "outputs": [],
   "source": [
    "L = len(range(125, 155))\n",
    "metrics_random = {key: [[[] for jj in range(L) ] for ii in range(L)] for key in plotting}"
   ]
  },
  {
   "cell_type": "code",
   "execution_count": null,
   "id": "02792f03-b469-4222-b7f5-8ac57e76a42f",
   "metadata": {},
   "outputs": [],
   "source": [
    "for aq_name, af in zip(aq_strings, plotting):\n",
    "    for ii, cseed in enumerate(range(125, 155)):\n",
    "        for jj, eseed in enumerate(range(225, 255)):\n",
    "\n",
    "            name = f\"sine2phase-random-{af}-seed-{cseed}-{eseed}\"\n",
    "            result = results[name]\n",
    "            points = result.recorded_X\n",
    "\n",
    "            for p in points:\n",
    "                total_points = p.shape[0]\n",
    "                x = p[:, 0]\n",
    "                y = p[:, 1]\n",
    "                y_upper = 0.55 + 0.25 * np.sin(2.0 * np.pi * x)\n",
    "                y_lower = 0.45 + 0.25 * np.sin(2.0 * np.pi * x)\n",
    "                where = np.where((y < y_upper) & (y > y_lower))[0]\n",
    "                L = len(where)\n",
    "                ratio = L / total_points\n",
    "                metrics_random[af][ii][jj].append(ratio)"
   ]
  },
  {
   "cell_type": "markdown",
   "id": "c156dcd7-a074-423f-bcdf-1607a0508bcb",
   "metadata": {},
   "source": [
    "## Metric - grid initial conditions"
   ]
  },
  {
   "cell_type": "code",
   "execution_count": null,
   "id": "688d65db-1a47-4241-9048-8be1ebaee2d5",
   "metadata": {},
   "outputs": [],
   "source": [
    "L = len(range(125, 155))\n",
    "metrics_grid = {key: [[] for ii in range(L)] for key in plotting}"
   ]
  },
  {
   "cell_type": "code",
   "execution_count": null,
   "id": "100cc273-77fc-4df4-aced-49bd5d8389c4",
   "metadata": {},
   "outputs": [],
   "source": [
    "for aq_name, af in zip(aq_strings, plotting):\n",
    "    for ii, eseed in enumerate(range(225, 255)):\n",
    "\n",
    "        name = f\"sine2phase-grid-{af}-seed-x-{eseed}\"\n",
    "        result = results[name]\n",
    "        points = result.recorded_X\n",
    "\n",
    "        for p in points:\n",
    "            total_points = p.shape[0]\n",
    "            x = p[:, 0]\n",
    "            y = p[:, 1]\n",
    "            y_upper = 0.55 + 0.25 * np.sin(2.0 * np.pi * x)\n",
    "            y_lower = 0.45 + 0.25 * np.sin(2.0 * np.pi * x)\n",
    "            where = np.where((y < y_upper) & (y > y_lower))[0]\n",
    "            L = len(where)\n",
    "            ratio = L / total_points\n",
    "            metrics_grid[af][ii].append(ratio)"
   ]
  },
  {
   "cell_type": "markdown",
   "id": "26689d0c-c27a-48e1-9fb2-33e9ee12b484",
   "metadata": {},
   "source": [
    "## Plot all metrics together"
   ]
  },
  {
   "cell_type": "code",
   "execution_count": null,
   "id": "15f3fbd8-c294-42ea-90c3-1456b19fb38b",
   "metadata": {},
   "outputs": [],
   "source": [
    "fig, axs = plt.subplots(1, 2, figsize=(4, 2), sharey=True)\n",
    "\n",
    "ax = axs[0]\n",
    "plot_metric(ax, metrics_random, N_vals=[3, 40, 80, 120, 160, 200, 240])\n",
    "ax.text(0.1, 0.9, \"$\\mu \\pm \\sigma/3$\", ha=\"left\", va=\"top\", transform=ax.transAxes)\n",
    "ax.set_ylabel(\"$N_\\mathrm{in}/N$\")\n",
    "ax.set_title(\"Random: 3-points\")\n",
    "ax.set_xticks([3, 80, 160, 240])\n",
    "\n",
    "ax = axs[1]\n",
    "plot_metric(ax, metrics_grid, N_vals=[9, 40, 80, 120, 160, 200, 240])\n",
    "ax.legend(frameon=False, bbox_to_anchor=(1.05, 0.5), loc=\"center left\")\n",
    "ax.set_title(\"Grid: 9-points\")\n",
    "ax.set_xticks([9, 80, 160, 240])\n",
    "\n",
    "# Big axis for the x-label\n",
    "ax = fig.add_subplot(111, frameon=False)\n",
    "plt.tick_params(labelcolor='none', top='off', bottom='off', left='off', right='off')\n",
    "ax.set_xticks([])\n",
    "ax.set_yticks([])\n",
    "ax.set_xlabel(\"$N$\", labelpad=15)\n",
    "\n",
    "plt.subplots_adjust(wspace=0.1)\n",
    "# plt.show()\n",
    "plt.savefig(\"figures/01_sine/sine_metric.pdf\", dpi=300, bbox_inches=\"tight\")"
   ]
  },
  {
   "cell_type": "markdown",
   "id": "0cccb661-eaf3-4432-b42d-1db6e5539930",
   "metadata": {},
   "source": [
    "## Metrics - analyze fixed $\\sigma$ values"
   ]
  },
  {
   "cell_type": "code",
   "execution_count": null,
   "id": "0895db80-7242-4002-a7ad-c62a65b05e9d",
   "metadata": {},
   "outputs": [],
   "source": [
    "tmp_results = read_data(path=\"results/results_sine2phase\")"
   ]
  },
  {
   "cell_type": "code",
   "execution_count": null,
   "id": "2251c1db-8b4a-47a7-b42f-a95e93ffac49",
   "metadata": {},
   "outputs": [],
   "source": [
    "L = len(range(125, 155))\n",
    "metrics_random_sd_val = {key: [[[] for jj in range(L)] for ii in range(L)] for key in plotting}"
   ]
  },
  {
   "cell_type": "code",
   "execution_count": null,
   "id": "a7422b9a-6f0f-48ae-a531-4abea5dea616",
   "metadata": {},
   "outputs": [],
   "source": [
    "for aq_name, af in zip(aq_strings, plotting):\n",
    "    for ii, cseed in tqdm(enumerate(range(125, 155))):\n",
    "        for jj, eseed in enumerate(range(225, 255)):\n",
    "\n",
    "            name = f\"sine2phase-random-{af}-seed-{cseed}-{eseed}\"\n",
    "            result = tmp_results[name]\n",
    "            points = result.recorded_X\n",
    "\n",
    "            for p in points:\n",
    "                X_dist = distance_matrix(p, p)\n",
    "                distance = X_dist.copy()\n",
    "                distance[distance == 0.0] = np.inf\n",
    "                sd = distance.min(axis=1).mean()\n",
    "                metrics_random_sd_val[af][ii][jj].append(sd)\n"
   ]
  },
  {
   "cell_type": "code",
   "execution_count": null,
   "id": "b01bb66a-f263-44c0-a604-6a8907b167dc",
   "metadata": {},
   "outputs": [],
   "source": [
    "fig, ax = plt.subplots(1, 1, figsize=(2, 2))\n",
    "\n",
    "N_vals = [3, 40, 80, 120, 160, 200, 240]\n",
    "\n",
    "for key, value in metrics_random_sd_val.items():\n",
    "    value = np.array(value).reshape(-1, len(N_vals))\n",
    "    mu = value.mean(axis=0)\n",
    "    sd = value.std(axis=0)\n",
    "\n",
    "    ax.errorbar(N_vals, mu, yerr=sd, label=aq_strings[key], **plot_kwargs)\n",
    "\n",
    "adj.set_grids(ax, grid=False)\n",
    "ax.set_xticks(N_vals)\n",
    "ax.tick_params(axis=\"x\", which=\"minor\", bottom=False, top=False)\n",
    "\n",
    "\n",
    "\n",
    "ax.text(0.1, 0.1, \"$\\mu \\pm \\sigma$\", ha=\"left\", va=\"bottom\", transform=ax.transAxes)\n",
    "ax.set_ylabel(\"$\\sigma(X)$\")\n",
    "ax.set_title(\"Random: 3-points\")\n",
    "ax.set_xlabel(\"$|X|$\")\n",
    "ax.set_xticks([3, 80, 160, 240])\n",
    "\n",
    "ax.legend(frameon=False, bbox_to_anchor=(1.05, 0.5), loc=\"center left\")\n",
    "ax.set_yscale(\"log\")\n",
    "\n",
    "ax.axhline(0.05, color=\"black\", linestyle=\"--\", linewidth=0.5, zorder=-1)\n",
    "ax.axhline(0.15, color=\"black\", linestyle=\"--\", linewidth=0.5, zorder=-1)\n",
    "ax.axhline(0.25, color=\"black\", linestyle=\"--\", linewidth=0.5, zorder=-1)\n",
    "\n",
    "# ax.set_yticks([1e0, 1e-1, 1e-2])\n",
    "# adj.set_ylim(ax, 1e-2, 1e0)\n",
    "\n",
    "# plt.show()\n",
    "plt.savefig(\"figures/01_sine/sine_metric_sigmas.pdf\", dpi=300, bbox_inches=\"tight\")"
   ]
  },
  {
   "cell_type": "markdown",
   "id": "2b0002b2-a9a6-4050-ae13-54f5c5b8b293",
   "metadata": {},
   "source": [
    "Plot examples."
   ]
  },
  {
   "cell_type": "code",
   "execution_count": null,
   "id": "757cd9aa-38a7-4d48-a2e8-f6173150c655",
   "metadata": {},
   "outputs": [],
   "source": [
    "tmp_results_adaptive = read_data(path=\"results/results_sine2phase\")\n",
    "tmp_results_005 = read_data(path=\"results/results_sine2phase_sd_0_05\")\n",
    "tmp_results_015 = read_data(path=\"results/results_sine2phase_sd_0_15\")\n",
    "tmp_results_025 = read_data(path=\"results/results_sine2phase_sd_0_25\")"
   ]
  },
  {
   "cell_type": "code",
   "execution_count": null,
   "id": "58cc4ec8-1938-44a4-9d2e-ee86f0d84182",
   "metadata": {},
   "outputs": [],
   "source": [
    "plt.clf()\n",
    "\n",
    "\n",
    "results_list = [tmp_results_005, tmp_results_015, tmp_results_025, tmp_results_adaptive]\n",
    "\n",
    "extent = (0, 1, 0, 1)\n",
    "scale = 2\n",
    "n_cols = len(results_list)\n",
    "fontsize = 22\n",
    "cseed = 125\n",
    "eseed = 225\n",
    "\n",
    "\n",
    "\n",
    "fig, axs = plt.subplots(len(plotting), n_cols, figsize=(n_cols * scale, len(plotting) * scale), sharey=True, sharex=True)\n",
    "\n",
    "for ii_row, (name, letter_label) in enumerate(zip(plotting, list(ascii_lowercase))):\n",
    "    for ii_col, res in enumerate(results_list):\n",
    "\n",
    "        ax = axs[ii_row, ii_col]\n",
    "\n",
    "        label = f\"({letter_label}{ii_col+1})\"\n",
    "        t = ax.text(0.1, 0.1, label, ha=\"left\", va=\"bottom\", transform=ax.transAxes, fontsize=fontsize-8)\n",
    "        t.set_bbox(dict(facecolor='white', alpha=0.8, edgecolor='white'))\n",
    "        \n",
    "        current = res[f\"sine2phase-random-{name}-seed-{cseed}-{eseed}\"]\n",
    "\n",
    "        pred = current.recorded_Yhat[-1][\"mean\"]  # N = 240\n",
    "        n_reshape = int(np.sqrt(len(pred)))\n",
    "\n",
    "        im = ax.imshow(\n",
    "            pred.reshape(n_reshape, n_reshape).T,\n",
    "            interpolation='bilinear',\n",
    "            origin='lower',\n",
    "            cmap=cm.binary,\n",
    "            extent=extent\n",
    "        )\n",
    "        \n",
    "        x = np.linspace(0, 1, 100)\n",
    "        y = 0.5 + np.sin(2.0 * np.pi * x) / 4\n",
    "        ax.plot(x, y, \"y--\", linewidth=1, zorder=0)\n",
    "        \n",
    "        X_plot = current.recorded_X[-1][:, 0]\n",
    "        Y_plot = current.recorded_X[-1][:, 1]\n",
    "        ax.scatter(X_plot, Y_plot, s=1.0, color=\"red\")\n",
    "        \n",
    "        if ii_col == n_cols - 1:\n",
    "            ax.text(1.05, 0.5, aq_strings[name], ha=\"left\", va=\"center\", transform=ax.transAxes, rotation=90, fontsize=fontsize)\n",
    "            \n",
    "        X_plot = current.recorded_X[0][:, 0]\n",
    "        Y_plot = current.recorded_X[0][:, 1]\n",
    "        ax.scatter(X_plot, Y_plot, s=2, color=\"blue\")\n",
    "\n",
    "for ax in axs.flatten():\n",
    "    adj.set_grids(ax, grid=False)\n",
    "    ax.set_xticks([0, 1])\n",
    "    ax.set_yticks([0, 1])\n",
    "    ax.set_xticklabels([])\n",
    "    ax.set_yticklabels([])\n",
    "\n",
    "    \n",
    "titles = [r\"$\\sigma=0.05$\", r\"$\\sigma=0.15$\", r\"$\\sigma=0.25$\", r\"Unconstrained\"]\n",
    "for title, ax in zip(titles, axs[0,:]):\n",
    "    ax.set_title(title, fontsize=fontsize)\n",
    "\n",
    "    \n",
    "ax = fig.add_subplot(111, frameon=False)\n",
    "plt.tick_params(labelcolor='none', top='off', bottom='off', left='off', right='off')\n",
    "ax.set_xticks([])\n",
    "ax.set_yticks([])\n",
    "ax.set_xlabel(\"$x_1$~[a.u.]\", fontsize=fontsize)\n",
    "ax.set_ylabel(\"$x_2$~[a.u.]\", fontsize=fontsize)\n",
    "    \n",
    "plt.subplots_adjust(wspace=0.05, hspace=0.05)\n",
    "\n",
    "# plt.show()\n",
    "plt.savefig(\"figures/01_sine/sine_all_different_sigma.pdf\", dpi=300, bbox_inches=\"tight\")"
   ]
  },
  {
   "cell_type": "markdown",
   "id": "e2d485c8-8069-45d0-a018-c7b609a69c0b",
   "metadata": {},
   "source": [
    "## Analyze the distribution of where the points actually are"
   ]
  },
  {
   "cell_type": "code",
   "execution_count": null,
   "id": "8ede7a5f-7566-4a51-b15a-aea391abc321",
   "metadata": {},
   "outputs": [],
   "source": [
    "N_N_vals = 7"
   ]
  },
  {
   "cell_type": "code",
   "execution_count": null,
   "id": "fd400675-0d5f-499c-8271-417b529026e8",
   "metadata": {},
   "outputs": [],
   "source": [
    "dist_random = {key: [[] for ii in range(N_N_vals)] for key in plotting}\n",
    "for af in plotting:\n",
    "    for ii, cseed in enumerate(range(125, 155)):\n",
    "        for jj, eseed in enumerate(range(225, 255)):\n",
    "\n",
    "            name = f\"sine2phase-random-{af}-seed-{cseed}-{eseed}\"\n",
    "            result = results[name]\n",
    "            points = result.recorded_X\n",
    "\n",
    "            for kk, p in enumerate(points):\n",
    "                dist_random[af][kk].append(p)\n",
    "\n",
    "dist_grid = {key: [[] for ii in range(N_N_vals)] for key in plotting}\n",
    "for af in plotting:\n",
    "    for jj, eseed in enumerate(range(225, 255)):\n",
    "\n",
    "        name = f\"sine2phase-grid-{af}-seed-x-{eseed}\"\n",
    "        result = results[name]\n",
    "        points = result.recorded_X\n",
    "\n",
    "        for kk, p in enumerate(points):\n",
    "            dist_grid[af][kk].append(p)"
   ]
  },
  {
   "cell_type": "code",
   "execution_count": null,
   "id": "666f9428-05b4-45a9-a127-9c1ad610f6f9",
   "metadata": {},
   "outputs": [],
   "source": [
    "dist_grid.keys()"
   ]
  },
  {
   "cell_type": "code",
   "execution_count": null,
   "id": "eee86514-ec3e-4d1e-8dee-47100defac16",
   "metadata": {},
   "outputs": [],
   "source": [
    "type(dist)"
   ]
  },
  {
   "cell_type": "code",
   "execution_count": null,
   "id": "1e3976ac-3540-45dc-b129-33ba5480b342",
   "metadata": {},
   "outputs": [],
   "source": [
    "scale = 2\n",
    "n_cols = 6\n",
    "fontsize = 22\n",
    "\n",
    "dist = dist_random\n",
    "name = \"random\"\n",
    "\n",
    "fig, axs = plt.subplots(N_N_vals, n_cols, figsize=(n_cols * scale, len(plotting) * scale), sharex=True, sharey=True)\n",
    "\n",
    "cmap = cm.get_cmap(\"plasma\", n_cols + 1)\n",
    "\n",
    "for row, ((key, value), letter_label) in enumerate(zip(dist.items(), ascii_lowercase)) :\n",
    "    for n in range(1, N_N_vals):\n",
    "        \n",
    "        ax = axs[row, n - 1]\n",
    "        \n",
    "        label = f\"({letter_label}{n})\"\n",
    "        t = ax.text(0.1, 0.9, label, ha=\"left\", va=\"top\", transform=ax.transAxes, fontsize=fontsize-8)\n",
    "        t.set_bbox(dict(facecolor='white', alpha=0.8, edgecolor='white'))\n",
    "        \n",
    "        v = np.array(value[n])\n",
    "        ax.hist(v[:, :, 0].flatten(), density=True, bins=20, color=cmap(n - 1))\n",
    "        \n",
    "        if row == 0:\n",
    "            n = v.shape[1]\n",
    "            ax.set_title(f\"$N={n}$\", fontsize=fontsize)\n",
    "\n",
    "# Label the rows\n",
    "for ii, key in enumerate(dist.keys()):\n",
    "    ax = axs[ii, -1]\n",
    "    ax.text(1.05, 0.5, aq_strings[key], ha=\"left\", va=\"center\", transform=ax.transAxes, rotation=90, fontsize=fontsize)\n",
    "    \n",
    "for ax in axs.flatten():\n",
    "    adj.set_grids(ax, grid=False)\n",
    "    ax.set_yticks([])\n",
    "\n",
    "ax = fig.add_subplot(111, frameon=False)\n",
    "# hide tick and tick label of the big axes\n",
    "plt.tick_params(labelcolor='none', top='off', bottom='off', left='off', right='off')\n",
    "ax.set_xticks([])\n",
    "ax.set_yticks([])\n",
    "ax.set_xlabel(r\"$x_1$~[a.u.]\", labelpad=15, fontsize=fontsize)\n",
    "ax.set_ylabel(r\"$\\rho_\\mathrm{Counts}(x_1)$\", labelpad=10, fontsize=fontsize)\n",
    "    \n",
    "plt.subplots_adjust(wspace=0.05, hspace=0.05)\n",
    "plt.savefig(f\"figures/01_sine/sine_hist_{name}.pdf\", bbox_inches=\"tight\", dpi=300)\n",
    "# plt.show()"
   ]
  },
  {
   "cell_type": "markdown",
   "id": "8baf129d-32d3-4f15-b6ff-f9ef2a954fd0",
   "metadata": {
    "jp-MarkdownHeadingCollapsed": true,
    "tags": []
   },
   "source": [
    "# Four-phase result"
   ]
  },
  {
   "cell_type": "code",
   "execution_count": null,
   "id": "481e36ed-2b03-4907-97b3-e8587463e493",
   "metadata": {},
   "outputs": [],
   "source": [
    "# results = dict()\n",
    "# for file in Path(\"results\").rglob(\"xrd4phase*.json\"):\n",
    "#     if \"gridstart\" in str(file):\n",
    "#         continue\n",
    "#     with open(file, \"r\") as f:\n",
    "#         d = json.loads(json.load(f))\n",
    "#     c = experiments.Experiment.from_dict(d)\n",
    "#     results[str(c.name)] = c"
   ]
  },
  {
   "cell_type": "code",
   "execution_count": null,
   "id": "db6248ff-c099-492a-802a-5b66c522de2f",
   "metadata": {},
   "outputs": [],
   "source": [
    "results = dict()\n",
    "for file in Path(\"results\").rglob(\"xrd4phase-gridstart*.json\"):\n",
    "    with open(file, \"r\") as f:\n",
    "        d = json.loads(json.load(f))\n",
    "    c = experiments.Experiment.from_dict(d)\n",
    "    results[str(c.name)] = c"
   ]
  },
  {
   "cell_type": "code",
   "execution_count": null,
   "id": "19bf4ffa-534a-41b3-b5c5-769e19add80a",
   "metadata": {},
   "outputs": [],
   "source": [
    "plotting = [\"Random\", \"MaxVar\", \"EI\", \"UCB(1)\", \"UCB(10)\", \"UCB(20)\", \"UCB(100)\"]"
   ]
  },
  {
   "cell_type": "code",
   "execution_count": null,
   "id": "1a85e5d7-7d56-439b-b76c-1f245ccd480f",
   "metadata": {},
   "outputs": [],
   "source": [
    "plt.clf()\n",
    "\n",
    "extent = (0, 1, 0, 1)\n",
    "scale = 2\n",
    "n_cols = 6\n",
    "fontsize = 22\n",
    "seed = 125\n",
    "\n",
    "fig, axs = plt.subplots(len(plotting), n_cols, figsize=(n_cols * scale, len(plotting) * scale), sharey=True, sharex=True)\n",
    "\n",
    "for ii_row, (name, letter_label) in enumerate(zip(plotting, list(ascii_lowercase))):\n",
    "    for ii_col in range(n_cols):\n",
    "\n",
    "        ax = axs[ii_row, ii_col]\n",
    "\n",
    "        label = f\"({letter_label}{ii_col+1})\"\n",
    "        t = ax.text(0.5, 0.1, label, ha=\"center\", va=\"bottom\", transform=ax.transAxes, fontsize=fontsize-8)\n",
    "        t.set_bbox(dict(facecolor='white', alpha=0.8, edgecolor='white'))\n",
    "        \n",
    "        # current = results[f\"xrd4phase-{name}-seed={seed}\"]\n",
    "        current = results[f\"xrd4phase-gridstart-{name}\"]\n",
    "\n",
    "        pred = current.recorded_Yhat[ii_col + 1][\"mean\"]\n",
    "        n_reshape = int(np.sqrt(len(pred)))\n",
    "\n",
    "        im = ax.imshow(\n",
    "            pred.reshape(n_reshape, n_reshape).T,\n",
    "            interpolation='bilinear',\n",
    "            origin='lower',\n",
    "            cmap=cm.binary,\n",
    "            extent=extent\n",
    "        )\n",
    "        \n",
    "        X_plot = current.recorded_X[ii_col + 1][:, 0]\n",
    "        Y_plot = current.recorded_X[ii_col + 1][:, 1]\n",
    "        ax.scatter(X_plot, Y_plot, s=1.0, color=\"red\")\n",
    "        \n",
    "        if ii_col == n_cols - 1:\n",
    "            ax.text(1.05, 0.5, name, ha=\"left\", va=\"center\", transform=ax.transAxes, rotation=90, fontsize=fontsize)\n",
    "        \n",
    "        if ii_row == 0:\n",
    "            n = len(X_plot)\n",
    "            ax.set_title(f\"$N={n}$\", fontsize=fontsize)\n",
    "            \n",
    "        if ii_col == 0:\n",
    "            X_plot = current.recorded_X[0][:, 0]\n",
    "            Y_plot = current.recorded_X[0][:, 1]\n",
    "            ax.scatter(X_plot, Y_plot, s=2, color=\"blue\")\n",
    "\n",
    "for ax in axs.flatten():\n",
    "    adj.set_grids(ax, grid=False)\n",
    "    ax.set_xticks([0, 1])\n",
    "    ax.set_yticks([0, 1])\n",
    "    ax.set_xticklabels([])\n",
    "    ax.set_yticklabels([])\n",
    "\n",
    "ax = fig.add_subplot(111, frameon=False)\n",
    "plt.tick_params(labelcolor='none', top='off', bottom='off', left='off', right='off')\n",
    "ax.set_xticks([])\n",
    "ax.set_yticks([])\n",
    "ax.set_xlabel(\"$x_1$~[a.u.]\", fontsize=fontsize)\n",
    "ax.set_ylabel(\"$x_2$~[a.u.]\", fontsize=fontsize)\n",
    "\n",
    "plt.subplots_adjust(wspace=0.05, hspace=0.05)\n",
    "\n",
    "plt.show()\n",
    "# plt.savefig(\"figures/02_four_phase/four_phase_all.pdf\", dpi=300, bbox_inches=\"tight\")"
   ]
  },
  {
   "cell_type": "markdown",
   "id": "11b7041b-a970-4b70-a12b-6fb8515e02ea",
   "metadata": {},
   "source": [
    "# UV"
   ]
  },
  {
   "cell_type": "code",
   "execution_count": null,
   "id": "a0d820c5-6a1e-42bf-b0dd-7353ea197334",
   "metadata": {},
   "outputs": [],
   "source": [
    "df = pd.read_csv(\"value_agent/uv_data.csv\")\n",
    "X = df[[\"NCit\", \"pH\", \"HA\"]].to_numpy()\n",
    "X[:, 1] += 16.0\n",
    "Y = df.iloc[:, 4:].to_numpy()"
   ]
  },
  {
   "cell_type": "code",
   "execution_count": null,
   "id": "cf520564-ff22-4c1b-b7ec-6aca6406c93f",
   "metadata": {},
   "outputs": [],
   "source": [
    "df"
   ]
  },
  {
   "cell_type": "code",
   "execution_count": null,
   "id": "f9fa9c20-7a59-4550-ac65-40c73c31c9c6",
   "metadata": {},
   "outputs": [],
   "source": [
    "x0 = np.linspace(X[:, 0].min(), X[:, 0].max(), 20)\n",
    "x1 = np.linspace(X[:, 1].min(), X[:, 1].max(), 20)\n",
    "x2 = np.linspace(X[:, 2].min(), X[:, 2].max(), 20)\n",
    "coordinates = np.array([ [xx, yy, zz] for xx in x0 for yy in x1 for zz in x2 ])"
   ]
  },
  {
   "cell_type": "code",
   "execution_count": null,
   "id": "6ac3aace-01c9-4757-a181-abc0e04283f2",
   "metadata": {},
   "outputs": [],
   "source": [
    "obs = phases.truth_uv(coordinates)\n",
    "value_truth = value.value_function(coordinates, obs)"
   ]
  },
  {
   "cell_type": "code",
   "execution_count": null,
   "id": "5bdcd640-d33a-488b-9e20-1fec0079c31d",
   "metadata": {},
   "outputs": [],
   "source": [
    "dat = experiments.UVData.from_random(truth=phases.truth_uv, xmin=X.min(axis=0), xmax=X.max(axis=0), seed=125)"
   ]
  },
  {
   "cell_type": "markdown",
   "id": "4e6b86b5-fc36-4d21-9bce-26427c03dbce",
   "metadata": {},
   "source": [
    "We can do some simple Bayesian optimization under constraint. From the botorch docs:\n",
    "\n",
    "> inequality_constraints (Optional[List[Tuple[Tensor, Tensor, float]]]) – A list of tuples (indices, coefficients, rhs), with each tuple encoding an inequality constraint of the form sum_i (X[indices[i]] * coefficients[i]) >= rhs\n",
    "\n",
    "Let's do a simple constraint where we want $x_1 + x_2 >= -1$. which would lead to a constraint `[(torch.tensor([0, 1]), torch.tensor([1, 1]), -1)]`"
   ]
  },
  {
   "cell_type": "markdown",
   "id": "f5b603a3-096b-4dfb-963c-c3d50e3515f8",
   "metadata": {},
   "source": [
    "$x_1 + x_2 + x_3 \\leq 56 \\Rightarrow -x_1 - x_2 - x_3 \\geq -56$"
   ]
  },
  {
   "cell_type": "code",
   "execution_count": null,
   "id": "e1f7ad3e-d57f-4522-ab60-b29944bfc039",
   "metadata": {},
   "outputs": [],
   "source": [
    "inequality_constraints=[(torch.tensor([0, 1, 2]), torch.tensor([-1, -1, -1]).float(), -56.0)]"
   ]
  },
  {
   "cell_type": "code",
   "execution_count": null,
   "id": "221064d3-d04a-4474-8f4c-d3a949ce99f2",
   "metadata": {},
   "outputs": [],
   "source": [
    "exp = experiments.Experiment(\n",
    "    dat,\n",
    "    aqf=\"EI\",\n",
    "    # aqf_kwargs={\"beta\": 100.0},\n",
    "    optimize_acqf_kwargs={\"q\": 1, \"num_restarts\": 5, \"raw_samples\": 20, \"inequality_constraints\": inequality_constraints}\n",
    ")"
   ]
  },
  {
   "cell_type": "code",
   "execution_count": null,
   "id": "18c82c57-1799-4db5-9346-f46002179e29",
   "metadata": {},
   "outputs": [],
   "source": [
    "exp.run(pbar=True, n_experiments=320)"
   ]
  },
  {
   "cell_type": "code",
   "execution_count": null,
   "id": "71ad2f1e-625f-46f7-9b33-e7372bdc8b99",
   "metadata": {},
   "outputs": [],
   "source": [
    "x = exp.recorded_X[-1]\n",
    "v = value.value_function(x, phases.truth_uv(x))"
   ]
  },
  {
   "cell_type": "code",
   "execution_count": null,
   "id": "c76f1380-048f-4aa5-8d7f-39dfaefff5f3",
   "metadata": {
    "tags": []
   },
   "outputs": [],
   "source": [
    "scat = go.Scatter3d(\n",
    "    x=x[:, 0],\n",
    "    y=x[:, 1] - 16.0,\n",
    "    z=x[:, 2],\n",
    "    marker=dict(color=v, size=5),\n",
    "    marker_colorscale=\"viridis\",\n",
    "    mode='markers'\n",
    ")\n",
    "\n",
    "# mesh = go.Mesh3d( \n",
    "#     x=X.flatten(),\n",
    "#     y=Y.flatten(),\n",
    "#     z=Z.flatten(),\n",
    "#     colorbar_title='Height',\n",
    "#     intensity=preds,\n",
    "#     showscale=True,\n",
    "#     opacity=0.750,\n",
    "#     alphahull=10,\n",
    "#     colorscale=\"viridis\"\n",
    "# )\n",
    "\n",
    "fig = go.Figure(data=[scat])\n",
    "\n",
    "fig.update_layout(\n",
    "    # title='something', \n",
    "    autosize=False,\n",
    "    width=500, \n",
    "    height=500,\n",
    "    margin=dict(l=0, r=0, b=0, t=0),\n",
    "    scene=dict(\n",
    "        xaxis_title=\"NCit\",\n",
    "        yaxis_title='\"pH\"',\n",
    "        zaxis_title=\"HA\",\n",
    "    ),\n",
    ")\n",
    "\n",
    "fig.show()\n",
    "# fig.write_image(\"test.pdf\")\n",
    "# plt.savefig(\"test.pdf\", bbox_inches=\"tight\", dpi=300)"
   ]
  },
  {
   "cell_type": "markdown",
   "id": "9bc56e3a-d952-44f8-ac78-5e1fc3069c4b",
   "metadata": {},
   "source": [
    "Close and far points:"
   ]
  },
  {
   "cell_type": "code",
   "execution_count": null,
   "id": "417cc501-aed2-4814-a4de-61f820ff922e",
   "metadata": {},
   "outputs": [],
   "source": [
    "obs_1 = phases.truth_uv(np.array([[7.2, -11.4 + 16.0, 12.87]]))\n",
    "obs_2 = phases.truth_uv(np.array([[7.5, -12.68 + 16.0, 12.34]]))\n",
    "\n",
    "obs_3 = phases.truth_uv(np.array([[7.04, -13.12 + 16.0, 2.61]]))\n",
    "obs_4 = phases.truth_uv(np.array([[6.95, -14.89 + 16.0, 4.55]]))"
   ]
  },
  {
   "cell_type": "code",
   "execution_count": null,
   "id": "4384c10d-b4ef-49b4-887a-187c9fc26801",
   "metadata": {},
   "outputs": [],
   "source": [
    "fig, ax = plt.subplots(1, 1, figsize=(3, 2))\n",
    "\n",
    "ax.plot(obs_1.squeeze(), \"r-\")\n",
    "ax.plot(obs_2.squeeze(), \"r-\")\n",
    "ax.plot(obs_3.squeeze(), \"b-\")\n",
    "ax.plot(obs_4.squeeze(), \"c-\")\n",
    "\n",
    "plt.show()"
   ]
  },
  {
   "cell_type": "code",
   "execution_count": null,
   "id": "c78de9cf-7f2c-4799-9c79-e19c82d62337",
   "metadata": {},
   "outputs": [],
   "source": []
  },
  {
   "cell_type": "code",
   "execution_count": null,
   "id": "863d8712-3c5a-4679-a4e9-c68cfea3c664",
   "metadata": {},
   "outputs": [],
   "source": [
    "value_truth_original_data = value.value_function(X, Y)"
   ]
  },
  {
   "cell_type": "code",
   "execution_count": null,
   "id": "c7030b66-91cf-4e77-8a11-c3588df5e4ff",
   "metadata": {},
   "outputs": [],
   "source": [
    "value_truth_3d = value_truth.reshape(20, 20, 20)"
   ]
  },
  {
   "cell_type": "code",
   "execution_count": null,
   "id": "ef8c15f7-ab29-4e95-bb0b-c521381fea26",
   "metadata": {},
   "outputs": [],
   "source": [
    "obs_3d = obs.reshape(20, 20, 20, 200)"
   ]
  },
  {
   "cell_type": "code",
   "execution_count": null,
   "id": "22832f6e-062f-4f4b-8d72-91a92b414cb3",
   "metadata": {},
   "outputs": [],
   "source": [
    "obs_3d_gradient = np.sqrt((np.array(np.gradient(obs_3d)[:3]).mean(axis=-1)**2).sum(axis=0))"
   ]
  },
  {
   "cell_type": "code",
   "execution_count": null,
   "id": "869dd020-87a7-453d-b375-aa9fb8c79f61",
   "metadata": {},
   "outputs": [],
   "source": [
    "x_recorded = exp.recorded_X[-1]\n",
    "yhat_recorded = exp.recorded_Yhat[-1][\"mean\"].reshape(100, 100, 100)\n",
    "v = value.value_function(x_recorded, phases.truth_uv(x_recorded))"
   ]
  },
  {
   "cell_type": "code",
   "execution_count": null,
   "id": "1e88a182-a396-4ccc-b312-106a5ad77475",
   "metadata": {},
   "outputs": [],
   "source": [
    "x_recorded_mins = X.min(axis=0) - np.array([0, 16, 0])\n",
    "x_recorded_maxs = X.max(axis=0) - np.array([0, 16, 0])"
   ]
  },
  {
   "cell_type": "code",
   "execution_count": null,
   "id": "9d429a3f-a441-4190-b34c-0e7e159a882a",
   "metadata": {},
   "outputs": [],
   "source": [
    "shift_min = x_recorded.min(axis=0)\n",
    "shifted = (x_recorded - shift_min)\n",
    "shift_max = shifted.max(axis=0)\n",
    "x_recorded = shifted / shift_max"
   ]
  },
  {
   "cell_type": "code",
   "execution_count": null,
   "id": "87c0a254-8526-4e8f-bb03-9160d1c216fc",
   "metadata": {},
   "outputs": [],
   "source": [
    "fig, axs = plt.subplots(1, 3, figsize=(6, 2), sharey=True)\n",
    "\n",
    "dim0 = 0\n",
    "dim1 = 1\n",
    "dim2 = 2\n",
    "\n",
    "ax = axs[0]\n",
    "ax.scatter(x_recorded[:, dim0], x_recorded[:, dim1], x_recorded[:, dim2], c=v)\n",
    "im = ax.imshow(yhat_recorded.mean(axis=-1).T, interpolation='bilinear', origin='lower', cmap=cm.binary, extent=[0, 1, 0, 1])\n",
    "# ax.scatter(X_shifted[:, dim0], X_shifted[:, dim1], color=\"red\")\n",
    "ax.set_yticks([0, 1.0])\n",
    "ax.set_yticklabels([x_recorded_mins[dim1], x_recorded_maxs[dim1]])\n",
    "ax.set_xticks([0, 1.0])\n",
    "ax.set_xticklabels([x_recorded_mins[dim0], x_recorded_maxs[dim0]])\n",
    "adj.set_grids(ax, grid=False)\n",
    "\n",
    "ax = axs[1]\n",
    "im = ax.imshow(value_truth_3d.mean(axis=-1).T, interpolation='bilinear', origin='lower', cmap=cm.binary, extent=[0, 1, 0, 1])\n",
    "# ax.scatter(x_recorded[:, dim0], x_recorded[:, dim1], s=0.5, c=v)\n",
    "# ax.scatter(X_shifted[:, dim0], X_shifted[:, dim1], color=\"red\")\n",
    "ax.set_yticks([0, 1.0])\n",
    "ax.set_yticklabels([x_recorded_mins[dim1], x_recorded_maxs[dim1]])\n",
    "ax.set_xticks([0, 1.0])\n",
    "ax.set_xticklabels([x_recorded_mins[dim0], x_recorded_maxs[dim0]])\n",
    "adj.set_grids(ax, grid=False)\n",
    "\n",
    "\n",
    "# ax.scatter(X_shifted[:, dim0], X_shifted[:, dim1], color=\"red\")\n",
    "\n",
    "ax = axs[2]\n",
    "# ax.scatter(x_recorded[:, dim0], x_recorded[:, dim1], s=0.5, c=v)\n",
    "im = ax.imshow(obs_3d_gradient.mean(axis=-1).T, interpolation='bilinear', origin='lower', cmap=cm.binary, extent=[0, 1, 0, 1])\n",
    "ax.set_yticks([0, 1.0])\n",
    "ax.set_yticklabels([x_recorded_mins[dim1], x_recorded_maxs[dim1]])\n",
    "ax.set_xticks([0, 1.0])\n",
    "ax.set_xticklabels([x_recorded_mins[dim0], x_recorded_maxs[dim0]])\n",
    "adj.set_grids(ax, grid=False)\n",
    "\n",
    "\n",
    "axs[1].set_xlabel(\"[NCit]\")\n",
    "axs[0].set_ylabel(\"pH\")\n",
    "\n",
    "plt.show()\n"
   ]
  },
  {
   "cell_type": "code",
   "execution_count": null,
   "id": "0e522eaf-7e0b-4ba4-8e89-ae4ad2b22b2f",
   "metadata": {},
   "outputs": [],
   "source": []
  },
  {
   "cell_type": "code",
   "execution_count": null,
   "id": "72a9227e-9636-4478-9f29-ff5628e364c7",
   "metadata": {},
   "outputs": [],
   "source": []
  },
  {
   "cell_type": "code",
   "execution_count": null,
   "id": "ad054a83-990d-4be5-a7b7-f4c5d770d0f6",
   "metadata": {},
   "outputs": [],
   "source": []
  },
  {
   "cell_type": "code",
   "execution_count": null,
   "id": "28b806bb-d76b-49ec-9d4c-049bd797d132",
   "metadata": {},
   "outputs": [],
   "source": [
    "ii = 10\n",
    "jj = 200\n",
    "N = 50"
   ]
  },
  {
   "cell_type": "code",
   "execution_count": null,
   "id": "f4529aa9-f272-4a08-af5c-af752fd54944",
   "metadata": {},
   "outputs": [],
   "source": [
    "x0 = np.linspace(X[ii, 0], X[jj, 0], N)\n",
    "x1 = np.linspace(X[ii, 1], X[jj, 1], N)\n",
    "x2 = np.linspace(X[ii, 2], X[jj, 2], N)"
   ]
  },
  {
   "cell_type": "code",
   "execution_count": null,
   "id": "9db03eb5-717f-4bf1-886b-e841ae22ad4c",
   "metadata": {},
   "outputs": [],
   "source": [
    "X_test = np.array([x0, x1, x2]).T"
   ]
  },
  {
   "cell_type": "code",
   "execution_count": null,
   "id": "f577dfd3-e11b-4275-98ef-f5c20663462e",
   "metadata": {},
   "outputs": [],
   "source": [
    "# Y_test = phases.truth_uv(X_test) \n",
    "Y_test = phases.truth_uv(X_test)"
   ]
  },
  {
   "cell_type": "code",
   "execution_count": null,
   "id": "6baf2cda-c8ec-4e5c-9169-bf296ec20afa",
   "metadata": {},
   "outputs": [],
   "source": [
    "cmap = cm.get_cmap(\"viridis\", N)"
   ]
  },
  {
   "cell_type": "code",
   "execution_count": null,
   "id": "ef0f7b5d-21c9-471f-a1d7-07ab7411510d",
   "metadata": {},
   "outputs": [],
   "source": [
    "xgrid = np.linspace(450, 750, 200)"
   ]
  },
  {
   "cell_type": "code",
   "execution_count": null,
   "id": "49374012-c400-461c-bcdf-bff7185dbd72",
   "metadata": {},
   "outputs": [],
   "source": [
    "fig, ax = plt.subplots(1, 1, figsize=(3, 2))\n",
    "\n",
    "for kk, y in enumerate(Y_test):\n",
    "    ax.plot(xgrid, y, color=cmap(kk))\n",
    "\n",
    "ax.plot(xgrid, Y[ii, :], \"k--\")\n",
    "ax.plot(xgrid, Y[jj, :], \"k--\")\n",
    "\n",
    "plt.show()"
   ]
  },
  {
   "cell_type": "code",
   "execution_count": null,
   "id": "061fe53d-a471-4389-a244-002efc6022c0",
   "metadata": {},
   "outputs": [],
   "source": [
    "x_grid"
   ]
  },
  {
   "cell_type": "code",
   "execution_count": null,
   "id": "dcca4405-d81d-4563-8e92-527047aef0e4",
   "metadata": {},
   "outputs": [],
   "source": []
  }
 ],
 "metadata": {
  "kernelspec": {
   "display_name": "Python 3 (ipykernel)",
   "language": "python",
   "name": "python3"
  },
  "language_info": {
   "codemirror_mode": {
    "name": "ipython",
    "version": 3
   },
   "file_extension": ".py",
   "mimetype": "text/x-python",
   "name": "python",
   "nbconvert_exporter": "python",
   "pygments_lexer": "ipython3",
   "version": "3.9.13"
  }
 },
 "nbformat": 4,
 "nbformat_minor": 5
}
