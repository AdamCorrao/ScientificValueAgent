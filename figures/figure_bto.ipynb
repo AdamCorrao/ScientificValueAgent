{
 "cells": [
  {
   "cell_type": "code",
   "execution_count": null,
   "id": "9b0f74b9-cb13-4f43-bf4b-afe47baf145f",
   "metadata": {},
   "outputs": [],
   "source": [
    "%load_ext autoreload\n",
    "%autoreload 2\n",
    "%config Completer.use_jedi = False"
   ]
  },
  {
   "cell_type": "markdown",
   "id": "bb6d903c-d364-4598-8e03-f735f12463c6",
   "metadata": {},
   "source": [
    "Notebook local path should be at `ScientificValueAgent/figures`."
   ]
  },
  {
   "cell_type": "code",
   "execution_count": null,
   "id": "68d9ceee-3f21-446a-b48a-092d5bb511c9",
   "metadata": {},
   "outputs": [],
   "source": [
    "import sys\n",
    "sys.path.append(\"..\")"
   ]
  },
  {
   "cell_type": "code",
   "execution_count": null,
   "id": "e8e3981a-c176-4f5c-b0d4-2445e277bab1",
   "metadata": {},
   "outputs": [],
   "source": [
    "from collections import Counter\n",
    "from itertools import product\n",
    "from pathlib import Path\n",
    "\n",
    "import matplotlib.pyplot as plt\n",
    "import matplotlib as mpl\n",
    "import numpy as np\n",
    "import pickle\n",
    "from scipy.stats import pearsonr\n",
    "from tqdm import tqdm\n",
    "import xarray as xr"
   ]
  },
  {
   "cell_type": "code",
   "execution_count": null,
   "id": "8fc26b18-c721-453c-bd35-8271421cd30b",
   "metadata": {},
   "outputs": [],
   "source": [
    "from sva import utils"
   ]
  },
  {
   "cell_type": "markdown",
   "id": "48186279-79f9-46f6-ae02-9796a9296980",
   "metadata": {},
   "source": [
    "Set some plotting defaults."
   ]
  },
  {
   "cell_type": "code",
   "execution_count": null,
   "id": "599e9082-d385-48dd-b341-07a133dd0157",
   "metadata": {},
   "outputs": [],
   "source": [
    "utils.set_defaults()"
   ]
  },
  {
   "cell_type": "markdown",
   "id": "2cad6ac1-6915-4f9a-8090-a4b9871c7a81",
   "metadata": {
    "tags": []
   },
   "source": [
    "# BTO results"
   ]
  },
  {
   "cell_type": "code",
   "execution_count": null,
   "id": "cf0fc662-3a56-4bfa-a792-66204d731111",
   "metadata": {},
   "outputs": [],
   "source": [
    "from sva.postprocessing import read_data, parse_results_by_acquisition_function\n",
    "from sva.truth.bto import cmf_predicted_mse, bto_compute_metrics_all_acquisition_functions_and_LTB, truth_bto"
   ]
  },
  {
   "cell_type": "code",
   "execution_count": null,
   "id": "ba98eb8c-d355-429a-8a33-f6fc70edd262",
   "metadata": {},
   "outputs": [],
   "source": [
    "results_Adam = read_data(\"results/results_23-01-20_bto2\")"
   ]
  },
  {
   "cell_type": "code",
   "execution_count": null,
   "id": "008c577d-5caa-4b89-b069-449c83a5878f",
   "metadata": {},
   "outputs": [],
   "source": [
    "results_by_acqf_Adam = parse_results_by_acquisition_function(results_Adam)"
   ]
  },
  {
   "cell_type": "code",
   "execution_count": null,
   "id": "b27be10d-bc97-4400-b9f4-886b91255150",
   "metadata": {},
   "outputs": [],
   "source": [
    "cache = Path(\"cache\")\n",
    "cache.mkdir(exist_ok=True)"
   ]
  },
  {
   "cell_type": "markdown",
   "id": "4bffcfcb-fbf8-4760-bc67-53312d2ac7ea",
   "metadata": {
    "tags": []
   },
   "source": [
    "## Core manuscript figure"
   ]
  },
  {
   "cell_type": "markdown",
   "id": "2bb1f496-5a0a-4daa-9362-5e403206290a",
   "metadata": {},
   "source": [
    "Load in the NMF weights from Phil's paper: Applied Physics Reviews 8, 041410 (2021); https://doi.org/10.1063/5.0052859"
   ]
  },
  {
   "cell_type": "code",
   "execution_count": null,
   "id": "18d4bb55-c379-459d-b3ed-e1a2e3b23233",
   "metadata": {},
   "outputs": [],
   "source": [
    "weights = xr.open_dataarray(\"../sva/truth/bto_xca_weights.nc\")"
   ]
  },
  {
   "cell_type": "code",
   "execution_count": null,
   "id": "09cda1cf-d5b2-422c-b0d3-9ea29ab9ea2f",
   "metadata": {},
   "outputs": [],
   "source": [
    "data = xr.open_dataarray(\"../sva/truth/bto_data.nc\")\n",
    "grad = np.abs(np.gradient(data.data, axis=1)).mean(axis=0)"
   ]
  },
  {
   "cell_type": "code",
   "execution_count": null,
   "id": "bd440b04-400e-4417-bdf2-f0002a070a1a",
   "metadata": {},
   "outputs": [],
   "source": [
    "temperature_grid = weights[\"temperature\"]"
   ]
  },
  {
   "cell_type": "code",
   "execution_count": null,
   "id": "fcfdbae3-6ea4-45ca-904d-1034ef6abcbc",
   "metadata": {},
   "outputs": [],
   "source": [
    "fig, ax = plt.subplots(1, 1, figsize=(3, 2))\n",
    "\n",
    "ax.plot(temperature_grid, weights.data[:, 0])\n",
    "ax.plot(temperature_grid, weights.data[:, 1])\n",
    "ax.plot(temperature_grid, weights.data[:, 2])\n",
    "ax.plot(temperature_grid, weights.data[:, 3])\n",
    "\n",
    "plt.show()"
   ]
  },
  {
   "cell_type": "markdown",
   "id": "1c17e853-1450-4024-9f28-efd16b80c708",
   "metadata": {},
   "source": [
    "### Subfigure (a)"
   ]
  },
  {
   "cell_type": "code",
   "execution_count": null,
   "id": "928bb216-ce49-4f41-85d0-802aea5ace5e",
   "metadata": {},
   "outputs": [],
   "source": [
    "acquisition_function = \"UpperConfidenceBound10\"\n",
    "all_results_Adam = np.array([xx.data.X.squeeze() for xx in results_by_acqf_Adam[acquisition_function]])"
   ]
  },
  {
   "cell_type": "markdown",
   "id": "9d1a4f79-4b5b-4dc4-9f0b-09fd0d185716",
   "metadata": {},
   "source": [
    "Resolve by the experiment iteration..."
   ]
  },
  {
   "cell_type": "code",
   "execution_count": null,
   "id": "932e40e7-f23a-4e4f-8516-5a853a870e89",
   "metadata": {},
   "outputs": [],
   "source": [
    "all_results_Adam_n_resolved = [all_results_Adam[:, :nn].flatten() for nn in range(3, all_results_Adam.shape[1] + 1)]"
   ]
  },
  {
   "cell_type": "code",
   "execution_count": null,
   "id": "bf95efbc-37a6-4e8e-80cb-694ba531774e",
   "metadata": {},
   "outputs": [],
   "source": [
    "all_results_Adam_n_resolved_coordinates = []\n",
    "for ii, res in enumerate(all_results_Adam_n_resolved):\n",
    "    n = len(res)\n",
    "    coords = (np.ones(shape=(n,)) * ii).astype(int)\n",
    "    arr = np.array([res, coords]).T\n",
    "    all_results_Adam_n_resolved_coordinates.append(arr)\n",
    "all_results_Adam_n_resolved_coordinates = np.concatenate(all_results_Adam_n_resolved_coordinates, axis=0)\n",
    "all_results_Adam_n_resolved_coordinates[:, 1] += 3"
   ]
  },
  {
   "cell_type": "code",
   "execution_count": null,
   "id": "38a5c248-0790-4a34-82d7-784b61362c99",
   "metadata": {},
   "outputs": [],
   "source": [
    "vmax = 1500"
   ]
  },
  {
   "cell_type": "code",
   "execution_count": null,
   "id": "25ecc65d-ec5e-4074-be8c-2d616512ab80",
   "metadata": {},
   "outputs": [],
   "source": [
    "fig, axs = plt.subplots(2, 1, figsize=(3, 3), gridspec_kw={'height_ratios':[1, 2]}, sharex=True)\n",
    "\n",
    "ax = axs[0]\n",
    "ax.plot(temperature_grid, weights[:, 0], label=\"Rhomb\")\n",
    "ax.plot(temperature_grid, weights[:, 1], label=\"Ortho\")\n",
    "ax.plot(temperature_grid, weights[:, 2], label=\"Tetra\")\n",
    "ax.plot(temperature_grid, weights[:, 3], label=\"Cubic\")\n",
    "axlims = ax.get_ylim()\n",
    "ax.text(1.05, 1.0, \"Component\", ha=\"left\", va=\"bottom\", transform=ax.transAxes)\n",
    "ax.text(0.025, 0.5, \"(a)\", ha=\"left\", va=\"center\", transform=ax.transAxes)\n",
    "ax.legend(frameon=False, bbox_to_anchor=(1.0, 0.5), loc=\"center left\")\n",
    "\n",
    "d = (\n",
    "    np.abs(np.gradient(weights[:, 0])) +\n",
    "    np.abs(np.gradient(weights[:, 1])) +\n",
    "    np.abs(np.gradient(weights[:, 2])) +\n",
    "    np.abs(np.gradient(weights[:, 3]))\n",
    ") / 4.0\n",
    "d = d / d.max()\n",
    "ax.plot(temperature_grid, d, \"k-\")\n",
    "ax.plot(temperature_grid, grad / grad.max(), color=\"cyan\")\n",
    "\n",
    "ax.axvline(185, color=\"grey\", linewidth=0.5, linestyle=\"--\")\n",
    "ax.axvline(280, color=\"grey\", linewidth=0.5, linestyle=\"--\")\n",
    "ax.axvline(400, color=\"grey\", linewidth=0.5, linestyle=\"--\")\n",
    "\n",
    "# ax.fill_betweenx(np.linspace(*axlims, 10), 10, 50, color=\"black\", alpha=0.1, linewidth=0)\n",
    "# ax.fill_betweenx(np.linspace(*axlims, 10), 60, 80, color=\"black\", alpha=0.1, linewidth=0)\n",
    "# ax.fill_betweenx(np.linspace(*axlims, 10), 88.5, 91.5, color=\"black\", alpha=0.1, linewidth=0)\n",
    "\n",
    "utils.set_grids(ax)\n",
    "ax.set_ylabel(\"$w(T)$\")\n",
    "ax.set_ylim(*axlims)\n",
    "\n",
    "ax = axs[1]\n",
    "ax.hist2d(all_results_Adam_n_resolved_coordinates[:, 0], all_results_Adam_n_resolved_coordinates[:, 1], bins=[100, 247], cmap=\"viridis\", vmax=vmax, rasterized=True)\n",
    "ax.set_yticks([3, 50, 150, 250])\n",
    "# ax.set_xticks([0, 20, 40, 60, 80, 100])\n",
    "utils.set_grids(ax)\n",
    "ax.tick_params(which=\"minor\", left=False, right=False)\n",
    "ax.set_ylabel(r\"$N$\")\n",
    "ax.set_xlabel(\"$T$~[K]\")\n",
    "ax.text(0.025, 0.9, \"(b)\", ha=\"left\", va=\"top\", transform=ax.transAxes, color=\"black\")\n",
    "\n",
    "# plt.savefig(\"bto_subfigure_a_b.svg\", dpi=300, bbox_inches=\"tight\")\n",
    "plt.show()"
   ]
  },
  {
   "cell_type": "code",
   "execution_count": null,
   "id": "23f57291-b0bd-43ef-922c-b0f12fe71fa9",
   "metadata": {},
   "outputs": [],
   "source": [
    "where = np.where(all_results_Adam_n_resolved_coordinates[:, 1] == 250)[0]\n",
    "points = all_results_Adam_n_resolved_coordinates[where, 0]"
   ]
  },
  {
   "cell_type": "code",
   "execution_count": null,
   "id": "2485b0c5-1408-43d6-bd18-7e76424b23e6",
   "metadata": {},
   "outputs": [],
   "source": [
    "dense_T_grid = np.linspace(150, 445, 1000)\n",
    "dense_truth = truth_bto(dense_T_grid)\n",
    "dense_gradient = np.abs(np.gradient(dense_truth, axis=0)).mean(axis=1)"
   ]
  },
  {
   "cell_type": "code",
   "execution_count": null,
   "id": "0408eb1d-a4cb-4ffc-bee0-70007aca94f9",
   "metadata": {},
   "outputs": [],
   "source": [
    "fig, ax = plt.subplots(1, 1, figsize=(3, 2))\n",
    "\n",
    "res = ax.hist(points, density=True, bins=1000)\n",
    "ax.plot(dense_T_grid, dense_gradient / dense_gradient.max() * res[0].max(), color=\"black\", label=\"$\\langle |\\\\nabla_T I(Q; T)| \\\\rangle$\")\n",
    "\n",
    "ax.set_yticklabels([])\n",
    "utils.set_grids(ax)\n",
    "ax.legend(frameon=False)\n",
    "ax.set_xlabel(\"$T$\")\n",
    "\n",
    "plt.show()\n"
   ]
  },
  {
   "cell_type": "markdown",
   "id": "b5cbe80b-1c84-461c-8aa7-c3d5cd62b491",
   "metadata": {},
   "source": [
    "### Subfigure (a) colorbar"
   ]
  },
  {
   "cell_type": "code",
   "execution_count": null,
   "id": "3dafb5ea-fbdd-4172-b69c-1d22a188bd84",
   "metadata": {},
   "outputs": [],
   "source": [
    "fig, ax = plt.subplots(1, 1, figsize=(2, 2), sharex=True, sharey=True)\n",
    "\n",
    "im = ax.hist2d(all_results_Adam_n_resolved_coordinates[:, 0], all_results_Adam_n_resolved_coordinates[:, 1], bins=[100, 247], cmap=\"viridis\", vmax=vmax)\n",
    "\n",
    "cbar = utils.add_colorbar(im[-1], aspect=6)\n",
    "cbar.set_ticks([0, vmax])\n",
    "cbar.set_ticklabels([0, f\"$\\geq$ %i\" % int(vmax / 300)])\n",
    "cbar.set_label(r\"Average Counts\", labelpad=-10)\n",
    "\n",
    "ax.remove()\n",
    "\n",
    "# plt.savefig(\"bto_cbar.svg\", dpi=300, bbox_inches=\"tight\")\n",
    "plt.show()"
   ]
  },
  {
   "cell_type": "markdown",
   "id": "53685370-d662-45ff-a0d4-3ea7db37faac",
   "metadata": {},
   "source": [
    "### Subfigure metrics"
   ]
  },
  {
   "cell_type": "code",
   "execution_count": null,
   "id": "fe9c4dac-5601-4c00-acb7-66491fa237e2",
   "metadata": {},
   "outputs": [],
   "source": [
    "acquisition_function_name_maps = {\n",
    "    \"Linear\": \"LTB\",\n",
    "    \"ExpectedImprovement\": \"EI\",\n",
    "    \"UpperConfidenceBound1\": \"UCB(1)\",\n",
    "    \"UpperConfidenceBound10\": \"UCB(10)\",\n",
    "    \"UpperConfidenceBound20\": \"UCB(20)\",\n",
    "    \"UpperConfidenceBound100\": \"UCB(100)\"\n",
    "}"
   ]
  },
  {
   "cell_type": "code",
   "execution_count": null,
   "id": "9516542c-d67f-492e-a4d4-3bcc29015053",
   "metadata": {},
   "outputs": [],
   "source": [
    "metrics_grid = list(range(3, 251, 10))\n",
    "linspace_points = 10000"
   ]
  },
  {
   "cell_type": "code",
   "execution_count": null,
   "id": "d8f23938-86c4-4f0b-857d-46f790cd3046",
   "metadata": {},
   "outputs": [],
   "source": [
    "path = cache / \"bto_all.pkl\"\n",
    "if not path.exists():\n",
    "    print(\"Recalculating...\")\n",
    "    _m = bto_compute_metrics_all_acquisition_functions_and_LTB(\n",
    "        results_by_acqf_Adam,\n",
    "        metrics_grid=metrics_grid,\n",
    "        metrics_grid_linear=metrics_grid,\n",
    "        metric=\"mse\",\n",
    "        grid_points=linspace_points,\n",
    "        disable_pbar=False,\n",
    "        xmin=150.0,\n",
    "        xmax=445.0,\n",
    "    )\n",
    "    all_metrics = _m[\"metrics\"]\n",
    "    pickle.dump(all_metrics, open(path, \"wb\"), protocol=pickle.HIGHEST_PROTOCOL)\n",
    "else:\n",
    "    all_metrics = pickle.load(open(path, \"rb\"))"
   ]
  },
  {
   "cell_type": "code",
   "execution_count": null,
   "id": "96263f7b-0ecc-4d88-a130-441dae290f05",
   "metadata": {},
   "outputs": [],
   "source": [
    "only_plot = [\"LTB\", \"EI\", \"UCB(1)\", \"UCB(10)\", \"UCB(20)\", \"UCB(100)\"]"
   ]
  },
  {
   "cell_type": "code",
   "execution_count": null,
   "id": "7012cc12-d798-47b8-a3b7-9fafa05d2649",
   "metadata": {},
   "outputs": [],
   "source": [
    "fig, ax = plt.subplots(1, 1, figsize=(2, 3))\n",
    "\n",
    "for acquisition_function_name in acquisition_function_name_maps.keys():\n",
    "    values = all_metrics[acquisition_function_name]\n",
    "    label = acquisition_function_name_maps[acquisition_function_name]\n",
    "    if only_plot is None or label in only_plot:\n",
    "        mu = np.nanmean(values, axis=1)\n",
    "        sd = np.nanstd(values, axis=1) / 3\n",
    "        ax.plot(metrics_grid, mu, label=label)\n",
    "        ax.fill_between(metrics_grid, mu - sd, mu + sd, linewidth=0, alpha=0.3)\n",
    "\n",
    "utils.set_grids(ax)\n",
    "ax.tick_params(which=\"minor\", bottom=False, top=False)\n",
    "ax.set_xticks([3, 50, 150, 250])\n",
    "\n",
    "ax.legend(frameon=False, loc=\"upper right\")\n",
    "ax.text(0.1, 0.05, r\"$\\mu \\pm \\sigma / 3$\", ha=\"left\", va=\"bottom\", transform=ax.transAxes)\n",
    "ax.text(0.1, 0.95, r\"(c)\", ha=\"left\", va=\"top\", transform=ax.transAxes)\n",
    "\n",
    "ax.set_yscale(\"log\")\n",
    "# yticks = np.array([-1, -2, -3, -4, -5])\n",
    "# ax.set_yticks((10.0**yticks).tolist())\n",
    "# ax.set_yticklabels([f\"${ii}$\" for ii in yticks])\n",
    "# ax.set_ylim(10**-5.3, 10**-0.7)\n",
    "ax.tick_params(axis='y', which='minor', left=True, right=True)\n",
    "\n",
    "ax.set_xlabel(r\"$N$\")\n",
    "ax.set_ylabel(r\"$\\log_{10} J$\")\n",
    "\n",
    "# plt.savefig(\"bto_subfigure_c.svg\", dpi=300, bbox_inches=\"tight\")\n",
    "plt.show()"
   ]
  },
  {
   "cell_type": "markdown",
   "id": "fe1f28b4-69e0-4a56-aabc-50542d19de11",
   "metadata": {},
   "source": [
    "## SI Figure"
   ]
  },
  {
   "cell_type": "code",
   "execution_count": null,
   "id": "c92a21e1-f99d-4ec2-baf0-3c7ce752614d",
   "metadata": {},
   "outputs": [],
   "source": [
    "acquisition_function_name_maps = {\n",
    "    \"ExpectedImprovement\": \"EI\",\n",
    "    \"UpperConfidenceBound1\": \"UCB(1)\",\n",
    "    \"UpperConfidenceBound10\": \"UCB(10)\",\n",
    "    \"UpperConfidenceBound20\": \"UCB(20)\",\n",
    "    \"UpperConfidenceBound100\": \"UCB(100)\"\n",
    "}"
   ]
  },
  {
   "cell_type": "code",
   "execution_count": null,
   "id": "f506de38-578b-4853-8a46-bad26adb7209",
   "metadata": {
    "tags": []
   },
   "outputs": [],
   "source": [
    "all_points = dict()\n",
    "for acquisition_function_name, values in results_by_acqf_Adam.items():\n",
    "    tmp_metrics = [exp.data.X for exp in values]\n",
    "    all_points[acquisition_function_name] = np.array(tmp_metrics)"
   ]
  },
  {
   "cell_type": "code",
   "execution_count": null,
   "id": "fb0a1f61-1ad1-4c35-b418-e05515dd1f01",
   "metadata": {
    "tags": []
   },
   "outputs": [],
   "source": [
    "L = len(acquisition_function_name_maps) + 1\n",
    "\n",
    "fig, axs = plt.subplots(L, 1, figsize=(3, L), sharex=True, sharey=False)\n",
    "\n",
    "\n",
    "ax = axs[0]\n",
    "ax.plot(temperature_grid, weights[:, 0], label=\"Rhomb\")\n",
    "ax.plot(temperature_grid, weights[:, 1], label=\"Ortho\")\n",
    "ax.plot(temperature_grid, weights[:, 2], label=\"Tetra\")\n",
    "ax.plot(temperature_grid, weights[:, 3], label=\"Cubic\")\n",
    "utils.set_grids(ax)\n",
    "axlims = ax.get_ylim()\n",
    "ax.set_ylabel(r\"$w(T)$\")\n",
    "\n",
    "for ii, acquisition_function_name in enumerate(acquisition_function_name_maps.keys()):\n",
    "    \n",
    "    ax = axs[ii + 1]\n",
    "    \n",
    "    value = all_points[acquisition_function_name].squeeze()\n",
    "    all_results_Adam_n_resolved = [value[:, :nn].flatten() for nn in range(3, value.shape[1] + 1)]\n",
    "    \n",
    "    all_results_Adam_n_resolved_coordinates = []\n",
    "    for ii, res in enumerate(all_results_Adam_n_resolved):\n",
    "        n = len(res)\n",
    "        coords = (np.ones(shape=(n,)) * ii).astype(int)\n",
    "        arr = np.array([res, coords]).T\n",
    "        all_results_Adam_n_resolved_coordinates.append(arr)\n",
    "    all_results_Adam_n_resolved_coordinates = np.concatenate(all_results_Adam_n_resolved_coordinates, axis=0)\n",
    "    all_results_Adam_n_resolved_coordinates[:, 1] += 3\n",
    "    \n",
    "    label = acquisition_function_name_maps[acquisition_function_name]\n",
    "    \n",
    "    ax.hist2d(\n",
    "        all_results_Adam_n_resolved_coordinates[:, 0],\n",
    "        all_results_Adam_n_resolved_coordinates[:, 1],\n",
    "        bins=[100, 247], cmap=\"viridis\", vmax=vmax, rasterized=True\n",
    "    )\n",
    "    \n",
    "    utils.set_grids(ax)\n",
    "    ax.set_yticks([3, 100, 250])\n",
    "    ax.text(1.05, 0.5, label, ha=\"left\", va=\"center\", transform=ax.transAxes, rotation=90)\n",
    "    \n",
    "\n",
    "axs[5].set_xlabel(\"$T$~[K]\")\n",
    "axs[3].set_ylabel(r\"$N$\")\n",
    "axs[0].text(0.025, 0.5, \"(a)\", ha=\"left\", va=\"center\", transform=axs[0].transAxes)\n",
    "axs[1].text(0.025, 0.5, \"(b)\", ha=\"left\", va=\"center\", transform=axs[1].transAxes, color=\"white\")\n",
    "axs[2].text(0.025, 0.5, \"(c)\", ha=\"left\", va=\"center\", transform=axs[2].transAxes, color=\"white\")\n",
    "axs[3].text(0.025, 0.5, \"(d)\", ha=\"left\", va=\"center\", transform=axs[3].transAxes, color=\"white\")\n",
    "axs[4].text(0.025, 0.5, \"(e)\", ha=\"left\", va=\"center\", transform=axs[4].transAxes, color=\"white\")\n",
    "axs[5].text(0.025, 0.5, \"(f)\", ha=\"left\", va=\"center\", transform=axs[5].transAxes, color=\"white\")\n",
    "\n",
    "\n",
    "\n",
    "plt.subplots_adjust(hspace=0.4, wspace=0.03)\n",
    "\n",
    "plt.savefig(\"SI_bto_hist.pdf\", dpi=300, bbox_inches=\"tight\")\n",
    "# plt.show()"
   ]
  },
  {
   "cell_type": "code",
   "execution_count": null,
   "id": "89073eb3-aa4a-4a7f-9866-ae8bc2bd4a3e",
   "metadata": {},
   "outputs": [],
   "source": []
  }
 ],
 "metadata": {
  "kernelspec": {
   "display_name": "Python 3 (ipykernel)",
   "language": "python",
   "name": "python3"
  },
  "language_info": {
   "codemirror_mode": {
    "name": "ipython",
    "version": 3
   },
   "file_extension": ".py",
   "mimetype": "text/x-python",
   "name": "python",
   "nbconvert_exporter": "python",
   "pygments_lexer": "ipython3",
   "version": "3.9.13"
  }
 },
 "nbformat": 4,
 "nbformat_minor": 5
}
