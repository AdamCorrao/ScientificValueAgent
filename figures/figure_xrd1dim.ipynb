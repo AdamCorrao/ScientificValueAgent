{
 "cells": [
  {
   "cell_type": "code",
   "execution_count": null,
   "id": "9b0f74b9-cb13-4f43-bf4b-afe47baf145f",
   "metadata": {},
   "outputs": [],
   "source": [
    "%load_ext autoreload\n",
    "%autoreload 2\n",
    "%config Completer.use_jedi = False"
   ]
  },
  {
   "cell_type": "markdown",
   "id": "bb6d903c-d364-4598-8e03-f735f12463c6",
   "metadata": {},
   "source": [
    "Notebook local path should be at `ScientificValueAgent/figures`."
   ]
  },
  {
   "cell_type": "code",
   "execution_count": null,
   "id": "68d9ceee-3f21-446a-b48a-092d5bb511c9",
   "metadata": {},
   "outputs": [],
   "source": [
    "import sys\n",
    "sys.path.append(\"..\")"
   ]
  },
  {
   "cell_type": "code",
   "execution_count": null,
   "id": "e8e3981a-c176-4f5c-b0d4-2445e277bab1",
   "metadata": {},
   "outputs": [],
   "source": [
    "from collections import Counter\n",
    "from itertools import product\n",
    "from pathlib import Path\n",
    "\n",
    "import matplotlib.pyplot as plt\n",
    "import matplotlib as mpl\n",
    "import numpy as np\n",
    "import pickle\n",
    "from tqdm import tqdm"
   ]
  },
  {
   "cell_type": "code",
   "execution_count": null,
   "id": "8fc26b18-c721-453c-bd35-8271421cd30b",
   "metadata": {},
   "outputs": [],
   "source": [
    "from sva import utils"
   ]
  },
  {
   "cell_type": "markdown",
   "id": "48186279-79f9-46f6-ae02-9796a9296980",
   "metadata": {},
   "source": [
    "Set some plotting defaults."
   ]
  },
  {
   "cell_type": "code",
   "execution_count": null,
   "id": "599e9082-d385-48dd-b341-07a133dd0157",
   "metadata": {},
   "outputs": [],
   "source": [
    "utils.set_defaults()"
   ]
  },
  {
   "cell_type": "markdown",
   "id": "2cad6ac1-6915-4f9a-8090-a4b9871c7a81",
   "metadata": {
    "tags": []
   },
   "source": [
    "# Multi-phase one-dimensional XRD results"
   ]
  },
  {
   "cell_type": "code",
   "execution_count": null,
   "id": "cf0fc662-3a56-4bfa-a792-66204d731111",
   "metadata": {},
   "outputs": [],
   "source": [
    "from sva.postprocessing import read_data, parse_results_by_acquisition_function\n",
    "from sva.truth.xrd1dim import (\n",
    "    residual_1d_phase_relative_mae,\n",
    "    xrd1dim_compute_metrics_all_acquisition_functions_and_LTB,\n",
    "    _get_1d_phase_fractions,\n",
    ")"
   ]
  },
  {
   "cell_type": "code",
   "execution_count": null,
   "id": "ba98eb8c-d355-429a-8a33-f6fc70edd262",
   "metadata": {},
   "outputs": [],
   "source": [
    "results_LGBFS = read_data(\"results/results_22-12-21_xrd1dim\")\n",
    "results_Adam = read_data(\"results/results_22-12-21_xrd1dim_Adam\")"
   ]
  },
  {
   "cell_type": "code",
   "execution_count": null,
   "id": "008c577d-5caa-4b89-b069-449c83a5878f",
   "metadata": {},
   "outputs": [],
   "source": [
    "results_by_acqf_LGBFS = parse_results_by_acquisition_function(results_LGBFS)\n",
    "results_by_acqf_Adam = parse_results_by_acquisition_function(results_Adam)"
   ]
  },
  {
   "cell_type": "code",
   "execution_count": null,
   "id": "9a06a9a0-e0c6-4f3f-b21f-dfea11181970",
   "metadata": {},
   "outputs": [],
   "source": [
    "cache = Path(\"cache\")\n",
    "cache.mkdir(exist_ok=True)"
   ]
  },
  {
   "cell_type": "markdown",
   "id": "4bffcfcb-fbf8-4760-bc67-53312d2ac7ea",
   "metadata": {
    "tags": []
   },
   "source": [
    "## Core manuscript figure"
   ]
  },
  {
   "cell_type": "markdown",
   "id": "1c17e853-1450-4024-9f28-efd16b80c708",
   "metadata": {},
   "source": [
    "### Subfigure (a) and (b)"
   ]
  },
  {
   "cell_type": "code",
   "execution_count": null,
   "id": "928bb216-ce49-4f41-85d0-802aea5ace5e",
   "metadata": {},
   "outputs": [],
   "source": [
    "acquisition_function = \"UpperConfidenceBound10\"\n",
    "all_results_Adam = np.array([xx.data.X.squeeze() for xx in results_by_acqf_Adam[acquisition_function]])"
   ]
  },
  {
   "cell_type": "markdown",
   "id": "36de6cd6-f41d-415a-81f0-c978f16e3fa4",
   "metadata": {},
   "source": [
    "Get the phases..."
   ]
  },
  {
   "cell_type": "code",
   "execution_count": null,
   "id": "efbdac02-59e7-4b7d-b50d-5ac09e2ce147",
   "metadata": {},
   "outputs": [],
   "source": [
    "x_grid = np.linspace(0, 100, 1000)\n",
    "phases = _get_1d_phase_fractions(x_grid).T"
   ]
  },
  {
   "cell_type": "markdown",
   "id": "9d1a4f79-4b5b-4dc4-9f0b-09fd0d185716",
   "metadata": {},
   "source": [
    "Resolve by the experiment iteration..."
   ]
  },
  {
   "cell_type": "code",
   "execution_count": null,
   "id": "932e40e7-f23a-4e4f-8516-5a853a870e89",
   "metadata": {},
   "outputs": [],
   "source": [
    "all_results_Adam_n_resolved = [all_results_Adam[:, :nn].flatten() for nn in range(3, all_results_Adam.shape[1] + 1)]"
   ]
  },
  {
   "cell_type": "code",
   "execution_count": null,
   "id": "bf95efbc-37a6-4e8e-80cb-694ba531774e",
   "metadata": {},
   "outputs": [],
   "source": [
    "all_results_Adam_n_resolved_coordinates = []\n",
    "for ii, res in enumerate(all_results_Adam_n_resolved):\n",
    "    n = len(res)\n",
    "    coords = (np.ones(shape=(n,)) * ii).astype(int)\n",
    "    arr = np.array([res, coords]).T\n",
    "    all_results_Adam_n_resolved_coordinates.append(arr)\n",
    "all_results_Adam_n_resolved_coordinates = np.concatenate(all_results_Adam_n_resolved_coordinates, axis=0)\n",
    "all_results_Adam_n_resolved_coordinates[:, 1] += 3"
   ]
  },
  {
   "cell_type": "code",
   "execution_count": null,
   "id": "38a5c248-0790-4a34-82d7-784b61362c99",
   "metadata": {},
   "outputs": [],
   "source": [
    "vmax = 1500"
   ]
  },
  {
   "cell_type": "code",
   "execution_count": null,
   "id": "4a93568c-4183-40cd-9a40-d20f34bafff3",
   "metadata": {},
   "outputs": [],
   "source": [
    "fig, axs = plt.subplots(2, 1, figsize=(3, 3), gridspec_kw={'height_ratios':[1, 2]}, sharex=True)\n",
    "\n",
    "ax = axs[0]\n",
    "ax.plot(x_grid, phases[:, 0], label=\"1\")\n",
    "ax.plot(x_grid, phases[:, 1], label=\"2\")\n",
    "ax.plot(x_grid, phases[:, 2], label=\"3\")\n",
    "ax.plot(x_grid, phases[:, 3], label=\"4\")\n",
    "axlims = ax.get_ylim()\n",
    "ax.text(1.05, 1.0, \"Phase\", ha=\"left\", va=\"bottom\", transform=ax.transAxes)\n",
    "ax.text(0.025, 0.9, \"(a)\", ha=\"left\", va=\"top\", transform=ax.transAxes)\n",
    "ax.legend(frameon=False, bbox_to_anchor=(1.0, 0.5), loc=\"center left\")\n",
    "\n",
    "ax.fill_betweenx(np.linspace(*axlims, 10), 10, 50, color=\"black\", alpha=0.1, linewidth=0)\n",
    "ax.fill_betweenx(np.linspace(*axlims, 10), 60, 80, color=\"black\", alpha=0.1, linewidth=0)\n",
    "ax.fill_betweenx(np.linspace(*axlims, 10), 88.5, 91.5, color=\"black\", alpha=0.1, linewidth=0)\n",
    "\n",
    "utils.set_grids(ax)\n",
    "ax.set_ylabel(\"$p(x)$\")\n",
    "ax.set_ylim(*axlims)\n",
    "\n",
    "ax = axs[1]\n",
    "ax.hist2d(all_results_Adam_n_resolved_coordinates[:, 0], all_results_Adam_n_resolved_coordinates[:, 1], bins=[100, 247], cmap=\"viridis\", vmax=vmax, rasterized=True)\n",
    "ax.set_yticks([3, 50, 150, 250])\n",
    "ax.set_xticks([0, 20, 40, 60, 80, 100])\n",
    "utils.set_grids(ax)\n",
    "ax.tick_params(which=\"minor\", left=False, right=False)\n",
    "ax.set_ylabel(r\"$N$\")\n",
    "ax.set_xlabel(\"$x$~[a.u.]\")\n",
    "ax.text(0.025, 0.9, \"(b)\", ha=\"left\", va=\"top\", transform=ax.transAxes, color=\"white\")\n",
    "\n",
    "# plt.savefig(\"xrd1dim_subfigure_a.svg\", dpi=300, bbox_inches=\"tight\")\n",
    "plt.show()"
   ]
  },
  {
   "cell_type": "markdown",
   "id": "b5cbe80b-1c84-461c-8aa7-c3d5cd62b491",
   "metadata": {},
   "source": [
    "### Subfigure (a) colorbar"
   ]
  },
  {
   "cell_type": "code",
   "execution_count": null,
   "id": "3dafb5ea-fbdd-4172-b69c-1d22a188bd84",
   "metadata": {},
   "outputs": [],
   "source": [
    "fig, ax = plt.subplots(1, 1, figsize=(2, 2), sharex=True, sharey=True)\n",
    "\n",
    "im = ax.hist2d(all_results_Adam_n_resolved_coordinates[:, 0], all_results_Adam_n_resolved_coordinates[:, 1], bins=[150, 247], cmap=\"viridis\", vmax=vmax)\n",
    "\n",
    "cbar = utils.add_colorbar(im[-1], aspect=20)\n",
    "cbar.set_ticks([0, vmax])\n",
    "cbar.set_ticklabels([0, f\"$\\geq$ %i\" % int(vmax / 300)])\n",
    "cbar.set_label(r\"Average Counts\", labelpad=-10)\n",
    "\n",
    "ax.remove()\n",
    "\n",
    "# plt.savefig(\"xrd1dim_cbar.svg\", dpi=300, bbox_inches=\"tight\")\n",
    "plt.show()"
   ]
  },
  {
   "cell_type": "markdown",
   "id": "a1115843-0696-4840-9597-c22087f1d050",
   "metadata": {},
   "source": [
    "### Subfigure (c): select metrics"
   ]
  },
  {
   "cell_type": "markdown",
   "id": "9f00c9cc-eb25-4d33-8c89-135236e859e6",
   "metadata": {},
   "source": [
    "The metrics for this part take a long time to calculate, so we cache them."
   ]
  },
  {
   "cell_type": "code",
   "execution_count": null,
   "id": "eee6cdac-e9f4-4466-8e19-66f4eaea7e46",
   "metadata": {},
   "outputs": [],
   "source": [
    "acquisition_function_name_maps = {\n",
    "    \"Linear\": \"LTB\",\n",
    "    \"ExpectedImprovement\": \"EI\",\n",
    "    \"UpperConfidenceBound1\": \"UCB(1)\",\n",
    "    \"UpperConfidenceBound10\": \"UCB(10)\",\n",
    "    \"UpperConfidenceBound20\": \"UCB(20)\",\n",
    "    \"UpperConfidenceBound100\": \"UCB(100)\"\n",
    "}"
   ]
  },
  {
   "cell_type": "code",
   "execution_count": null,
   "id": "5cad0121-600a-496d-8583-841b1a69e990",
   "metadata": {},
   "outputs": [],
   "source": [
    "metrics_grid = list(range(3, 251, 10))\n",
    "linspace_points = 10000"
   ]
  },
  {
   "cell_type": "code",
   "execution_count": null,
   "id": "f2916149-c90d-4f8c-80ff-0fb0d1f10d94",
   "metadata": {},
   "outputs": [],
   "source": [
    "path = cache / \"xrd1dim_all.pkl\"\n",
    "if not path.exists():\n",
    "    print(\"Recalculating...\")\n",
    "    _m = xrd1dim_compute_metrics_all_acquisition_functions_and_LTB(\n",
    "        results_by_acqf_Adam,\n",
    "        metrics_grid=metrics_grid,\n",
    "        metrics_grid_linear=metrics_grid,\n",
    "        metric=\"mse\",\n",
    "        grid_points=linspace_points,\n",
    "        disable_pbar=False,\n",
    "        xmin=0.0,\n",
    "        xmax=100.0,\n",
    "    )\n",
    "    all_metrics = _m[\"metrics\"]\n",
    "    pickle.dump(all_metrics, open(path, \"wb\"), protocol=pickle.HIGHEST_PROTOCOL)\n",
    "else:\n",
    "    all_metrics = pickle.load(open(path, \"rb\"))"
   ]
  },
  {
   "cell_type": "code",
   "execution_count": null,
   "id": "442ceaf2-ce3f-48bb-b12a-8a8d449ca329",
   "metadata": {},
   "outputs": [],
   "source": [
    "only_plot = [\"LTB\", \"EI\", \"UCB(10)\"]"
   ]
  },
  {
   "cell_type": "code",
   "execution_count": null,
   "id": "79b0a549-fed0-4233-aa01-783356b20cd1",
   "metadata": {},
   "outputs": [],
   "source": [
    "fig, ax = plt.subplots(1, 1, figsize=(2, 3))\n",
    "\n",
    "for acquisition_function_name in acquisition_function_name_maps.keys():\n",
    "    values = all_metrics[acquisition_function_name]\n",
    "    label = acquisition_function_name_maps[acquisition_function_name]\n",
    "    if only_plot is None or label in only_plot:\n",
    "        mu = np.nanmean(values, axis=1)\n",
    "        sd = np.nanstd(values, axis=1) / 3\n",
    "        ax.plot(metrics_grid, mu, label=label)\n",
    "        ax.fill_between(metrics_grid, mu - sd, mu + sd, linewidth=0, alpha=0.3)\n",
    "\n",
    "utils.set_grids(ax)\n",
    "ax.tick_params(which=\"minor\", bottom=False, top=False)\n",
    "ax.set_xticks([3, 50, 150, 250])\n",
    "\n",
    "ax.legend(frameon=False, loc=\"upper right\")\n",
    "ax.text(0.1, 0.05, r\"$\\mu \\pm \\sigma / 3$\", ha=\"left\", va=\"bottom\", transform=ax.transAxes)\n",
    "ax.text(0.1, 0.95, r\"(c)\", ha=\"left\", va=\"top\", transform=ax.transAxes)\n",
    "\n",
    "ax.set_yscale(\"log\")\n",
    "yticks = np.array([-1, -2, -3, -4, -5])\n",
    "ax.set_yticks((10.0**yticks).tolist())\n",
    "ax.set_yticklabels([f\"${ii}$\" for ii in yticks])\n",
    "ax.set_ylim(10**-5.3, 10**-0.7)\n",
    "ax.tick_params(axis='y', which='minor', left=True, right=True)\n",
    "\n",
    "ax.set_xlabel(r\"$N$\")\n",
    "ax.set_ylabel(r\"$\\log_{10} J$\")\n",
    "\n",
    "plt.savefig(\"xrd1dim_subfigure_c.svg\", dpi=300, bbox_inches=\"tight\")\n",
    "# plt.show()"
   ]
  },
  {
   "cell_type": "markdown",
   "id": "4c85e036-d4a0-49af-90d5-1ff816d0aca8",
   "metadata": {},
   "source": [
    "## Supplementary information"
   ]
  },
  {
   "cell_type": "markdown",
   "id": "51c893f1-3ef4-4966-ad4e-d13c0246b83f",
   "metadata": {},
   "source": [
    "### Compare Adam and LGBFS"
   ]
  },
  {
   "cell_type": "code",
   "execution_count": null,
   "id": "c5b8beb1-49ac-41a8-8aba-b30693645ebe",
   "metadata": {},
   "outputs": [],
   "source": [
    "acquisition_function = \"UpperConfidenceBound100\"\n",
    "all_results_LGBFS = np.array([xx.data.X.squeeze() for xx in results_by_acqf_LGBFS[acquisition_function]])\n",
    "all_results_Adam = np.array([xx.data.X.squeeze() for xx in results_by_acqf_Adam[acquisition_function]])"
   ]
  },
  {
   "cell_type": "code",
   "execution_count": null,
   "id": "9deadf8b-fdb0-4904-9e0d-a3143fb5ccac",
   "metadata": {},
   "outputs": [],
   "source": [
    "bins = 50"
   ]
  },
  {
   "cell_type": "code",
   "execution_count": null,
   "id": "4ac8b0ce-c2ed-477f-a215-c6455075be70",
   "metadata": {},
   "outputs": [],
   "source": [
    "fig, axs = plt.subplots(2, 1, sharex=True)\n",
    "\n",
    "ax = axs[0]\n",
    "ax.text(0.5, 0.9, \"LGBFS\", ha=\"center\", va=\"top\", transform=ax.transAxes)\n",
    "ax.hist(all_results_LGBFS.flatten(), bins=bins)\n",
    "ax.set_title(acquisition_function)\n",
    "\n",
    "ax = axs[1]\n",
    "ax.text(0.5, 0.9, \"Adam\", ha=\"center\", va=\"top\", transform=ax.transAxes)\n",
    "ax.hist(all_results_Adam.flatten(), bins=bins)\n",
    "\n",
    "for ax in axs:\n",
    "    utils.set_grids(ax)\n",
    "    ax.set_yticks([])\n",
    "\n",
    "plt.show()"
   ]
  },
  {
   "cell_type": "markdown",
   "id": "a8f8b886-6b32-47c6-bce7-d5ed7e16ebc4",
   "metadata": {},
   "source": [
    "### Phase-resolve metrics"
   ]
  },
  {
   "cell_type": "code",
   "execution_count": null,
   "id": "267335fc-7fb9-47f0-8147-c393bc1ced72",
   "metadata": {},
   "outputs": [],
   "source": [
    "acquisition_function_name_maps = {\n",
    "    \"Linear\": \"LTB\",\n",
    "    \"ExpectedImprovement\": \"EI\",\n",
    "    \"UpperConfidenceBound1\": \"UCB(1)\",\n",
    "    \"UpperConfidenceBound10\": \"UCB(10)\",\n",
    "    \"UpperConfidenceBound20\": \"UCB(20)\",\n",
    "    \"UpperConfidenceBound100\": \"UCB(100)\"\n",
    "}"
   ]
  },
  {
   "cell_type": "code",
   "execution_count": null,
   "id": "9b38bc22-bfae-446b-827c-0bf0937b4557",
   "metadata": {},
   "outputs": [],
   "source": [
    "metrics_grid = list(range(3, 251, 10))\n",
    "linspace_points = 10000"
   ]
  },
  {
   "cell_type": "code",
   "execution_count": null,
   "id": "670b3b8f-fd61-432d-a90c-cf9c551cab87",
   "metadata": {},
   "outputs": [],
   "source": [
    "path = cache / \"xrd1dim_linear.pkl\"\n",
    "if not path.exists():\n",
    "    print(\"Recalculating...\")\n",
    "    _m = xrd1dim_compute_metrics_all_acquisition_functions_and_LTB(\n",
    "        results_by_acqf_Adam,\n",
    "        metrics_grid=metrics_grid,\n",
    "        metrics_grid_linear=metrics_grid,\n",
    "        metric=\"mse\",\n",
    "        grid_points=linspace_points,\n",
    "        disable_pbar=False,\n",
    "        xmin=9.0,\n",
    "        xmax=51.0,\n",
    "    )\n",
    "    all_metrics_linear = _m[\"metrics\"]\n",
    "    pickle.dump(all_metrics_linear, open(path, \"wb\"), protocol=pickle.HIGHEST_PROTOCOL)\n",
    "else:\n",
    "    all_metrics_linear = pickle.load(open(path, \"rb\"))"
   ]
  },
  {
   "cell_type": "code",
   "execution_count": null,
   "id": "c0086370-4699-4398-b3e5-8f4e65620bc1",
   "metadata": {},
   "outputs": [],
   "source": [
    "path = cache / \"xrd1dim_quad.pkl\"\n",
    "if not path.exists():\n",
    "    print(\"Recalculating...\")\n",
    "    _m = xrd1dim_compute_metrics_all_acquisition_functions_and_LTB(\n",
    "        results_by_acqf_Adam,\n",
    "        metrics_grid=metrics_grid,\n",
    "        metrics_grid_linear=metrics_grid,\n",
    "        metric=\"mse\",\n",
    "        grid_points=linspace_points,\n",
    "        disable_pbar=False,\n",
    "        xmin=59.0,\n",
    "        xmax=81.0,\n",
    "    )\n",
    "    all_metrics_quad = _m[\"metrics\"]\n",
    "    pickle.dump(all_metrics_quad, open(path, \"wb\"), protocol=pickle.HIGHEST_PROTOCOL)\n",
    "else:\n",
    "    all_metrics_quad = pickle.load(open(path, \"rb\"))"
   ]
  },
  {
   "cell_type": "code",
   "execution_count": null,
   "id": "3e69cc7e-98c7-4d75-84f5-58ba92fe5b8d",
   "metadata": {},
   "outputs": [],
   "source": [
    "path = cache / \"xrd1dim_sharp.pkl\"\n",
    "if not path.exists():\n",
    "    print(\"Recalculating...\")\n",
    "    _m = xrd1dim_compute_metrics_all_acquisition_functions_and_LTB(\n",
    "        results_by_acqf_Adam,\n",
    "        metrics_grid=metrics_grid,\n",
    "        metrics_grid_linear=metrics_grid,\n",
    "        metric=\"mse\",\n",
    "        grid_points=linspace_points,\n",
    "        disable_pbar=False,\n",
    "        xmin=88.0,\n",
    "        xmax=92.0,\n",
    "    )\n",
    "    all_metrics_sharp = _m[\"metrics\"]\n",
    "    pickle.dump(all_metrics_sharp, open(path, \"wb\"), protocol=pickle.HIGHEST_PROTOCOL)\n",
    "else:\n",
    "    all_metrics_sharp = pickle.load(open(path, \"rb\"))"
   ]
  },
  {
   "cell_type": "code",
   "execution_count": null,
   "id": "f1378646-ed7e-4937-a817-697ae3364c92",
   "metadata": {},
   "outputs": [],
   "source": [
    "only_plot = [\"LTB\", \"EI\", \"UCB(1)\", \"UCB(10)\", \"UCB(20)\", \"UCB(100)\"]"
   ]
  },
  {
   "cell_type": "code",
   "execution_count": null,
   "id": "8f4a209a-3322-4bf3-8f38-28a806deeead",
   "metadata": {},
   "outputs": [],
   "source": [
    "fig, axs = plt.subplots(1, 3, figsize=(6, 3), sharex=True, sharey=False)\n",
    "\n",
    "for ii, all_metrics in enumerate([all_metrics_linear, all_metrics_quad, all_metrics_sharp]):\n",
    "    ax = axs[ii]\n",
    "    utils.set_grids(ax)\n",
    "    ax.tick_params(which=\"minor\", bottom=False, top=False)\n",
    "    ax.set_xticks([3, 50, 150, 250])\n",
    "    ax.set_yscale('log')\n",
    "    ax.axhline(10**-3, color=\"black\", linestyle=\"--\")\n",
    "\n",
    "    for acquisition_function_name in acquisition_function_name_maps.keys():\n",
    "        values = all_metrics[acquisition_function_name]\n",
    "        label = acquisition_function_name_maps[acquisition_function_name]\n",
    "        if only_plot is None or label in only_plot:\n",
    "            mu = values.mean(axis=1)\n",
    "            sd = values.std(axis=1) / 10.0\n",
    "            ax.plot(metrics_grid, mu, label=label)\n",
    "            ax.fill_between(metrics_grid, mu - sd, mu + sd, linewidth=0, alpha=0.3)\n",
    "\n",
    "axs[2].legend(frameon=False, bbox_to_anchor=(1, 0.5), loc=\"center left\")\n",
    "axs[0].text(0.5, 0.95, r\"$\\mu \\pm \\sigma / 10$\", ha=\"center\", va=\"top\", transform=axs[0].transAxes)\n",
    "\n",
    "axs[0].text(0.05, 0.05, r\"(a)\", ha=\"left\", va=\"bottom\", transform=axs[0].transAxes)\n",
    "axs[1].text(0.05, 0.05, r\"(b)\", ha=\"left\", va=\"bottom\", transform=axs[1].transAxes)\n",
    "axs[2].text(0.05, 0.05, r\"(c)\", ha=\"left\", va=\"bottom\", transform=axs[2].transAxes)\n",
    "\n",
    "axs[0].set_title(\"linear\")\n",
    "axs[1].set_title(\"quadratic\")\n",
    "axs[2].set_title(\"sharp\")\n",
    "\n",
    "axs[1].set_xlabel(r\"$N$\")\n",
    "axs[0].set_ylabel(r\"$\\log_{10} J$\")\n",
    "\n",
    "\n",
    "# Set limits\n",
    "ax = axs[0]\n",
    "yticks = np.array([-2, -5, -8])\n",
    "ax.set_yticks((10.0**yticks).tolist())\n",
    "ax.set_yticklabels([f\"${ii}$\" for ii in yticks])\n",
    "ax.set_ylim(10**-9, 10**0.0)\n",
    "\n",
    "ax = axs[1]\n",
    "yticks = np.array([-2, -4, -6])\n",
    "ax.set_yticks((10.0**yticks).tolist())\n",
    "ax.set_yticklabels([f\"${ii}$\" for ii in yticks])\n",
    "\n",
    "ax = axs[2]\n",
    "yticks = np.array([-1, -2, -3])\n",
    "ax.set_yticks((10.0**yticks).tolist())\n",
    "ax.set_yticklabels([f\"${ii}$\" for ii in yticks])\n",
    "ax.tick_params(axis='y', which='minor', left=False, right=False)\n",
    "\n",
    "plt.subplots_adjust(wspace=0.3)\n",
    "\n",
    "plt.savefig(\"SI_xrd1dim_phase_resolved_metric.pdf\", dpi=300, bbox_inches=\"tight\")\n",
    "# plt.show()"
   ]
  }
 ],
 "metadata": {
  "kernelspec": {
   "display_name": "Python 3 (ipykernel)",
   "language": "python",
   "name": "python3"
  },
  "language_info": {
   "codemirror_mode": {
    "name": "ipython",
    "version": 3
   },
   "file_extension": ".py",
   "mimetype": "text/x-python",
   "name": "python",
   "nbconvert_exporter": "python",
   "pygments_lexer": "ipython3",
   "version": "3.9.13"
  }
 },
 "nbformat": 4,
 "nbformat_minor": 5
}
