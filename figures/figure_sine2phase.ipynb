{
 "cells": [
  {
   "cell_type": "code",
   "execution_count": null,
   "id": "9b0f74b9-cb13-4f43-bf4b-afe47baf145f",
   "metadata": {},
   "outputs": [],
   "source": [
    "%load_ext autoreload\n",
    "%autoreload 2\n",
    "%config Completer.use_jedi = False"
   ]
  },
  {
   "cell_type": "markdown",
   "id": "bb6d903c-d364-4598-8e03-f735f12463c6",
   "metadata": {},
   "source": [
    "Notebook local path should be at `ScientificValueAgent/figures`."
   ]
  },
  {
   "cell_type": "code",
   "execution_count": null,
   "id": "72541e85-1328-41cd-818f-4ce57dbfab66",
   "metadata": {},
   "outputs": [],
   "source": [
    "SAVE_FIGURES = False"
   ]
  },
  {
   "cell_type": "code",
   "execution_count": null,
   "id": "68d9ceee-3f21-446a-b48a-092d5bb511c9",
   "metadata": {},
   "outputs": [],
   "source": [
    "import sys\n",
    "sys.path.append(\"..\")"
   ]
  },
  {
   "cell_type": "code",
   "execution_count": null,
   "id": "e8e3981a-c176-4f5c-b0d4-2445e277bab1",
   "metadata": {},
   "outputs": [],
   "source": [
    "from itertools import product\n",
    "\n",
    "import matplotlib.pyplot as plt\n",
    "import matplotlib as mpl\n",
    "import numpy as np\n",
    "from tqdm import tqdm"
   ]
  },
  {
   "cell_type": "code",
   "execution_count": null,
   "id": "8fc26b18-c721-453c-bd35-8271421cd30b",
   "metadata": {},
   "outputs": [],
   "source": [
    "from sva import utils"
   ]
  },
  {
   "cell_type": "markdown",
   "id": "48186279-79f9-46f6-ae02-9796a9296980",
   "metadata": {},
   "source": [
    "Set some plotting defaults."
   ]
  },
  {
   "cell_type": "code",
   "execution_count": null,
   "id": "599e9082-d385-48dd-b341-07a133dd0157",
   "metadata": {},
   "outputs": [],
   "source": [
    "utils.set_defaults()"
   ]
  },
  {
   "cell_type": "markdown",
   "id": "2cad6ac1-6915-4f9a-8090-a4b9871c7a81",
   "metadata": {
    "tags": []
   },
   "source": [
    "# Two-phase sine result"
   ]
  },
  {
   "cell_type": "code",
   "execution_count": null,
   "id": "cf0fc662-3a56-4bfa-a792-66204d731111",
   "metadata": {},
   "outputs": [],
   "source": [
    "from sva.postprocessing import read_data, parse_results_by_acquisition_function\n",
    "from sva.truth.sine2phase import (\n",
    "    get_phase_plot_info,\n",
    "    phase_1_sine_on_2d_raster,\n",
    "    points_in_10_percent_range,\n",
    "    sine2phase_interpolant_2d,\n",
    "    sine2phase_residual_2d_phase_relative_mae,\n",
    "    sine2phase_residual_2d_phase_mse,\n",
    "    sine2phase_compute_metrics_all_acquisition_functions_and_LTB,\n",
    ")\n",
    "from sva.truth.common import limited_time_budget"
   ]
  },
  {
   "cell_type": "markdown",
   "id": "9e766271-cfba-4f33-8104-0ae68d9dfdff",
   "metadata": {},
   "source": [
    "Get the results. This is around 4 GB of raw data and thus could take a little time to load."
   ]
  },
  {
   "cell_type": "code",
   "execution_count": null,
   "id": "ba98eb8c-d355-429a-8a33-f6fc70edd262",
   "metadata": {},
   "outputs": [],
   "source": [
    "results = read_data(\"results/results_22-12-21_sine2phase\")"
   ]
  },
  {
   "cell_type": "code",
   "execution_count": null,
   "id": "008c577d-5caa-4b89-b069-449c83a5878f",
   "metadata": {},
   "outputs": [],
   "source": [
    "results_by_acqf = parse_results_by_acquisition_function(results)"
   ]
  },
  {
   "cell_type": "markdown",
   "id": "4bffcfcb-fbf8-4760-bc67-53312d2ac7ea",
   "metadata": {
    "tags": []
   },
   "source": [
    "## Core manuscript figure"
   ]
  },
  {
   "cell_type": "code",
   "execution_count": null,
   "id": "0a97e3a8-e402-4229-b35d-70ec22fb7ad6",
   "metadata": {},
   "outputs": [],
   "source": [
    "x, y, Z = get_phase_plot_info(phase_1_sine_on_2d_raster)\n",
    "X, Y = np.meshgrid(x, y)\n",
    "gradZ = np.array(np.gradient(Z))\n",
    "gradZ = np.sqrt((gradZ**2).sum(axis=0))"
   ]
  },
  {
   "cell_type": "code",
   "execution_count": null,
   "id": "327735e2-bbb5-4cf8-9d07-d84a8ea0dd41",
   "metadata": {},
   "outputs": [],
   "source": [
    "extent = (x[0], x[-1], y[0], y[-1])\n",
    "scale = 1\n",
    "lw = 0.5\n",
    "\n",
    "g = np.linspace(0, 1, 100)"
   ]
  },
  {
   "cell_type": "markdown",
   "id": "1c17e853-1450-4024-9f28-efd16b80c708",
   "metadata": {},
   "source": [
    "### Subfigure (a)"
   ]
  },
  {
   "cell_type": "code",
   "execution_count": null,
   "id": "88b5ac53-ab1f-48b1-bb03-6f5c1e5121f4",
   "metadata": {},
   "outputs": [],
   "source": [
    "fig, ax = plt.subplots(1, 1, figsize=(2*scale, 2*scale), sharex=True, sharey=True)\n",
    "\n",
    "im = ax.imshow(Z, interpolation='bilinear', origin='lower', cmap=mpl.cm.seismic, extent=extent, alpha=0.4)\n",
    "\n",
    "ax.text(0.05, 0.95, r\"(a)\", ha=\"left\", va=\"top\", transform=ax.transAxes)\n",
    "ax.text(0.95, 0.95, \"Phase 1\", ha=\"right\", va=\"top\", transform=ax.transAxes)\n",
    "ax.text(0.05, 0.05, \"Phase 2\", ha=\"left\", va=\"bottom\", transform=ax.transAxes)\n",
    "\n",
    "ax.set_xticks([0, 1])\n",
    "ax.set_yticks([0, 1])\n",
    "\n",
    "utils.set_grids(ax, grid=False)\n",
    "ax.set_ylabel(\"$x_2$~[a.u.]\")\n",
    "ax.set_xlabel(\"$x_1$~[a.u.]\")\n",
    "\n",
    "if SAVE_FIGURES:\n",
    "    plt.savefig(\"sine2phase_subfigure_a.svg\", dpi=300, bbox_inches=\"tight\")\n",
    "else:\n",
    "    plt.show()"
   ]
  },
  {
   "cell_type": "markdown",
   "id": "1c6a7fff-4d93-4fc0-a240-7fc223189b75",
   "metadata": {},
   "source": [
    "### Subfigure $p(x)$ colorbar"
   ]
  },
  {
   "cell_type": "code",
   "execution_count": null,
   "id": "dc7e31e7-f227-4ca8-a510-fc484858f79f",
   "metadata": {},
   "outputs": [],
   "source": [
    "fig, ax = plt.subplots(1, 1, figsize=(2*scale, 2*scale), sharex=True, sharey=True)\n",
    "\n",
    "im = ax.imshow(Z, interpolation='bilinear', origin='lower', cmap=mpl.cm.seismic, extent=extent, alpha=0.4)\n",
    "\n",
    "cbar = utils.add_colorbar(im, aspect=20)\n",
    "cbar.set_ticks([0, 1])\n",
    "cbar.set_label(r\"$p(\\mathbf{x})$\", labelpad=-10)\n",
    "\n",
    "ax.remove()\n",
    "\n",
    "if SAVE_FIGURES:\n",
    "    plt.savefig(\"sine2phase_p_cbar.svg\", dpi=300, bbox_inches=\"tight\")\n",
    "else:\n",
    "    plt.show()"
   ]
  },
  {
   "cell_type": "markdown",
   "id": "5b7ac2bf-63ee-4c01-90b6-5d9bbaff29a7",
   "metadata": {},
   "source": [
    "### Subfigure (b)"
   ]
  },
  {
   "cell_type": "code",
   "execution_count": null,
   "id": "332d7a3d-334e-499d-b845-3862a3ad3660",
   "metadata": {},
   "outputs": [],
   "source": [
    "single_result = results_by_acqf[\"UpperConfidenceBound10\"][0]\n",
    "Z = single_result._record[-1][\"mu\"].reshape(100, 100).T\n",
    "Z = Z - Z.min()\n",
    "Z = Z / Z.max()\n",
    "cmap = mpl.cm.magma"
   ]
  },
  {
   "cell_type": "code",
   "execution_count": null,
   "id": "2e8bf2a4-aa40-44c4-a40b-f1a77370eaf5",
   "metadata": {},
   "outputs": [],
   "source": [
    "fig, ax = plt.subplots(1, 1, figsize=(2*scale, 2*scale), sharex=True, sharey=True)\n",
    "\n",
    "im = ax.imshow(Z, interpolation='bilinear', origin='lower', cmap=cmap, extent=extent, alpha=0.4)\n",
    "\n",
    "sine = 0.5 + np.sin(2.0 * np.pi * g) / 4\n",
    "sine_upper = sine + 0.05\n",
    "sine_lower = sine - 0.05\n",
    "\n",
    "# ax.fill_between(g, sine_lower, sine_upper, hatch=\"|\"*10, color=None, alpha=0, linewidth=0)\n",
    "color=\"b\"\n",
    "ax.plot(g, sine, f\"{color}-\", linewidth=lw)\n",
    "ax.plot(g, sine_upper, f\"{color}--\", linewidth=lw)\n",
    "ax.plot(g, sine_lower, f\"{color}--\", linewidth=lw)\n",
    "\n",
    "X = single_result.data.X\n",
    "ax.scatter(X[:, 0], X[:, 1], color=\"black\", s=0.5, zorder=3)\n",
    "\n",
    "ax.text(0.05, 0.95, r\"(b)\", ha=\"left\", va=\"top\", transform=ax.transAxes)\n",
    "\n",
    "ax.set_xticks([0, 1])\n",
    "ax.set_yticks([0, 1])\n",
    "\n",
    "utils.set_grids(ax, grid=False)\n",
    "ax.set_ylabel(\"$x_2$~[a.u.]\")\n",
    "ax.set_xlabel(\"$x_1$~[a.u.]\")\n",
    "\n",
    "if SAVE_FIGURES:\n",
    "    plt.savefig(\"sine2phase_subfigure_b.svg\", dpi=300, bbox_inches=\"tight\")\n",
    "else:\n",
    "    plt.show()"
   ]
  },
  {
   "cell_type": "markdown",
   "id": "8e2811d8-af80-4072-82c9-25ccf822d2a3",
   "metadata": {},
   "source": [
    "### Subfigure value colorbar"
   ]
  },
  {
   "cell_type": "code",
   "execution_count": null,
   "id": "9790d326-5a0f-4651-8ed5-3d945f15a9f4",
   "metadata": {},
   "outputs": [],
   "source": [
    "fig, ax = plt.subplots(1, 1, figsize=(2*scale, 2*scale), sharex=True, sharey=True)\n",
    "\n",
    "im = ax.imshow(Z, interpolation='bilinear', origin='lower', cmap=cmap, extent=extent, alpha=0.4)\n",
    "\n",
    "cbar = utils.add_colorbar(im, aspect=20)\n",
    "cbar.set_ticks([0, 1])\n",
    "cbar.set_label(r\"$U(\\mathbf{x}, X)$\", labelpad=-10)\n",
    "\n",
    "ax.remove()\n",
    "\n",
    "if SAVE_FIGURES:\n",
    "    plt.savefig(\"sine2phase_U_cbar.svg\", dpi=300, bbox_inches=\"tight\")\n",
    "else:\n",
    "    plt.show()"
   ]
  },
  {
   "cell_type": "markdown",
   "id": "a1115843-0696-4840-9597-c22087f1d050",
   "metadata": {},
   "source": [
    "### Subfigure (c): select metrics"
   ]
  },
  {
   "cell_type": "code",
   "execution_count": null,
   "id": "eee6cdac-e9f4-4466-8e19-66f4eaea7e46",
   "metadata": {},
   "outputs": [],
   "source": [
    "acquisition_function_name_maps = {\n",
    "    \"Linear\": \"LTB\",\n",
    "    \"ExpectedImprovement\": \"EI\",\n",
    "    \"UpperConfidenceBound1\": \"UCB(1)\",\n",
    "    \"UpperConfidenceBound10\": \"UCB(10)\",\n",
    "    \"UpperConfidenceBound20\": \"UCB(20)\",\n",
    "    \"UpperConfidenceBound100\": \"UCB(100)\"\n",
    "}"
   ]
  },
  {
   "cell_type": "code",
   "execution_count": null,
   "id": "cdab8ff6-3b34-4fbf-8d19-0717c475fe6c",
   "metadata": {},
   "outputs": [],
   "source": [
    "all_metrics_linear = sine2phase_compute_metrics_all_acquisition_functions_and_LTB(\n",
    "    results_by_acqf,\n",
    "    metric_kwargs={\n",
    "        \"grid_points\": 100,\n",
    "        \"interpolation_method\": \"linear\",\n",
    "    },\n",
    ")"
   ]
  },
  {
   "cell_type": "code",
   "execution_count": null,
   "id": "51b788e9-bb6a-4643-bc09-a14e205b407c",
   "metadata": {},
   "outputs": [],
   "source": [
    "all_metrics_nearest = sine2phase_compute_metrics_all_acquisition_functions_and_LTB(\n",
    "    results_by_acqf,\n",
    "    metric_kwargs={\n",
    "        \"grid_points\": 100,\n",
    "        \"interpolation_method\": \"nearest\",\n",
    "    },\n",
    ")"
   ]
  },
  {
   "cell_type": "code",
   "execution_count": null,
   "id": "7443c1db-05dd-41c8-a283-e310b4f3a9d1",
   "metadata": {},
   "outputs": [],
   "source": [
    "all_metrics_cubic = sine2phase_compute_metrics_all_acquisition_functions_and_LTB(\n",
    "    results_by_acqf,\n",
    "    metric_kwargs={\n",
    "        \"grid_points\": 100,\n",
    "        \"interpolation_method\": \"cubic\",\n",
    "    },\n",
    ")"
   ]
  },
  {
   "cell_type": "code",
   "execution_count": null,
   "id": "442ceaf2-ce3f-48bb-b12a-8a8d449ca329",
   "metadata": {},
   "outputs": [],
   "source": [
    "only_plot = [\"LTB\", \"EI\", \"UCB(10)\"]\n",
    "metric_dictionarys = {\"nearest\": all_metrics_nearest, \"linear\": all_metrics_linear, \"cubic\": all_metrics_cubic}"
   ]
  },
  {
   "cell_type": "code",
   "execution_count": null,
   "id": "3da253f8-41a4-48c8-b053-50ae409e0056",
   "metadata": {},
   "outputs": [],
   "source": [
    "n_plots = 3\n",
    "fig, axs = plt.subplots(1, n_plots, figsize=(1.5 * n_plots, 2), sharex=True, sharey=True)\n",
    "\n",
    "for ii, (metric_method_name, metric_dictionary) in enumerate(metric_dictionarys.items()):\n",
    "    \n",
    "    ax = axs[ii]\n",
    "    ax.set_title(metric_method_name)\n",
    "    \n",
    "    for acquisition_function_name in acquisition_function_name_maps.keys():\n",
    "\n",
    "        values = metric_dictionary[\"metrics\"][acquisition_function_name]\n",
    "        metrics_grid = metric_dictionary[\"metrics_grid\"]\n",
    "        metrics_grid_linear = metric_dictionary[\"metrics_grid_linear\"]\n",
    "        label = acquisition_function_name_maps[acquisition_function_name]\n",
    "\n",
    "        if only_plot is None or label in only_plot:\n",
    "            mu = values.mean(axis=1)\n",
    "            sd = values.std(axis=1) / 3.0\n",
    "            if label == \"LTB\":\n",
    "                ax.plot(metrics_grid_linear, mu, label=label)\n",
    "                ax.fill_between(metrics_grid_linear, mu - sd, mu + sd, linewidth=0, alpha=0.3)\n",
    "            else:\n",
    "                ax.plot(metrics_grid, mu, label=label)\n",
    "                ax.fill_between(metrics_grid, mu - sd, mu + sd, linewidth=0, alpha=0.3)\n",
    "\n",
    "\n",
    "for ax in axs.flatten():\n",
    "    utils.set_grids(ax)\n",
    "    ax.tick_params(which=\"minor\", bottom=False, top=False)\n",
    "    ax.set_xticks([3, 50, 150, 250])\n",
    "    ax.set_yscale('log')\n",
    "\n",
    "# ax.axhline(0.1, color=\"black\", linewidth=0.5, linestyle=\"--\", zorder=-1)\n",
    "\n",
    "ax.legend(frameon=False, bbox_to_anchor=(1, 0.5), loc=\"center left\")\n",
    "ax.text(0.05, 0.05, r\"$\\mu \\pm \\sigma / 3$\", ha=\"left\", va=\"bottom\", transform=ax.transAxes)\n",
    "axs[0].text(0.95, 0.95, r\"(a)\", ha=\"right\", va=\"top\", transform=ax.transAxes)\n",
    "axs[1].text(0.95, 0.95, r\"(b)\", ha=\"right\", va=\"top\", transform=ax.transAxes)\n",
    "axs[2].text(0.95, 0.95, r\"(c)\", ha=\"right\", va=\"top\", transform=ax.transAxes)\n",
    "\n",
    "axs[1].set_xlabel(r\"$N$\")\n",
    "axs[0].set_ylabel(\"MSE\")\n",
    "\n",
    "if SAVE_FIGURES:\n",
    "    plt.savefig(\"sine2phase_subfigure_c.svg\", dpi=300, bbox_inches=\"tight\")\n",
    "else:\n",
    "    plt.show()"
   ]
  },
  {
   "cell_type": "markdown",
   "id": "4c85e036-d4a0-49af-90d5-1ff816d0aca8",
   "metadata": {},
   "source": [
    "## Supplementary information"
   ]
  },
  {
   "cell_type": "markdown",
   "id": "f6cb28ca-6210-4201-9259-a7f9ad4ae3fe",
   "metadata": {},
   "source": [
    "### Plot the 2-dimensional interpolation"
   ]
  },
  {
   "cell_type": "markdown",
   "id": "3a4440dd-9b82-40f0-acfb-7da8f6e8c710",
   "metadata": {},
   "source": [
    "This is mainly for debugging the 2d interpolation metric which will be used in this example and `xrd4phase` (aka `xrd2dim`)."
   ]
  },
  {
   "cell_type": "code",
   "execution_count": null,
   "id": "6e58461b-4f14-431c-8f3d-e68512d899b9",
   "metadata": {},
   "outputs": [],
   "source": [
    "interpolation_method=\"linear\""
   ]
  },
  {
   "cell_type": "code",
   "execution_count": null,
   "id": "3665b1ad-55bb-44b8-b4a9-2e1c22f55ded",
   "metadata": {},
   "outputs": [],
   "source": [
    "single_result = results_by_acqf[\"ExpectedImprovement\"][3]\n",
    "X = single_result.data.X[:144, :]\n",
    "true_phase_prop, interpolated_phase_prop = sine2phase_interpolant_2d(X, grid_points=200, interpolation_method=interpolation_method)"
   ]
  },
  {
   "cell_type": "code",
   "execution_count": null,
   "id": "21b43591-a7f1-4a55-9519-df3680a4d63e",
   "metadata": {},
   "outputs": [],
   "source": [
    "X_LTB = limited_time_budget(12, 2)\n",
    "_, interpolated_phase_prop_LTB = sine2phase_interpolant_2d(X_LTB, grid_points=200, interpolation_method=interpolation_method)"
   ]
  },
  {
   "cell_type": "code",
   "execution_count": null,
   "id": "7216d9f0-3f4a-4336-91bf-c4d964d8ee4f",
   "metadata": {},
   "outputs": [],
   "source": [
    "fig, axs = plt.subplots(1, 3, figsize=(6*scale, 2*scale), sharex=True, sharey=True)\n",
    "\n",
    "ax = axs[0]\n",
    "\n",
    "im = ax.imshow(true_phase_prop, interpolation='bilinear', origin='lower', cmap=mpl.cm.PuOr, extent=extent, alpha=0.8)\n",
    "\n",
    "ax.text(0.05, 0.95, r\"(a)\", ha=\"left\", va=\"top\", transform=ax.transAxes, color=\"white\")\n",
    "ax.text(0.95, 0.95, \"Phase 1\", ha=\"right\", va=\"top\", transform=ax.transAxes, color=\"white\")\n",
    "ax.text(0.05, 0.05, \"Phase 2\", ha=\"left\", va=\"bottom\", transform=ax.transAxes)\n",
    "ax.set_title(\"Dense Grid\")\n",
    "\n",
    "ax = axs[1]\n",
    "im = ax.imshow(interpolated_phase_prop - true_phase_prop, interpolation='bilinear', origin='lower', cmap=mpl.cm.seismic, extent=extent, alpha=0.4, vmin=-0.2, vmax=0.2)\n",
    "ax.scatter(X[:, 0], X[:, 1], s=0.3, color='black', alpha=1)\n",
    "ax.text(0.05, 0.95, r\"(b)\", ha=\"left\", va=\"top\", transform=ax.transAxes)\n",
    "ax.set_title(\"AQF: EI\")\n",
    "# utils.add_colorbar(im)\n",
    "\n",
    "ax = axs[2]\n",
    "im = ax.imshow(interpolated_phase_prop_LTB - true_phase_prop, interpolation='bilinear', origin='lower', cmap=mpl.cm.seismic, extent=extent, alpha=0.4, vmin=-0.2, vmax=0.2)\n",
    "ax.scatter(X_LTB[:, 0], X_LTB[:, 1], s=0.3, color='black', alpha=1)\n",
    "ax.text(0.05, 0.95, r\"(c)\", ha=\"left\", va=\"top\", transform=ax.transAxes)\n",
    "ax.set_title(\"LTB\")\n",
    "# utils.add_colorbar(im)\n",
    "\n",
    "\n",
    "ax.set_xticks([0, 1])\n",
    "ax.set_yticks([0, 1])\n",
    "for ax in axs:\n",
    "    utils.set_grids(ax, grid=False)\n",
    "\n",
    "ax = fig.add_subplot(111, frameon=False)\n",
    "# hide tick and tick label of the big axes\n",
    "plt.tick_params(labelcolor='none', top='off', bottom='off', left='off', right='off')\n",
    "ax.set_xticks([])\n",
    "ax.set_yticks([])\n",
    "ax.set_ylabel(\"$x_2$~[a.u.]\", labelpad=10)\n",
    "ax.set_xlabel(\"$x_1$~[a.u.]\", labelpad=10)\n",
    "\n",
    "if SAVE_FIGURES:\n",
    "    plt.savefig(\"sine2phase_compared_with_interpolation_SI.svg\", dpi=300, bbox_inches=\"tight\")\n",
    "else:\n",
    "    plt.show()"
   ]
  },
  {
   "cell_type": "markdown",
   "id": "eb86ec80-69d3-4711-a83e-af62027f3c1d",
   "metadata": {
    "tags": []
   },
   "source": [
    "### Multi-panel densities"
   ]
  },
  {
   "cell_type": "code",
   "execution_count": null,
   "id": "88158667-e955-45a4-93a6-d9f94a865835",
   "metadata": {},
   "outputs": [],
   "source": [
    "acquisition_function_name_maps = {\n",
    "    \"ExpectedImprovement\": \"EI\",\n",
    "    \"UpperConfidenceBound1\": \"UCB(1)\",\n",
    "    \"UpperConfidenceBound10\": \"UCB(10)\",\n",
    "    \"UpperConfidenceBound20\": \"UCB(20)\",\n",
    "    \"UpperConfidenceBound100\": \"UCB(100)\"\n",
    "}"
   ]
  },
  {
   "cell_type": "code",
   "execution_count": null,
   "id": "ff528a96-86a2-44a3-8360-662b45772edf",
   "metadata": {},
   "outputs": [],
   "source": [
    "all_points = dict()\n",
    "for acquisition_function_name, values in results_by_acqf.items():\n",
    "    tmp_metrics = [exp.data.X for exp in values]\n",
    "    all_points[acquisition_function_name] = np.array(tmp_metrics)"
   ]
  },
  {
   "cell_type": "code",
   "execution_count": null,
   "id": "ffc74d25-d5e9-4b13-be15-0525cc6d7d8e",
   "metadata": {},
   "outputs": [],
   "source": [
    "N_to_plot = [3, 50, 100, 150, 200, 250]"
   ]
  },
  {
   "cell_type": "code",
   "execution_count": null,
   "id": "f2ba1b1b-40c0-43ab-9a8e-56873e0dc5e1",
   "metadata": {},
   "outputs": [],
   "source": [
    "L1 = len(acquisition_function_name_maps)\n",
    "L2 = len(N_to_plot)\n",
    "fig, axs = plt.subplots(L1, L2, figsize=(L2, L1), sharex=True, sharey=True)\n",
    "\n",
    "for ii, acquisition_function_name in enumerate(acquisition_function_name_maps.keys()):\n",
    "    value = all_points[acquisition_function_name]\n",
    "    label = acquisition_function_name_maps[acquisition_function_name]\n",
    "    for jj, N in enumerate(N_to_plot):\n",
    "        ax = axs[ii, jj]\n",
    "        X = value[:, :N, :].reshape(-1, 2)\n",
    "        ax.hist2d(X[:, 0], X[:, 1], bins=50, cmap=\"RdBu_r\")\n",
    "\n",
    "for jj, N in enumerate(N_to_plot):\n",
    "    ax = axs[0, jj]\n",
    "    ax.set_title(r\"$N=%i$\" % N)\n",
    "for ii, acquisition_function_name in enumerate(acquisition_function_name_maps.keys()):\n",
    "    label = acquisition_function_name_maps[acquisition_function_name]\n",
    "    ax = axs[ii, -1]\n",
    "    ax.text(1.05, 0.5, label, ha=\"left\", va=\"center\", transform=ax.transAxes, rotation=90)\n",
    "for ax in axs.flatten():\n",
    "    ax.set_axis_off()\n",
    "\n",
    "ax = fig.add_subplot(111, frameon=False)\n",
    "# hide tick and tick label of the big axes\n",
    "plt.tick_params(labelcolor='none', top='off', bottom='off', left='off', right='off')\n",
    "ax.set_xticks([])\n",
    "ax.set_yticks([])\n",
    "# Use `labelpad=...` for padding when using ax.set_xlabel(...)\n",
    "ax.set_ylabel(\"$x_2$~[a.u.]\")\n",
    "ax.set_xlabel(\"$x_1$~[a.u.]\")\n",
    "\n",
    "plt.subplots_adjust(hspace=0.03, wspace=0.03)\n",
    "\n",
    "if SAVE_FIGURES:\n",
    "    plt.savefig(\"sine2phase_SI_hist.pdf\", dpi=300, bbox_inches=\"tight\")\n",
    "else:\n",
    "    plt.show()"
   ]
  }
 ],
 "metadata": {
  "kernelspec": {
   "display_name": "Python 3 (ipykernel)",
   "language": "python",
   "name": "python3"
  },
  "language_info": {
   "codemirror_mode": {
    "name": "ipython",
    "version": 3
   },
   "file_extension": ".py",
   "mimetype": "text/x-python",
   "name": "python",
   "nbconvert_exporter": "python",
   "pygments_lexer": "ipython3",
   "version": "3.9.13"
  }
 },
 "nbformat": 4,
 "nbformat_minor": 5
}
