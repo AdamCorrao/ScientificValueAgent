{
 "cells": [
  {
   "cell_type": "code",
   "execution_count": null,
   "id": "9b0f74b9-cb13-4f43-bf4b-afe47baf145f",
   "metadata": {},
   "outputs": [],
   "source": [
    "%load_ext autoreload\n",
    "%autoreload 2\n",
    "%config Completer.use_jedi = False"
   ]
  },
  {
   "cell_type": "markdown",
   "id": "bb6d903c-d364-4598-8e03-f735f12463c6",
   "metadata": {},
   "source": [
    "Notebook local path should be at `ScientificValueAgent/figures`."
   ]
  },
  {
   "cell_type": "code",
   "execution_count": null,
   "id": "68d9ceee-3f21-446a-b48a-092d5bb511c9",
   "metadata": {},
   "outputs": [],
   "source": [
    "import sys\n",
    "sys.path.append(\"..\")"
   ]
  },
  {
   "cell_type": "code",
   "execution_count": null,
   "id": "e8e3981a-c176-4f5c-b0d4-2445e277bab1",
   "metadata": {},
   "outputs": [],
   "source": [
    "from collections import Counter\n",
    "from copy import deepcopy\n",
    "from itertools import product\n",
    "from pathlib import Path\n",
    "\n",
    "import matplotlib.pyplot as plt\n",
    "import matplotlib as mpl\n",
    "import numpy as np\n",
    "import pickle\n",
    "from scipy.spatial import distance_matrix\n",
    "from sklearn.cluster import KMeans\n",
    "from sklearn.linear_model import LogisticRegression\n",
    "from tqdm import tqdm\n",
    "import warnings"
   ]
  },
  {
   "cell_type": "code",
   "execution_count": null,
   "id": "8fc26b18-c721-453c-bd35-8271421cd30b",
   "metadata": {},
   "outputs": [],
   "source": [
    "from sva import utils"
   ]
  },
  {
   "cell_type": "markdown",
   "id": "48186279-79f9-46f6-ae02-9796a9296980",
   "metadata": {},
   "source": [
    "Set some plotting defaults."
   ]
  },
  {
   "cell_type": "code",
   "execution_count": null,
   "id": "599e9082-d385-48dd-b341-07a133dd0157",
   "metadata": {},
   "outputs": [],
   "source": [
    "utils.set_defaults()"
   ]
  },
  {
   "cell_type": "code",
   "execution_count": null,
   "id": "cf0fc662-3a56-4bfa-a792-66204d731111",
   "metadata": {},
   "outputs": [],
   "source": [
    "from sva.postprocessing import read_data, parse_results_by_acquisition_function\n",
    "from sva.truth.xrd1dim import (\n",
    "    _get_1d_phase_data,\n",
    "    residual_1d_phase_relative_mae,\n",
    "    xrd1dim_compute_metrics_all_acquisition_functions_and_LTB,\n",
    "    _get_1d_phase_fractions,\n",
    "    truth_xrd1dim,\n",
    "    residual_1d_phase_mse\n",
    ")"
   ]
  },
  {
   "cell_type": "code",
   "execution_count": null,
   "id": "c5dbee71-c78a-4472-8da8-0829ae3bc7a5",
   "metadata": {},
   "outputs": [],
   "source": [
    "x_grid = np.linspace(0, 100, 1000)\n",
    "phases = _get_1d_phase_fractions(x_grid).T"
   ]
  },
  {
   "cell_type": "markdown",
   "id": "2214e075-ef20-47c9-abb2-56ba12262656",
   "metadata": {},
   "source": [
    "### Average value of the GP modeling SVF"
   ]
  },
  {
   "cell_type": "code",
   "execution_count": null,
   "id": "7f1c8356-e64c-4cf5-90a6-02eb5499e60d",
   "metadata": {
    "tags": []
   },
   "outputs": [],
   "source": [
    "from sva.experiments import Experiment, Data\n",
    "from sva.value import default_asymmetric_value_function\n",
    "from sva.truth.xrd1dim import truth_xrd1dim"
   ]
  },
  {
   "cell_type": "code",
   "execution_count": null,
   "id": "cb1b880f-4eb0-456e-bbd9-6fb1994a954d",
   "metadata": {
    "tags": []
   },
   "outputs": [],
   "source": [
    "data = Data.from_initial_conditions(\n",
    "    truth=truth_xrd1dim,\n",
    "    value=default_asymmetric_value_function,\n",
    "    seed=125,\n",
    "    how=\"random\",\n",
    "    xmin=0.0,\n",
    "    xmax=100.0,\n",
    "    ndim=1,\n",
    "    value_kwargs={\"sd\": None, \"multiplier\": 1.0},\n",
    ")\n",
    "experiment_UCB = Experiment(\n",
    "    data=data,\n",
    "    acqf_signature=\"botorch.acquisition:UpperConfidenceBound\",\n",
    "    acqf_kwargs={\"beta\": 0.0},\n",
    ")\n",
    "experiment_UCB.run(max_n_dat=50, pbar=True, record_gp_every=1, points_per_dimension_full_grid=100, fit_with_Adam=True)"
   ]
  },
  {
   "cell_type": "code",
   "execution_count": null,
   "id": "8d47045a-cc1d-4317-abb7-fd859e0b8693",
   "metadata": {
    "tags": []
   },
   "outputs": [],
   "source": [
    "data = Data.from_initial_conditions(\n",
    "    truth=truth_xrd1dim,\n",
    "    value=default_asymmetric_value_function,\n",
    "    seed=127,\n",
    "    how=\"random\",\n",
    "    xmin=0.0,\n",
    "    xmax=100.0,\n",
    "    ndim=1,\n",
    "    value_kwargs={\"sd\": None, \"multiplier\": 1.0},\n",
    ")\n",
    "experiment_UCB_2 = Experiment(\n",
    "    data=data,\n",
    "    acqf_signature=\"botorch.acquisition:UpperConfidenceBound\",\n",
    "    acqf_kwargs={\"beta\": 0.0},\n",
    ")\n",
    "experiment_UCB_2.run(max_n_dat=50, pbar=True, record_gp_every=1, points_per_dimension_full_grid=100, fit_with_Adam=True)"
   ]
  },
  {
   "cell_type": "code",
   "execution_count": null,
   "id": "4bbcd24f-e4c9-4fe0-95bc-584ee3858e36",
   "metadata": {
    "tags": []
   },
   "outputs": [],
   "source": [
    "data = Data.from_initial_conditions(\n",
    "    truth=truth_xrd1dim,\n",
    "    value=default_asymmetric_value_function,\n",
    "    seed=131,\n",
    "    how=\"random\",\n",
    "    xmin=0.0,\n",
    "    xmax=100.0,\n",
    "    ndim=1,\n",
    "    value_kwargs={\"sd\": None, \"multiplier\": 1.0},\n",
    ")\n",
    "experiment_UCB_3 = Experiment(\n",
    "    data=data,\n",
    "    acqf_signature=\"botorch.acquisition:UpperConfidenceBound\",\n",
    "    acqf_kwargs={\"beta\": 0.0},\n",
    ")\n",
    "experiment_UCB_3.run(max_n_dat=50, pbar=True, record_gp_every=1, points_per_dimension_full_grid=100, fit_with_Adam=True)"
   ]
  },
  {
   "cell_type": "markdown",
   "id": "7ca836df-bdfc-403c-adbf-31beb65b9d83",
   "metadata": {},
   "source": [
    "Plot everything"
   ]
  },
  {
   "cell_type": "code",
   "execution_count": null,
   "id": "8b5b7207-5ea0-4040-874f-8cefcb31646b",
   "metadata": {
    "tags": []
   },
   "outputs": [],
   "source": [
    "extent = (-0.1, 100.1, 47, 3)"
   ]
  },
  {
   "cell_type": "code",
   "execution_count": null,
   "id": "6b6e3055-12c6-48c2-abac-a9b3ad5a9d6d",
   "metadata": {
    "tags": []
   },
   "outputs": [],
   "source": [
    "fig, axs = plt.subplots(3, 1, figsize=(4, 3), gridspec_kw={'height_ratios':[1, 1, 1]}, sharex=True)\n",
    "\n",
    "ax = axs[0]\n",
    "ax.plot(x_grid, phases[:, 0], label=\"1\")\n",
    "ax.plot(x_grid, phases[:, 1], label=\"2\")\n",
    "ax.plot(x_grid, phases[:, 2], label=\"3\")\n",
    "ax.plot(x_grid, phases[:, 3], label=\"4\")\n",
    "ax.set_ylabel(r\"$p(x)$\")\n",
    "# axlims = ax.get_ylim()\n",
    "# ax.text(1.05, 1.0, \"Phase\", ha=\"left\", va=\"bottom\", transform=ax.transAxes)\n",
    "# ax.text(0.025, 0.9, \"(a)\", ha=\"left\", va=\"top\", transform=ax.transAxes)\n",
    "# ax.legend(frameon=False, bbox_to_anchor=(1.0, 0.5), loc=\"center left\")\n",
    "\n",
    "ax = axs[1]\n",
    "svf = np.array([v[\"mu\"] for v in experiment_UCB._record])\n",
    "svf = svf[::-1, :]\n",
    "svf = svf / svf.max(axis=1, keepdims=True)\n",
    "\n",
    "ax.imshow(svf, cmap=\"viridis\", rasterized=True, aspect=\"auto\", extent=extent)\n",
    "ytick_labels = np.array([3, 47])\n",
    "ax.set_yticks(ytick_labels)\n",
    "ax.set_yticklabels(ytick_labels[::-1])\n",
    "ax.set_xticks(np.array([0, 20, 40, 60, 80, 100]))\n",
    "ax.text(0.05, 0.9, \"UCB(0)\", ha=\"left\", va=\"top\", transform=ax.transAxes, color=\"white\")\n",
    "ax.text(0.05, 0.7, \"Exp 1\", ha=\"left\", va=\"top\", transform=ax.transAxes, color=\"white\")\n",
    "ax.set_ylabel(r\"$N$\")\n",
    "\n",
    "ax = axs[2]\n",
    "ax.hist(experiment_UCB.data.X.squeeze(), label=\"Exp 1\")\n",
    "ax.hist(experiment_UCB_2.data.X.squeeze(), label=\"Exp 2\")\n",
    "ax.hist(experiment_UCB_3.data.X.squeeze(), label=\"Exp 3\")\n",
    "ax.legend(fontsize=8, frameon=False)\n",
    "ax.set_ylabel(r\"Counts\")\n",
    "ax.set_xlabel(r\"$x$~[a.u.]\")\n",
    "\n",
    "plt.show()\n",
    "# plt.savefig(\"figures_xrd1dim/SI_xrd1dim_SVF_beta0.pdf\", dpi=300, bbox_inches=\"tight\")"
   ]
  }
 ],
 "metadata": {
  "kernelspec": {
   "display_name": "Python 3 (ipykernel)",
   "language": "python",
   "name": "python3"
  },
  "language_info": {
   "codemirror_mode": {
    "name": "ipython",
    "version": 3
   },
   "file_extension": ".py",
   "mimetype": "text/x-python",
   "name": "python",
   "nbconvert_exporter": "python",
   "pygments_lexer": "ipython3",
   "version": "3.9.16"
  }
 },
 "nbformat": 4,
 "nbformat_minor": 5
}
