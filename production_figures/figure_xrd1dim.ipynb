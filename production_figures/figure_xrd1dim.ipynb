{
 "cells": [
  {
   "cell_type": "code",
   "execution_count": null,
   "id": "9b0f74b9-cb13-4f43-bf4b-afe47baf145f",
   "metadata": {},
   "outputs": [],
   "source": [
    "%load_ext autoreload\n",
    "%autoreload 2\n",
    "%config Completer.use_jedi = False"
   ]
  },
  {
   "cell_type": "markdown",
   "id": "bb6d903c-d364-4598-8e03-f735f12463c6",
   "metadata": {},
   "source": [
    "Notebook local path should be at `ScientificValueAgent/figures`."
   ]
  },
  {
   "cell_type": "code",
   "execution_count": null,
   "id": "68d9ceee-3f21-446a-b48a-092d5bb511c9",
   "metadata": {},
   "outputs": [],
   "source": [
    "import sys\n",
    "sys.path.append(\"..\")"
   ]
  },
  {
   "cell_type": "code",
   "execution_count": null,
   "id": "e8e3981a-c176-4f5c-b0d4-2445e277bab1",
   "metadata": {},
   "outputs": [],
   "source": [
    "from collections import Counter\n",
    "from itertools import product\n",
    "from pathlib import Path\n",
    "\n",
    "import matplotlib.pyplot as plt\n",
    "import matplotlib as mpl\n",
    "import numpy as np\n",
    "import pickle\n",
    "from scipy.spatial import distance_matrix\n",
    "from sklearn.cluster import KMeans\n",
    "from sklearn.linear_model import LogisticRegression\n",
    "from tqdm import tqdm\n",
    "import warnings"
   ]
  },
  {
   "cell_type": "code",
   "execution_count": null,
   "id": "8fc26b18-c721-453c-bd35-8271421cd30b",
   "metadata": {},
   "outputs": [],
   "source": [
    "from sva import utils"
   ]
  },
  {
   "cell_type": "code",
   "execution_count": null,
   "id": "0b7de36b-aaa9-4f20-a802-176af386b210",
   "metadata": {
    "tags": []
   },
   "outputs": [],
   "source": [
    "!which python3"
   ]
  },
  {
   "cell_type": "markdown",
   "id": "48186279-79f9-46f6-ae02-9796a9296980",
   "metadata": {},
   "source": [
    "Set some plotting defaults."
   ]
  },
  {
   "cell_type": "code",
   "execution_count": null,
   "id": "599e9082-d385-48dd-b341-07a133dd0157",
   "metadata": {},
   "outputs": [],
   "source": [
    "utils.set_defaults()"
   ]
  },
  {
   "cell_type": "markdown",
   "id": "2cad6ac1-6915-4f9a-8090-a4b9871c7a81",
   "metadata": {
    "tags": []
   },
   "source": [
    "# Multi-phase one-dimensional XRD results"
   ]
  },
  {
   "cell_type": "code",
   "execution_count": null,
   "id": "cf0fc662-3a56-4bfa-a792-66204d731111",
   "metadata": {},
   "outputs": [],
   "source": [
    "from sva.postprocessing import read_data, parse_results_by_acquisition_function\n",
    "from sva.truth.xrd1dim import (\n",
    "    _get_1d_phase_data,\n",
    "    residual_1d_phase_relative_mae,\n",
    "    xrd1dim_compute_metrics_all_acquisition_functions_and_LTB,\n",
    "    _get_1d_phase_fractions,\n",
    "    truth_xrd1dim,\n",
    "    residual_1d_phase_mse\n",
    ")"
   ]
  },
  {
   "cell_type": "code",
   "execution_count": null,
   "id": "ba98eb8c-d355-429a-8a33-f6fc70edd262",
   "metadata": {},
   "outputs": [],
   "source": [
    "results_Adam = read_data(\"../results/results_23-05-02-xrd1dim/\")"
   ]
  },
  {
   "cell_type": "code",
   "execution_count": null,
   "id": "008c577d-5caa-4b89-b069-449c83a5878f",
   "metadata": {},
   "outputs": [],
   "source": [
    "results_by_acqf_Adam = parse_results_by_acquisition_function(results_Adam)"
   ]
  },
  {
   "cell_type": "code",
   "execution_count": null,
   "id": "9a06a9a0-e0c6-4f3f-b21f-dfea11181970",
   "metadata": {},
   "outputs": [],
   "source": [
    "cache = Path(\"cache\")\n",
    "cache.mkdir(exist_ok=True)"
   ]
  },
  {
   "cell_type": "markdown",
   "id": "4bffcfcb-fbf8-4760-bc67-53312d2ac7ea",
   "metadata": {
    "tags": []
   },
   "source": [
    "## Core manuscript figure"
   ]
  },
  {
   "cell_type": "markdown",
   "id": "1c17e853-1450-4024-9f28-efd16b80c708",
   "metadata": {},
   "source": [
    "### Subfigure (a) and (b)"
   ]
  },
  {
   "cell_type": "code",
   "execution_count": null,
   "id": "928bb216-ce49-4f41-85d0-802aea5ace5e",
   "metadata": {},
   "outputs": [],
   "source": [
    "acquisition_function = \"UpperConfidenceBound10\"\n",
    "all_results_Adam = np.array([xx.data.X.squeeze() for xx in results_by_acqf_Adam[acquisition_function]])"
   ]
  },
  {
   "cell_type": "markdown",
   "id": "36de6cd6-f41d-415a-81f0-c978f16e3fa4",
   "metadata": {},
   "source": [
    "Get the phases..."
   ]
  },
  {
   "cell_type": "code",
   "execution_count": null,
   "id": "efbdac02-59e7-4b7d-b50d-5ac09e2ce147",
   "metadata": {},
   "outputs": [],
   "source": [
    "x_grid = np.linspace(0, 100, 1000)\n",
    "phases = _get_1d_phase_fractions(x_grid).T"
   ]
  },
  {
   "cell_type": "markdown",
   "id": "9d1a4f79-4b5b-4dc4-9f0b-09fd0d185716",
   "metadata": {},
   "source": [
    "Resolve by the experiment iteration..."
   ]
  },
  {
   "cell_type": "code",
   "execution_count": null,
   "id": "932e40e7-f23a-4e4f-8516-5a853a870e89",
   "metadata": {},
   "outputs": [],
   "source": [
    "all_results_Adam_n_resolved = [all_results_Adam[:, :nn].flatten() for nn in range(3, all_results_Adam.shape[1] + 1)]"
   ]
  },
  {
   "cell_type": "code",
   "execution_count": null,
   "id": "bf95efbc-37a6-4e8e-80cb-694ba531774e",
   "metadata": {},
   "outputs": [],
   "source": [
    "all_results_Adam_n_resolved_coordinates = []\n",
    "for ii, res in enumerate(all_results_Adam_n_resolved):\n",
    "    n = len(res)\n",
    "    coords = (np.ones(shape=(n,)) * ii).astype(int)\n",
    "    arr = np.array([res, coords]).T\n",
    "    all_results_Adam_n_resolved_coordinates.append(arr)\n",
    "all_results_Adam_n_resolved_coordinates = np.concatenate(all_results_Adam_n_resolved_coordinates, axis=0)\n",
    "all_results_Adam_n_resolved_coordinates[:, 1] += 3"
   ]
  },
  {
   "cell_type": "code",
   "execution_count": null,
   "id": "38a5c248-0790-4a34-82d7-784b61362c99",
   "metadata": {},
   "outputs": [],
   "source": [
    "vmax = 1500"
   ]
  },
  {
   "cell_type": "code",
   "execution_count": null,
   "id": "4a93568c-4183-40cd-9a40-d20f34bafff3",
   "metadata": {},
   "outputs": [],
   "source": [
    "fig, axs = plt.subplots(2, 1, figsize=(3, 3), gridspec_kw={'height_ratios':[1, 2]}, sharex=True)\n",
    "\n",
    "ax = axs[0]\n",
    "ax.plot(x_grid, phases[:, 0], label=\"1\")\n",
    "ax.plot(x_grid, phases[:, 1], label=\"2\")\n",
    "ax.plot(x_grid, phases[:, 2], label=\"3\")\n",
    "ax.plot(x_grid, phases[:, 3], label=\"4\")\n",
    "axlims = ax.get_ylim()\n",
    "ax.text(1.05, 1.0, \"Phase\", ha=\"left\", va=\"bottom\", transform=ax.transAxes)\n",
    "ax.text(0.025, 0.9, \"(a)\", ha=\"left\", va=\"top\", transform=ax.transAxes)\n",
    "ax.legend(frameon=False, bbox_to_anchor=(1.0, 0.5), loc=\"center left\")\n",
    "\n",
    "ax.fill_betweenx(np.linspace(*axlims, 10), 10, 50, color=\"black\", alpha=0.1, linewidth=0)\n",
    "ax.fill_betweenx(np.linspace(*axlims, 10), 60, 80, color=\"black\", alpha=0.1, linewidth=0)\n",
    "ax.fill_betweenx(np.linspace(*axlims, 10), 88.5, 91.5, color=\"black\", alpha=0.1, linewidth=0)\n",
    "\n",
    "utils.set_grids(ax)\n",
    "ax.set_ylabel(\"$p(x)$\")\n",
    "ax.set_ylim(*axlims)\n",
    "\n",
    "ax = axs[1]\n",
    "ax.hist2d(all_results_Adam_n_resolved_coordinates[:, 0], all_results_Adam_n_resolved_coordinates[:, 1], bins=[100, 247], cmap=\"viridis\", vmax=vmax, rasterized=True)\n",
    "ax.set_yticks([3, 50, 150, 250])\n",
    "ax.set_xticks([0, 20, 40, 60, 80, 100])\n",
    "utils.set_grids(ax)\n",
    "ax.tick_params(which=\"minor\", left=False, right=False)\n",
    "ax.set_ylabel(r\"$N$\")\n",
    "ax.set_xlabel(\"$x$~[a.u.]\")\n",
    "ax.text(0.025, 0.9, \"(b)\", ha=\"left\", va=\"top\", transform=ax.transAxes, color=\"white\")\n",
    "\n",
    "# plt.savefig(\"figures_xrd1dim/ucb.pdf\", bbox_inches=\"tight\", dpi=300)\n",
    "plt.savefig(\"figures_xrd1dim/xrd1dim_subfigure_a.svg\", dpi=300, bbox_inches=\"tight\")\n",
    "# plt.show()"
   ]
  },
  {
   "cell_type": "markdown",
   "id": "b5cbe80b-1c84-461c-8aa7-c3d5cd62b491",
   "metadata": {},
   "source": [
    "### Subfigure (a) colorbar"
   ]
  },
  {
   "cell_type": "code",
   "execution_count": null,
   "id": "3dafb5ea-fbdd-4172-b69c-1d22a188bd84",
   "metadata": {},
   "outputs": [],
   "source": [
    "fig, ax = plt.subplots(1, 1, figsize=(2, 2), sharex=True, sharey=True)\n",
    "\n",
    "im = ax.hist2d(all_results_Adam_n_resolved_coordinates[:, 0], all_results_Adam_n_resolved_coordinates[:, 1], bins=[150, 247], cmap=\"viridis\", vmax=vmax)\n",
    "\n",
    "cbar = utils.add_colorbar(im[-1], aspect=20)\n",
    "cbar.set_ticks([0, vmax])\n",
    "cbar.set_ticklabels([0, f\"$\\geq$ %i\" % int(vmax / 300)])\n",
    "cbar.set_label(r\"Average Counts\", labelpad=-10)\n",
    "\n",
    "ax.remove()\n",
    "\n",
    "plt.savefig(\"figures_xrd1dim/xrd1dim_cbar.svg\", dpi=300, bbox_inches=\"tight\")\n",
    "# plt.show()"
   ]
  },
  {
   "cell_type": "markdown",
   "id": "a1115843-0696-4840-9597-c22087f1d050",
   "metadata": {},
   "source": [
    "### Subfigure (c): select metrics"
   ]
  },
  {
   "cell_type": "markdown",
   "id": "9f00c9cc-eb25-4d33-8c89-135236e859e6",
   "metadata": {},
   "source": [
    "The metrics for this part take a long time to calculate, so we cache them."
   ]
  },
  {
   "cell_type": "code",
   "execution_count": null,
   "id": "eee6cdac-e9f4-4466-8e19-66f4eaea7e46",
   "metadata": {},
   "outputs": [],
   "source": [
    "acquisition_function_name_maps = {\n",
    "    \"Linear\": \"LTB\",\n",
    "    \"UpperConfidenceBound10\": \"UCB(10)\",\n",
    "    \"ExpectedImprovement\": \"EI\",\n",
    "    \"UpperConfidenceBound1\": \"UCB(1)\",\n",
    "    \"UpperConfidenceBound20\": \"UCB(20)\",\n",
    "    \"UpperConfidenceBound100\": \"UCB(100)\"\n",
    "}"
   ]
  },
  {
   "cell_type": "code",
   "execution_count": null,
   "id": "5cad0121-600a-496d-8583-841b1a69e990",
   "metadata": {},
   "outputs": [],
   "source": [
    "metrics_grid = list(range(3, 251, 10))\n",
    "linspace_points = 10000"
   ]
  },
  {
   "cell_type": "code",
   "execution_count": null,
   "id": "f2916149-c90d-4f8c-80ff-0fb0d1f10d94",
   "metadata": {},
   "outputs": [],
   "source": [
    "path = cache / \"xrd1dim_all.pkl\"\n",
    "if not path.exists():\n",
    "    print(\"Recalculating...\")\n",
    "    _m = xrd1dim_compute_metrics_all_acquisition_functions_and_LTB(\n",
    "        results_by_acqf_Adam,\n",
    "        metrics_grid=metrics_grid,\n",
    "        metrics_grid_linear=metrics_grid,\n",
    "        metric=\"mse\",\n",
    "        grid_points=linspace_points,\n",
    "        disable_pbar=False,\n",
    "        xmin=0.0,\n",
    "        xmax=100.0,\n",
    "    )\n",
    "    all_metrics = _m[\"metrics\"]\n",
    "    pickle.dump(all_metrics, open(path, \"wb\"), protocol=pickle.HIGHEST_PROTOCOL)\n",
    "else:\n",
    "    all_metrics = pickle.load(open(path, \"rb\"))"
   ]
  },
  {
   "cell_type": "code",
   "execution_count": null,
   "id": "442ceaf2-ce3f-48bb-b12a-8a8d449ca329",
   "metadata": {},
   "outputs": [],
   "source": [
    "only_plot = [\"LTB\", \"EI\", \"UCB(10)\"]"
   ]
  },
  {
   "cell_type": "code",
   "execution_count": null,
   "id": "79b0a549-fed0-4233-aa01-783356b20cd1",
   "metadata": {},
   "outputs": [],
   "source": [
    "fig, ax = plt.subplots(1, 1, figsize=(2, 3))\n",
    "\n",
    "for acquisition_function_name in acquisition_function_name_maps.keys():\n",
    "    values = all_metrics[acquisition_function_name]\n",
    "    label = acquisition_function_name_maps[acquisition_function_name]\n",
    "    if only_plot is None or label in only_plot:\n",
    "        v = np.log(values)\n",
    "        mu = np.nanmean(v, axis=1)\n",
    "        sd = np.nanstd(v, axis=1) * 2\n",
    "        ax.plot(metrics_grid, mu, label=label if label != \"LTB\" else \"Grid\")\n",
    "        ax.fill_between(metrics_grid, mu - sd, mu + sd, linewidth=0, alpha=0.3)\n",
    "\n",
    "utils.set_grids(ax)\n",
    "ax.tick_params(which=\"minor\", bottom=False, top=False)\n",
    "ax.set_xticks([3, 50, 150, 250])\n",
    "\n",
    "ax.legend(frameon=False, loc=\"upper right\")\n",
    "# ax.text(0.1, 0.05, r\"$\\mu \\pm \\sigma / 3$\", ha=\"left\", va=\"bottom\", transform=ax.transAxes)\n",
    "ax.text(0.1, 0.95, r\"(c)\", ha=\"left\", va=\"top\", transform=ax.transAxes)\n",
    "\n",
    "# ax.set_yscale(\"log\")\n",
    "yticks = np.array([-2, -5, -8, -11, -14])\n",
    "ax.set_yticks((yticks).tolist())\n",
    "ax.set_yticklabels([f\"${ii}$\" for ii in yticks])\n",
    "# ax.set_ylim(10**-5.3, 10**-0.7)\n",
    "ax.tick_params(axis='y', which='minor', left=True, right=True)\n",
    "\n",
    "ax.set_xlabel(r\"$N$\")\n",
    "ax.set_ylabel(r\"$\\ln$(MSE)\")\n",
    "\n",
    "# plt.savefig(\"figures_xrd1dim/xrd1dim_subfigure_c.svg\", dpi=300, bbox_inches=\"tight\")\n",
    "plt.show()"
   ]
  },
  {
   "cell_type": "markdown",
   "id": "f4e61697-adcb-4b49-94a0-f322008b8eb0",
   "metadata": {},
   "source": [
    "# Bayes clustering (SI figure)"
   ]
  },
  {
   "cell_type": "code",
   "execution_count": null,
   "id": "1dbb4f61-b9ba-4a52-8683-8636ce1cbc0c",
   "metadata": {
    "tags": []
   },
   "outputs": [],
   "source": [
    "max_queries = 250\n",
    "grid_points = 10000\n",
    "N_exp = 10"
   ]
  },
  {
   "cell_type": "code",
   "execution_count": null,
   "id": "889898a4-f2b4-4c68-a269-7c45bef54bdb",
   "metadata": {
    "tags": []
   },
   "outputs": [],
   "source": [
    "np.random.seed(123)\n",
    "\n",
    "with warnings.catch_warnings():\n",
    "    warnings.simplefilter(\"ignore\")\n",
    "\n",
    "    for k_clusters in [3, 4, 5]:\n",
    "        metrics_grid = list(range(k_clusters, max_queries + 1, 10))\n",
    "        all_metrics[f\"Bayesian_{k_clusters}\"] = []\n",
    "\n",
    "        for exp in tqdm(range(N_exp)):\n",
    "            k_means = KMeans(k_clusters, n_init=\"auto\")\n",
    "            clf = LogisticRegression()\n",
    "            x = list(np.linspace(0, 100, k_clusters))\n",
    "            y = truth_xrd1dim(np.array(x))  # This won't take single items, so we feed it the entire array each time???\n",
    "\n",
    "            for _ in range(k_clusters + 1, max_queries + 1):\n",
    "                labels = k_means.fit_predict(y)\n",
    "                clf.fit(np.array(x).reshape(-1, 1), labels)\n",
    "                linspace = np.linspace(0, 100, 1000).reshape(-1, 1)\n",
    "                proby = clf.predict_proba(linspace)\n",
    "                shannon = np.sum(proby * np.log(1 / proby), axis=-1)\n",
    "                max_entropy_loc = float(linspace[np.argmax(shannon)])\n",
    "\n",
    "                x.append(max_entropy_loc)\n",
    "                y = truth_xrd1dim(np.array(x))\n",
    "\n",
    "            _metrics = []\n",
    "            for N in metrics_grid:\n",
    "                res = residual_1d_phase_mse(\n",
    "                    np.array(x)[:N].reshape(-1, 1),\n",
    "                    linspace_points=grid_points,\n",
    "                    use_only=None,\n",
    "                )\n",
    "                _metrics.append(res)\n",
    "            all_metrics[f\"Bayesian_{k_clusters}\"].append(_metrics)\n",
    "\n",
    "for k_clusters in [3, 4, 5]:\n",
    "    all_metrics[f\"Bayesian_{k_clusters}\"] = np.array(all_metrics[f\"Bayesian_{k_clusters}\"])"
   ]
  },
  {
   "cell_type": "code",
   "execution_count": null,
   "id": "6424d938-6d29-490e-a0e5-deaf90a33075",
   "metadata": {
    "tags": []
   },
   "outputs": [],
   "source": [
    "metric_grids_bayesian = []\n",
    "for k_clusters in [3, 4, 5]:\n",
    "    metric_grids_bayesian.append(list(range(k_clusters, max_queries + 1, 10)))"
   ]
  },
  {
   "cell_type": "code",
   "execution_count": null,
   "id": "0c982850-5dba-4f4a-8d21-030d24f9d27c",
   "metadata": {
    "tags": []
   },
   "outputs": [],
   "source": [
    "fig, ax = plt.subplots(1, 1, figsize=(2, 3))\n",
    "\n",
    "for acquisition_function_name in acquisition_function_name_maps.keys():\n",
    "    values = all_metrics[acquisition_function_name]\n",
    "    label = acquisition_function_name_maps[acquisition_function_name]\n",
    "    if only_plot is None or label in only_plot:\n",
    "        v = np.log(values)\n",
    "        mu = np.nanmean(v, axis=1)\n",
    "        sd = np.nanstd(v, axis=1) * 2\n",
    "        ax.plot(metrics_grid, mu, label=label if label != \"LTB\" else \"Grid\")\n",
    "        ax.fill_between(metrics_grid, mu - sd, mu + sd, linewidth=0, alpha=0.3)\n",
    "\n",
    "\n",
    "acquisition_function_name_maps_bayesian = {\n",
    "    f\"Bayesian_{k_clusters}\": f\"Bayesian_{k_clusters}_clusters\" for k_clusters in [3, 4, 5]\n",
    "}\n",
    "for ii, acquisition_function_name in enumerate(acquisition_function_name_maps_bayesian.keys()):\n",
    "    values = all_metrics[acquisition_function_name]\n",
    "    label = acquisition_function_name_maps_bayesian[acquisition_function_name]\n",
    "    mu = np.nanmean(np.log(values), axis=0)\n",
    "    sd = np.nanstd(np.log(values), axis=0) * 2\n",
    "    ax.plot(metric_grids_bayesian[ii], mu, label=label.replace(\"_\", \" \"))\n",
    "    ax.fill_between(metric_grids_bayesian[ii], mu - sd, mu + sd, linewidth=0, alpha=0.3)\n",
    "\n",
    "\n",
    "utils.set_grids(ax)\n",
    "ax.tick_params(which=\"minor\", bottom=False, top=False)\n",
    "ax.set_xticks([3, 50, 150, 250])\n",
    "\n",
    "ax.legend(frameon=False, loc=\"center left\", bbox_to_anchor=(1, 0.5))\n",
    "# ax.text(0.1, 0.05, r\"$\\mu \\pm \\sigma / 3$\", ha=\"left\", va=\"bottom\", transform=ax.transAxes)\n",
    "# ax.text(0.1, 0.95, r\"(c)\", ha=\"left\", va=\"top\", transform=ax.transAxes)\n",
    "\n",
    "# ax.set_yscale(\"log\")\n",
    "yticks = np.array([-2, -5, -8, -11, -14])\n",
    "ax.set_yticks((yticks).tolist())\n",
    "ax.set_yticklabels([f\"${ii}$\" for ii in yticks])\n",
    "# ax.set_ylim(10**-5.3, 10**-0.7)\n",
    "ax.tick_params(axis='y', which='minor', left=True, right=True)\n",
    "\n",
    "ax.set_xlabel(r\"$N$\")\n",
    "ax.set_ylabel(r\"$\\ln$(MSE)\")\n",
    "\n",
    "# plt.show()\n",
    "plt.savefig(\"figures_xrd1dim/SI_xrd1dim_Bayesian.svg\", dpi=300, bbox_inches=\"tight\")"
   ]
  }
 ],
 "metadata": {
  "kernelspec": {
   "display_name": "Python 3 (ipykernel)",
   "language": "python",
   "name": "python3"
  },
  "language_info": {
   "codemirror_mode": {
    "name": "ipython",
    "version": 3
   },
   "file_extension": ".py",
   "mimetype": "text/x-python",
   "name": "python",
   "nbconvert_exporter": "python",
   "pygments_lexer": "ipython3",
   "version": "3.9.16"
  }
 },
 "nbformat": 4,
 "nbformat_minor": 5
}
