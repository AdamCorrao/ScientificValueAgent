{
 "cells": [
  {
   "cell_type": "code",
   "execution_count": 1,
   "id": "e571f209-db40-493c-a035-901ae1fd3227",
   "metadata": {},
   "outputs": [],
   "source": [
    "%load_ext autoreload\n",
    "%autoreload 2\n",
    "%config Completer.use_jedi = False"
   ]
  },
  {
   "cell_type": "code",
   "execution_count": 2,
   "id": "aa91026d-9a8e-4435-8f2f-b81b9190d46b",
   "metadata": {},
   "outputs": [],
   "source": [
    "import numpy as np\n",
    "import matplotlib.pyplot as plt\n",
    "import matplotlib as mpl\n",
    "import torch"
   ]
  },
  {
   "cell_type": "code",
   "execution_count": 3,
   "id": "18e32e86-8fc9-4f4e-8aa3-283ed87763cf",
   "metadata": {},
   "outputs": [],
   "source": [
    "mpl.rcParams['mathtext.fontset'] = 'stix'\n",
    "mpl.rcParams['font.family'] = 'STIXGeneral'\n",
    "mpl.rcParams['text.usetex'] = False\n",
    "plt.rc('xtick', labelsize=12)\n",
    "plt.rc('ytick', labelsize=12)\n",
    "plt.rc('axes', labelsize=12)\n",
    "mpl.rcParams['figure.dpi'] = 300"
   ]
  },
  {
   "cell_type": "code",
   "execution_count": 4,
   "id": "7a1f6053-640b-4cdb-9e4e-82ec87ee4bd1",
   "metadata": {},
   "outputs": [],
   "source": [
    "import sys\n",
    "sys.path.append(\"..\")"
   ]
  },
  {
   "cell_type": "code",
   "execution_count": 5,
   "id": "0f97685c-3980-4e41-8ced-5db4592bdf08",
   "metadata": {},
   "outputs": [
    {
     "name": "stderr",
     "output_type": "stream",
     "text": [
      "/Users/mc/miniforge3/envs/py3.11-sva/lib/python3.11/site-packages/tqdm/auto.py:21: TqdmWarning: IProgress not found. Please update jupyter and ipywidgets. See https://ipywidgets.readthedocs.io/en/stable/user_install.html\n",
      "  from .autonotebook import tqdm as notebook_tqdm\n"
     ]
    },
    {
     "name": "stdout",
     "output_type": "stream",
     "text": [
      "torch default dtype set to torch.float64\n",
      "torch default device set to cpu\n"
     ]
    }
   ],
   "source": [
    "# Import the various experiments we need for the notebook\n",
    "from sva.experiments import Simple2d, PolicyPerformanceEvaluator\n",
    "\n",
    "# Import the seeding function for reproducibility\n",
    "from sva.utils import seed_everything"
   ]
  },
  {
   "cell_type": "markdown",
   "id": "56f9eb37-bca5-4832-8c4a-de60b3c3275e",
   "metadata": {},
   "source": [
    "# A simple 2d example"
   ]
  },
  {
   "cell_type": "code",
   "execution_count": 6,
   "id": "43097fcb-239d-4f33-8538-380d24a98992",
   "metadata": {
    "scrolled": true
   },
   "outputs": [],
   "source": [
    "experiment = Simple2d()\n",
    "experiment.initialize_data(n=5, protocol=\"random\")"
   ]
  },
  {
   "cell_type": "code",
   "execution_count": 55,
   "id": "27147ea9-ca92-4506-8035-c2cfd85a50ad",
   "metadata": {},
   "outputs": [
    {
     "data": {
      "text/plain": [
       "array([ 2., -4.])"
      ]
     },
     "execution_count": 55,
     "metadata": {},
     "output_type": "execute_result"
    }
   ],
   "source": [
    "x = experiment.get_dense_coordinates(ppd=100)\n",
    "y, _ = experiment(x)\n",
    "x[y.argmax()]"
   ]
  },
  {
   "cell_type": "code",
   "execution_count": 7,
   "id": "4eedf106-4ecc-4f7a-97e7-417d3f0addcc",
   "metadata": {},
   "outputs": [],
   "source": [
    "acquisition_function_list = [\"EI\", \"UCB\", \"UCB\", \"UCB\"]\n",
    "acquisition_function_kwargs_list = [None, {\"beta\": 2.0}, {\"beta\": 20.0}, {\"beta\": 100.0}]"
   ]
  },
  {
   "cell_type": "code",
   "execution_count": 8,
   "id": "83714d15-8da8-45c6-8fbb-4c4c6b1ef8ed",
   "metadata": {},
   "outputs": [],
   "source": [
    "policy_evaluator = PolicyPerformanceEvaluator(experiment)\n",
    "policy_evaluator.run(20, 5, acquisition_function_list, acquisition_function_kwargs_list)"
   ]
  },
  {
   "cell_type": "code",
   "execution_count": 9,
   "id": "2d8ca142-42c5-4576-9466-e82333b9cd89",
   "metadata": {
    "collapsed": true,
    "jupyter": {
     "outputs_hidden": true
    },
    "scrolled": true
   },
   "outputs": [
    {
     "name": "stdout",
     "output_type": "stream",
     "text": [
      "torch default dtype set to torch.float64\n",
      "torch default device set to cpu\n",
      "done with UCB, {'beta': 2.0}, 2\n",
      "done with UCB, {'beta': 20.0}, 2\n",
      "torch default dtype set to torch.float64\n",
      "torch default device set to cpu\n",
      "done with EI, None, 4\n",
      "torch default dtype set to torch.float64\n",
      "torch default device set to cpu\n",
      "done with EI, None, 0\n",
      "torch default dtype set to torch.float64\n",
      "torch default device set to cpu\n",
      "done with UCB, {'beta': 2.0}, 0\n",
      "done with UCB, {'beta': 20.0}, 3\n",
      "torch default dtype set to torch.float64\n",
      "torch default device set to cpu\n",
      "done with EI, None, 1\n",
      "torch default dtype set to torch.float64\n",
      "torch default device set to cpu\n",
      "done with UCB, {'beta': 20.0}, 1\n",
      "done with UCB, {'beta': 100.0}, 0\n",
      "torch default dtype set to torch.float64\n",
      "torch default device set to cpu\n",
      "done with UCB, {'beta': 2.0}, 1\n",
      "done with UCB, {'beta': 20.0}, 4\n",
      "torch default dtype set to torch.float64\n",
      "torch default device set to cpu\n",
      "done with UCB, {'beta': 2.0}, 4\n",
      "done with UCB, {'beta': 100.0}, 1\n",
      "torch default dtype set to torch.float64\n",
      "torch default device set to cpu\n",
      "done with UCB, {'beta': 2.0}, 3\n",
      "done with UCB, {'beta': 100.0}, 2\n",
      "torch default dtype set to torch.float64\n",
      "torch default device set to cpu\n",
      "done with EI, None, 2\n",
      "done with UCB, {'beta': 100.0}, 4\n",
      "torch default dtype set to torch.float64\n",
      "torch default device set to cpu\n",
      "done with UCB, {'beta': 20.0}, 0\n",
      "done with UCB, {'beta': 100.0}, 3\n",
      "torch default dtype set to torch.float64\n",
      "torch default device set to cpu\n",
      "done with EI, None, 3\n"
     ]
    }
   ],
   "source": [
    "res = policy_evaluator.process_results()"
   ]
  },
  {
   "cell_type": "code",
   "execution_count": 61,
   "id": "cfc48648-72df-4bb6-9ab3-04ffc4221f70",
   "metadata": {},
   "outputs": [
    {
     "data": {
      "text/plain": [
       "(array([[2.71168424]]), None)"
      ]
     },
     "execution_count": 61,
     "metadata": {},
     "output_type": "execute_result"
    }
   ],
   "source": [
    "x_star = exp.metadata[\"optima\"][\"next_points\"].numpy()\n",
    "exp(x_star)"
   ]
  },
  {
   "cell_type": "code",
   "execution_count": 38,
   "id": "40338996-c9c5-4a4c-85ba-2b71f5e19f37",
   "metadata": {},
   "outputs": [],
   "source": [
    "key = list(res.keys())[2]"
   ]
  },
  {
   "cell_type": "code",
   "execution_count": 51,
   "id": "65743c6d-ca12-4f02-9626-14b739b68adc",
   "metadata": {},
   "outputs": [],
   "source": [
    "_exp = res[key][3][\"experiment\"]"
   ]
  },
  {
   "cell_type": "code",
   "execution_count": 52,
   "id": "addfd9f2-9c94-4a78-8447-4e067ee27339",
   "metadata": {},
   "outputs": [],
   "source": [
    "# Get the ground truth results\n",
    "x = _exp.get_dense_coordinates(ppd=100)\n",
    "y, _ = _exp(x)"
   ]
  },
  {
   "cell_type": "code",
   "execution_count": 53,
   "id": "5bedf46c-43d0-47f5-a04e-f218f5a2d8a8",
   "metadata": {},
   "outputs": [],
   "source": [
    "extent = _exp.get_experimental_domain_mpl_extent()"
   ]
  },
  {
   "cell_type": "code",
   "execution_count": 54,
   "id": "ac1c5240-baf8-4a4a-b13f-86dffd48835e",
   "metadata": {},
   "outputs": [
    {
     "data": {
      "image/png": "[encoded data removed]",
      "text/plain": [
       "<Figure size 900x900 with 1 Axes>"
      ]
     },
     "metadata": {},
     "output_type": "display_data"
    }
   ],
   "source": [
    "fig, ax = plt.subplots(1, 1, figsize=(3, 3), sharex=True, sharey=True)\n",
    "X, Y = _exp.data.X, _exp.data.Y\n",
    "ax.imshow(y.reshape(100, 100).T, extent=extent, interpolation='nearest', origin='lower')\n",
    "ax.scatter(X[:, 0], X[:, 1], color=\"black\", s=0.5)\n",
    "plt.show()"
   ]
  },
  {
   "cell_type": "code",
   "execution_count": null,
   "id": "c000c0fd-4ea9-4817-91b6-81188694300d",
   "metadata": {},
   "outputs": [],
   "source": []
  },
  {
   "cell_type": "code",
   "execution_count": null,
   "id": "2c1dd6a5-b112-4498-b222-9d10e6a976a2",
   "metadata": {},
   "outputs": [],
   "source": []
  },
  {
   "cell_type": "code",
   "execution_count": null,
   "id": "f83189ac-cdf1-47b8-8212-0539829fc373",
   "metadata": {},
   "outputs": [],
   "source": []
  },
  {
   "cell_type": "code",
   "execution_count": null,
   "id": "e8446608-8b5b-4170-9fc7-906e4070c8f6",
   "metadata": {},
   "outputs": [],
   "source": []
  },
  {
   "cell_type": "markdown",
   "id": "10408f02-c946-4d64-b046-ca0de3aec618",
   "metadata": {},
   "source": [
    "From left to right, we have EI, UCB(10), UCB(40) and UCB(100)."
   ]
  },
  {
   "cell_type": "code",
   "execution_count": null,
   "id": "1466cdab-1a4c-40bd-9ff1-d23a216b2adb",
   "metadata": {},
   "outputs": [],
   "source": [
    "fig, axs = plt.subplots(1, 4, figsize=(8, 3), sharex=True, sharey=True)\n",
    "\n",
    "for ii, experiment in enumerate(experiments):\n",
    "    ax = axs[ii]\n",
    "    X, Y = experiment.data.X, experiment.data.Y\n",
    "    ax.imshow(y.reshape(100, 100).T, extent=extent, interpolation='nearest', origin='lower')\n",
    "    ax.scatter(X[:, 0], X[:, 1], color=\"black\", s=0.5)\n",
    "\n",
    "plt.show()"
   ]
  }
 ],
 "metadata": {
  "kernelspec": {
   "display_name": "Python 3 (ipykernel)",
   "language": "python",
   "name": "python3"
  },
  "language_info": {
   "codemirror_mode": {
    "name": "ipython",
    "version": 3
   },
   "file_extension": ".py",
   "mimetype": "text/x-python",
   "name": "python",
   "nbconvert_exporter": "python",
   "pygments_lexer": "ipython3",
   "version": "3.11.6"
  }
 },
 "nbformat": 4,
 "nbformat_minor": 5
}
