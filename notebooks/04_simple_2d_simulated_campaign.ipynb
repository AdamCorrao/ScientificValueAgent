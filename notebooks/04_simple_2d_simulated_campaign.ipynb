{
 "cells": [
  {
   "cell_type": "code",
   "execution_count": null,
   "id": "e571f209-db40-493c-a035-901ae1fd3227",
   "metadata": {},
   "outputs": [],
   "source": [
    "%load_ext autoreload\n",
    "%autoreload 2\n",
    "%config Completer.use_jedi = False"
   ]
  },
  {
   "cell_type": "code",
   "execution_count": null,
   "id": "aa91026d-9a8e-4435-8f2f-b81b9190d46b",
   "metadata": {},
   "outputs": [],
   "source": [
    "import numpy as np\n",
    "import matplotlib.pyplot as plt"
   ]
  },
  {
   "cell_type": "code",
   "execution_count": null,
   "id": "7a1f6053-640b-4cdb-9e4e-82ec87ee4bd1",
   "metadata": {},
   "outputs": [],
   "source": [
    "import sys\n",
    "\n",
    "sys.path.append(\"..\")"
   ]
  },
  {
   "cell_type": "code",
   "execution_count": null,
   "id": "0f97685c-3980-4e41-8ced-5db4592bdf08",
   "metadata": {},
   "outputs": [],
   "source": [
    "# Import the various experiments we need for the notebook\n",
    "from sva.experiments import (\n",
    "    Simple2d,\n",
    "    PolicyPerformanceEvaluator,\n",
    "    CampaignParameters,\n",
    ")\n",
    "\n",
    "# Import the seeding function for reproducibility\n",
    "from sva.utils import seed_everything, set_mpl_defaults"
   ]
  },
  {
   "cell_type": "code",
   "execution_count": null,
   "id": "a8dc38b2-572d-41a6-98eb-e1f20108348c",
   "metadata": {},
   "outputs": [],
   "source": [
    "set_mpl_defaults()"
   ]
  },
  {
   "cell_type": "markdown",
   "id": "56f9eb37-bca5-4832-8c4a-de60b3c3275e",
   "metadata": {},
   "source": [
    "# A simple 2d example"
   ]
  },
  {
   "cell_type": "markdown",
   "id": "619bb2ad-1ef6-4a56-b4cd-20410a911011",
   "metadata": {},
   "source": [
    "The `Simple2d` example has a maximum at $x=(2, -4).$ Below, we initialize it, and plot the ground truth function as a 2d heatmap, along with the `n` randomly initialized data points and a red \"x\" for the location of the true maximum."
   ]
  },
  {
   "cell_type": "code",
   "execution_count": null,
   "id": "43097fcb-239d-4f33-8538-380d24a98992",
   "metadata": {},
   "outputs": [],
   "source": [
    "seed_everything(1234)\n",
    "experiment = Simple2d()\n",
    "experiment.initialize_data(n=5, protocol=\"random\")"
   ]
  },
  {
   "cell_type": "code",
   "execution_count": null,
   "id": "85fb6b04-84a1-4ce9-81a1-8cb3e555fabd",
   "metadata": {},
   "outputs": [],
   "source": [
    "x = experiment.get_dense_coordinates(ppd=100)\n",
    "y, _ = experiment(x)\n",
    "extent = experiment.get_experimental_domain_mpl_extent()"
   ]
  },
  {
   "cell_type": "code",
   "execution_count": null,
   "id": "de69dc63-3d8b-49ba-8d05-ab7796969621",
   "metadata": {},
   "outputs": [],
   "source": [
    "fig, ax = plt.subplots(1, 1, figsize=(2, 2))\n",
    "\n",
    "X, Y = experiment.data.X, experiment.data.Y\n",
    "ax.imshow(\n",
    "    y.reshape(100, 100).T,\n",
    "    extent=extent,\n",
    "    interpolation=\"nearest\",\n",
    "    origin=\"lower\",\n",
    ")\n",
    "ax.scatter(X[:, 0], X[:, 1], color=\"black\", s=0.5)\n",
    "ax.scatter(2, -4, s=10, color=\"red\", marker=\"x\")\n",
    "\n",
    "plt.show()"
   ]
  },
  {
   "cell_type": "markdown",
   "id": "0d061263-7973-4c21-b89c-8ac8b59203bb",
   "metadata": {},
   "source": [
    "We would expect that with relatively few initial samples, the policy performance evaluator will show that more exploratory acquisition functions are preferable."
   ]
  },
  {
   "cell_type": "code",
   "execution_count": null,
   "id": "41a76b4a-b8cb-4604-9ce0-d9de609dcc11",
   "metadata": {},
   "outputs": [],
   "source": [
    "seed_everything(1234)\n",
    "experiment = Simple2d()\n",
    "experiment.initialize_data(n=5, protocol=\"random\")"
   ]
  },
  {
   "cell_type": "code",
   "execution_count": null,
   "id": "2bcc74cf-f2d6-4235-972c-32ad721e2c84",
   "metadata": {},
   "outputs": [],
   "source": [
    "parameter_list = [\n",
    "    CampaignParameters(acquisition_function={\"method\": \"EI\", \"kwargs\": None}),\n",
    "    CampaignParameters(\n",
    "        acquisition_function={\"method\": \"UCB\", \"kwargs\": {\"beta\": 2.0}}\n",
    "    ),\n",
    "    CampaignParameters(\n",
    "        acquisition_function={\"method\": \"UCB\", \"kwargs\": {\"beta\": 20.0}}\n",
    "    ),\n",
    "    CampaignParameters(\n",
    "        acquisition_function={\"method\": \"UCB\", \"kwargs\": {\"beta\": 100.0}}\n",
    "    ),\n",
    "]"
   ]
  },
  {
   "cell_type": "code",
   "execution_count": null,
   "id": "e0831503-b004-4ca6-b42b-68c8542be8a2",
   "metadata": {},
   "outputs": [],
   "source": [
    "parameter_list[0]"
   ]
  },
  {
   "cell_type": "code",
   "execution_count": null,
   "id": "83714d15-8da8-45c6-8fbb-4c4c6b1ef8ed",
   "metadata": {},
   "outputs": [],
   "source": [
    "policy_evaluator = PolicyPerformanceEvaluator(\n",
    "    experiment, checkpoint_dir=\"checkpoints/simple2d/n5\"\n",
    ")\n",
    "policy_evaluator.run(\n",
    "    10,\n",
    "    50,\n",
    "    parameter_list,\n",
    "    n_jobs=12,\n",
    ")"
   ]
  },
  {
   "cell_type": "code",
   "execution_count": null,
   "id": "2d8ca142-42c5-4576-9466-e82333b9cd89",
   "metadata": {},
   "outputs": [],
   "source": [
    "policy_results = policy_evaluator.process_results()"
   ]
  },
  {
   "cell_type": "code",
   "execution_count": null,
   "id": "62c1f23f-802f-40e0-9c18-db1ba9946cbc",
   "metadata": {},
   "outputs": [],
   "source": [
    "plot_kwargs = {\n",
    "    \"linewidth\": 1.0,\n",
    "    \"marker\": \"s\",\n",
    "    \"ms\": 1.0,\n",
    "    \"capthick\": 0.3,\n",
    "    \"capsize\": 2.0,\n",
    "    \"elinewidth\": 0.3,\n",
    "}"
   ]
  },
  {
   "cell_type": "code",
   "execution_count": null,
   "id": "1466cdab-1a4c-40bd-9ff1-d23a216b2adb",
   "metadata": {},
   "outputs": [],
   "source": [
    "fig, ax = plt.subplots(1, 1, figsize=(3, 2), sharex=True, sharey=True)\n",
    "\n",
    "for ii, (key, res) in enumerate(policy_results.items()):\n",
    "    x = np.arange(res.shape[1])\n",
    "    y = np.median(res, axis=0)\n",
    "    percentiles = np.percentile(res, q=[25, 75], axis=0)\n",
    "    ax.errorbar(x, y, yerr=percentiles, label=key, **plot_kwargs)\n",
    "ax.legend(frameon=False, bbox_to_anchor=(1, 0.5), loc=\"center left\")\n",
    "ax.set_yscale(\"log\")\n",
    "plt.show()"
   ]
  },
  {
   "cell_type": "markdown",
   "id": "b9269c50-e46d-45a3-9b60-021b55643c97",
   "metadata": {},
   "source": [
    "It does appear to be the case that the overall opportunity cost is lowest using the most exploratory acquisition function (in the long term). If we start with far more initial points though this might not be the same."
   ]
  },
  {
   "cell_type": "code",
   "execution_count": null,
   "id": "b46f0673-6d96-42ef-aa78-c59b841c65fd",
   "metadata": {},
   "outputs": [],
   "source": [
    "seed_everything(1234)\n",
    "experiment = Simple2d()\n",
    "experiment.initialize_data(n=50, protocol=\"random\")"
   ]
  },
  {
   "cell_type": "code",
   "execution_count": null,
   "id": "0b3a0399-39ce-44a5-9cde-fa3a976078b2",
   "metadata": {},
   "outputs": [],
   "source": [
    "policy_evaluator = PolicyPerformanceEvaluator(\n",
    "    experiment, checkpoint_dir=\"checkpoints/simple2d/n50\"\n",
    ")\n",
    "policy_evaluator.run(\n",
    "    60,\n",
    "    50,\n",
    "    parameter_list,\n",
    "    n_jobs=12,\n",
    ")"
   ]
  },
  {
   "cell_type": "code",
   "execution_count": null,
   "id": "82ecf2c7-6f97-44a1-8211-688648027b5f",
   "metadata": {},
   "outputs": [],
   "source": [
    "policy_results = policy_evaluator.process_results()"
   ]
  },
  {
   "cell_type": "code",
   "execution_count": null,
   "id": "d2c4d87d-3bf7-44e6-8216-649323e5a5e8",
   "metadata": {},
   "outputs": [],
   "source": [
    "plot_kwargs = {\n",
    "    \"linewidth\": 1.0,\n",
    "    \"marker\": \"s\",\n",
    "    \"ms\": 1.0,\n",
    "    \"capthick\": 0.3,\n",
    "    \"capsize\": 2.0,\n",
    "    \"elinewidth\": 0.3,\n",
    "}"
   ]
  },
  {
   "cell_type": "code",
   "execution_count": null,
   "id": "f3baa344-8ca7-4cd3-bbaa-b0204d5d2bbd",
   "metadata": {},
   "outputs": [],
   "source": [
    "fig, ax = plt.subplots(1, 1, figsize=(3, 2), sharex=True, sharey=True)\n",
    "\n",
    "for ii, (key, res) in enumerate(policy_results.items()):\n",
    "    x = np.arange(res.shape[1])\n",
    "    y = np.median(res, axis=0)\n",
    "    percentiles = np.percentile(res, q=[25, 75], axis=0)\n",
    "    ax.errorbar(x, y, yerr=percentiles, label=key, **plot_kwargs)\n",
    "ax.legend(frameon=False, bbox_to_anchor=(1, 0.5), loc=\"center left\")\n",
    "ax.set_yscale(\"log\")\n",
    "plt.show()"
   ]
  },
  {
   "cell_type": "markdown",
   "id": "3b6b2c4a-bcd4-44f7-9154-a2d03d630a37",
   "metadata": {},
   "source": [
    "It does appear that the best policy here is the more exploitative UCB with $\\beta=2.$"
   ]
  }
 ],
 "metadata": {
  "kernelspec": {
   "display_name": "Python 3 (ipykernel)",
   "language": "python",
   "name": "python3"
  },
  "language_info": {
   "codemirror_mode": {
    "name": "ipython",
    "version": 3
   },
   "file_extension": ".py",
   "mimetype": "text/x-python",
   "name": "python",
   "nbconvert_exporter": "python",
   "pygments_lexer": "ipython3",
   "version": "3.11.6"
  }
 },
 "nbformat": 4,
 "nbformat_minor": 5
}
