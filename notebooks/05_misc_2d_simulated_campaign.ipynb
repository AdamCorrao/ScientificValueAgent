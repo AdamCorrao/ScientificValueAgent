{
 "cells": [
  {
   "cell_type": "code",
   "execution_count": 1,
   "id": "e571f209-db40-493c-a035-901ae1fd3227",
   "metadata": {},
   "outputs": [],
   "source": [
    "%load_ext autoreload\n",
    "%autoreload 2\n",
    "%config Completer.use_jedi = False"
   ]
  },
  {
   "cell_type": "code",
   "execution_count": 2,
   "id": "aa91026d-9a8e-4435-8f2f-b81b9190d46b",
   "metadata": {},
   "outputs": [],
   "source": [
    "import numpy as np\n",
    "import matplotlib.pyplot as plt"
   ]
  },
  {
   "cell_type": "code",
   "execution_count": 3,
   "id": "7a1f6053-640b-4cdb-9e4e-82ec87ee4bd1",
   "metadata": {},
   "outputs": [],
   "source": [
    "import sys\n",
    "\n",
    "sys.path.append(\"..\")"
   ]
  },
  {
   "cell_type": "code",
   "execution_count": 4,
   "id": "0f97685c-3980-4e41-8ced-5db4592bdf08",
   "metadata": {},
   "outputs": [
    {
     "name": "stderr",
     "output_type": "stream",
     "text": [
      "c:\\Users\\Tejus\\ScientificValueAgent\\notebooks\\..\\sva\\_version.py:9: UserWarning: You are using a local development copy of sva,dunamai is not installed, as such __version__ cannot bedetected and is set to 'dev' by default. For correct localversion tracking, install dunamai locally (pip install dunamai).\n",
      "  warn(\"You are using a local development copy of sva,\"\n",
      "c:\\Users\\Tejus\\Anaconda3\\envs\\SVA_env\\Lib\\site-packages\\tqdm\\auto.py:21: TqdmWarning: IProgress not found. Please update jupyter and ipywidgets. See https://ipywidgets.readthedocs.io/en/stable/user_install.html\n",
      "  from .autonotebook import tqdm as notebook_tqdm\n"
     ]
    }
   ],
   "source": [
    "# Import the various experiments we need for the notebook\n",
    "from sva.experiments import (\n",
    "    NegatedRosenbrock2d,\n",
    "    Rastrigin2d,\n",
    "    NegatedAckley2d,\n",
    "    PolicyPerformanceEvaluator,\n",
    "    CampaignParameters,\n",
    ")\n",
    "# Import the seeding function for reproducibility\n",
    "from sva.utils import seed_everything, set_mpl_defaults"
   ]
  },
  {
   "cell_type": "code",
   "execution_count": null,
   "id": "a8dc38b2-572d-41a6-98eb-e1f20108348c",
   "metadata": {},
   "outputs": [],
   "source": [
    "set_mpl_defaults()"
   ]
  },
  {
   "cell_type": "markdown",
   "id": "56f9eb37-bca5-4832-8c4a-de60b3c3275e",
   "metadata": {},
   "source": [
    "# More 2d examples"
   ]
  },
  {
   "cell_type": "markdown",
   "id": "619bb2ad-1ef6-4a56-b4cd-20410a911011",
   "metadata": {},
   "source": [
    "As in Notebook 04, here we test a few other benchmark optimization functions. Each function is plotted as a 2d heatmap for the ground truth, with the `n` randomly-initialized data points as black dots and the true maxima as red X's."
   ]
  },
  {
   "cell_type": "markdown",
   "id": "8c10c518",
   "metadata": {},
   "source": [
    "### Rosenbrock Function"
   ]
  },
  {
   "cell_type": "code",
   "execution_count": 5,
   "id": "43097fcb-239d-4f33-8538-380d24a98992",
   "metadata": {},
   "outputs": [],
   "source": [
    "seed_everything(1234)\n",
    "experiment = NegatedRosenbrock2d()\n",
    "experiment.initialize_data(n=5, protocol=\"random\")"
   ]
  },
  {
   "cell_type": "code",
   "execution_count": 6,
   "id": "85fb6b04-84a1-4ce9-81a1-8cb3e555fabd",
   "metadata": {},
   "outputs": [],
   "source": [
    "x = experiment.get_dense_coordinates(ppd=100)\n",
    "y, _ = experiment(x)\n",
    "extent = experiment.get_experimental_domain_mpl_extent()"
   ]
  },
  {
   "cell_type": "code",
   "execution_count": 7,
   "id": "de69dc63-3d8b-49ba-8d05-ab7796969621",
   "metadata": {},
   "outputs": [
    {
     "data": {
      "image/png": "[encoded data removed]",
      "text/plain": [
       "<Figure size 200x200 with 1 Axes>"
      ]
     },
     "metadata": {},
     "output_type": "display_data"
    }
   ],
   "source": [
    "fig, ax = plt.subplots(1, 1, figsize=(2, 2))\n",
    "\n",
    "X, Y = experiment.data.X, experiment.data.Y\n",
    "ax.imshow(\n",
    "    y.reshape(100, 100).T,\n",
    "    extent=extent,\n",
    "    interpolation=\"nearest\",\n",
    "    origin=\"lower\",\n",
    ")\n",
    "ax.scatter(X[:, 0], X[:, 1], color=\"black\", s=0.5)\n",
    "ax.scatter(1, 1, s=10, color=\"red\", marker=\"x\")\n",
    "\n",
    "plt.show()"
   ]
  },
  {
   "cell_type": "markdown",
   "id": "24b8d62b",
   "metadata": {},
   "source": [
    "Rosenbrock's valley is given by $f(x,y) = (a-x)^2 + b(y-x^2)^2$, and has a minimum along a parabolic valley. The location of this minimum is given by $(x,y) = (a, a^2)$. \\\n",
    "\n",
    "We've posed this exercise as a maximization problem, so the function has been negated, therefore the global minimum is now the global maximum. Using conventional values of $a=1, b=100$, the maximum lies at $(1,1)$"
   ]
  },
  {
   "cell_type": "code",
   "execution_count": null,
   "id": "41a76b4a-b8cb-4604-9ce0-d9de609dcc11",
   "metadata": {},
   "outputs": [],
   "source": [
    "seed_everything(1234)\n",
    "experiment = NegatedRosenbrock2d()\n",
    "experiment.initialize_data(n=5, protocol=\"random\")"
   ]
  },
  {
   "cell_type": "code",
   "execution_count": null,
   "id": "2bcc74cf-f2d6-4235-972c-32ad721e2c84",
   "metadata": {},
   "outputs": [],
   "source": [
    "parameter_list = [\n",
    "    CampaignParameters(acquisition_function={\"method\": \"EI\", \"kwargs\": None}),\n",
    "    CampaignParameters(\n",
    "        acquisition_function={\"method\": \"UCB\", \"kwargs\": {\"beta\": 2.0}}\n",
    "    ),\n",
    "    CampaignParameters(\n",
    "        acquisition_function={\"method\": \"UCB\", \"kwargs\": {\"beta\": 20.0}}\n",
    "    ),\n",
    "    CampaignParameters(\n",
    "        acquisition_function={\"method\": \"UCB\", \"kwargs\": {\"beta\": 100.0}}\n",
    "    ),\n",
    "]"
   ]
  },
  {
   "cell_type": "code",
   "execution_count": null,
   "id": "83714d15-8da8-45c6-8fbb-4c4c6b1ef8ed",
   "metadata": {},
   "outputs": [],
   "source": [
    "policy_evaluator = PolicyPerformanceEvaluator(\n",
    "    experiment, checkpoint_dir=\"checkpoints/misc2d/Rosenbrock_n20\"\n",
    ")\n",
    "policy_evaluator.run(5, 50, parameter_list, n_jobs=12)"
   ]
  },
  {
   "cell_type": "code",
   "execution_count": null,
   "id": "2d8ca142-42c5-4576-9466-e82333b9cd89",
   "metadata": {},
   "outputs": [],
   "source": [
    "policy_results = policy_evaluator.process_results()"
   ]
  },
  {
   "cell_type": "code",
   "execution_count": null,
   "id": "62c1f23f-802f-40e0-9c18-db1ba9946cbc",
   "metadata": {},
   "outputs": [],
   "source": [
    "plot_kwargs = {\n",
    "    \"linewidth\": 1.0,\n",
    "    \"marker\": \"s\",\n",
    "    \"ms\": 1.0,\n",
    "    \"capthick\": 0.3,\n",
    "    \"capsize\": 2.0,\n",
    "    \"elinewidth\": 0.3,\n",
    "}"
   ]
  },
  {
   "cell_type": "code",
   "execution_count": null,
   "id": "1466cdab-1a4c-40bd-9ff1-d23a216b2adb",
   "metadata": {},
   "outputs": [],
   "source": [
    "fig, ax = plt.subplots(1, 1, figsize=(3, 2), sharex=True, sharey=True)\n",
    "\n",
    "for ii, (key, value) in enumerate(policy_results.items()):\n",
    "    res = value[\"results\"]\n",
    "    x = np.arange(res.shape[1])\n",
    "    y = np.median(res, axis=0)\n",
    "    percentiles = np.percentile(res, q=[25, 75], axis=0)\n",
    "    ax.errorbar(x, y, yerr=percentiles, label=key, **plot_kwargs)\n",
    "ax.legend(frameon=False, bbox_to_anchor=(1, 0.5), loc=\"center left\")\n",
    "ax.set_yscale(\"log\")\n",
    "plt.show()"
   ]
  },
  {
   "cell_type": "markdown",
   "id": "74f48bc3",
   "metadata": {},
   "source": [
    "### Rastrigin Function"
   ]
  },
  {
   "cell_type": "code",
   "execution_count": 8,
   "id": "6aa880fd",
   "metadata": {},
   "outputs": [],
   "source": [
    "seed_everything(1234)\n",
    "experiment = Rastrigin2d()\n",
    "experiment.initialize_data(n=5, protocol=\"random\")"
   ]
  },
  {
   "cell_type": "code",
   "execution_count": 9,
   "id": "feedeb10",
   "metadata": {},
   "outputs": [],
   "source": [
    "x = experiment.get_dense_coordinates(ppd=100)\n",
    "y, _ = experiment(x)\n",
    "extent = experiment.get_experimental_domain_mpl_extent()"
   ]
  },
  {
   "cell_type": "code",
   "execution_count": 10,
   "id": "df7d84df",
   "metadata": {},
   "outputs": [
    {
     "data": {
      "image/png": "[encoded data removed]",
      "text/plain": [
       "<Figure size 200x200 with 1 Axes>"
      ]
     },
     "metadata": {},
     "output_type": "display_data"
    }
   ],
   "source": [
    "fig, ax = plt.subplots(1, 1, figsize=(2, 2))\n",
    "\n",
    "X, Y = experiment.data.X, experiment.data.Y\n",
    "ax.imshow(\n",
    "    y.reshape(100, 100).T,\n",
    "    extent=extent,\n",
    "    interpolation=\"nearest\",\n",
    "    origin=\"lower\",\n",
    ")\n",
    "ax.scatter(X[:, 0], X[:, 1], color=\"black\", s=0.5)\n",
    "ax.scatter([-0.5028, -0.5028, 0.5028, 0.5028], [-0.5028, 0.5028, -0.5028, 0.5028], s=10, color=\"red\", marker=\"x\")\n",
    "\n",
    "plt.show()"
   ]
  },
  {
   "cell_type": "markdown",
   "id": "8a3ef883",
   "metadata": {},
   "source": [
    "The Rastrigin function in 2 dimensions is given by $f(x,y) = 20 + [x^2 - 10cos(2 \\pi x)] + [y^2 - 10cos(2 \\pi y)]$. \\\n",
    "Several local maxima are present within the experimental domain shown here. They occur at $(x,y) = (\\pm 0.5028, \\pm 0.5028)$."
   ]
  },
  {
   "cell_type": "code",
   "execution_count": null,
   "id": "13b8e571",
   "metadata": {},
   "outputs": [],
   "source": [
    "seed_everything(1234)\n",
    "experiment = Rastrigin2d()\n",
    "experiment.initialize_data(n=5, protocol=\"random\")"
   ]
  },
  {
   "cell_type": "code",
   "execution_count": null,
   "id": "7f99948d",
   "metadata": {},
   "outputs": [],
   "source": [
    "parameter_list = [\n",
    "    CampaignParameters(acquisition_function={\"method\": \"EI\", \"kwargs\": None}),\n",
    "    CampaignParameters(\n",
    "        acquisition_function={\"method\": \"UCB\", \"kwargs\": {\"beta\": 2.0}}\n",
    "    ),\n",
    "    CampaignParameters(\n",
    "        acquisition_function={\"method\": \"UCB\", \"kwargs\": {\"beta\": 20.0}}\n",
    "    ),\n",
    "    CampaignParameters(\n",
    "        acquisition_function={\"method\": \"UCB\", \"kwargs\": {\"beta\": 100.0}}\n",
    "    ),\n",
    "]"
   ]
  },
  {
   "cell_type": "code",
   "execution_count": null,
   "id": "e86427e9",
   "metadata": {},
   "outputs": [],
   "source": [
    "policy_evaluator = PolicyPerformanceEvaluator(\n",
    "    experiment, checkpoint_dir=\"checkpoints/misc2d/Rastrigin_n20\"\n",
    ")\n",
    "policy_evaluator.run(5, 50, parameter_list, n_jobs=12)"
   ]
  },
  {
   "cell_type": "code",
   "execution_count": null,
   "id": "6c3b0ea8",
   "metadata": {},
   "outputs": [],
   "source": [
    "policy_results = policy_evaluator.process_results()"
   ]
  },
  {
   "cell_type": "code",
   "execution_count": null,
   "id": "61df55d5",
   "metadata": {},
   "outputs": [],
   "source": [
    "plot_kwargs = {\n",
    "    \"linewidth\": 1.0,\n",
    "    \"marker\": \"s\",\n",
    "    \"ms\": 1.0,\n",
    "    \"capthick\": 0.3,\n",
    "    \"capsize\": 2.0,\n",
    "    \"elinewidth\": 0.3,\n",
    "}"
   ]
  },
  {
   "cell_type": "code",
   "execution_count": null,
   "id": "f134d5ab",
   "metadata": {},
   "outputs": [],
   "source": [
    "fig, ax = plt.subplots(1, 1, figsize=(3, 2), sharex=True, sharey=True)\n",
    "\n",
    "for ii, (key, value) in enumerate(policy_results.items()):\n",
    "    res = value[\"results\"]\n",
    "    x = np.arange(res.shape[1])\n",
    "    y = np.median(res, axis=0)\n",
    "    percentiles = np.percentile(res, q=[25, 75], axis=0)\n",
    "    ax.errorbar(x, y, yerr=percentiles, label=key, **plot_kwargs)\n",
    "ax.legend(frameon=False, bbox_to_anchor=(1, 0.5), loc=\"center left\")\n",
    "ax.set_yscale(\"log\")\n",
    "plt.show()"
   ]
  },
  {
   "cell_type": "markdown",
   "id": "cc379d4d",
   "metadata": {},
   "source": [
    "### Ackley Function"
   ]
  },
  {
   "cell_type": "code",
   "execution_count": 11,
   "id": "7ae32a49",
   "metadata": {},
   "outputs": [],
   "source": [
    "seed_everything(1234)\n",
    "experiment = NegatedAckley2d()\n",
    "experiment.initialize_data(n=5, protocol=\"random\")"
   ]
  },
  {
   "cell_type": "code",
   "execution_count": 12,
   "id": "d1843b6f",
   "metadata": {},
   "outputs": [],
   "source": [
    "x = experiment.get_dense_coordinates(ppd=100)\n",
    "y, _ = experiment(x)\n",
    "extent = experiment.get_experimental_domain_mpl_extent()"
   ]
  },
  {
   "cell_type": "code",
   "execution_count": 13,
   "id": "c0cd8b05",
   "metadata": {},
   "outputs": [
    {
     "data": {
      "image/png": "[encoded data removed]",
      "text/plain": [
       "<Figure size 200x200 with 1 Axes>"
      ]
     },
     "metadata": {},
     "output_type": "display_data"
    }
   ],
   "source": [
    "fig, ax = plt.subplots(1, 1, figsize=(2, 2))\n",
    "\n",
    "X, Y = experiment.data.X, experiment.data.Y\n",
    "ax.imshow(\n",
    "    y.reshape(100, 100).T,\n",
    "    extent=extent,\n",
    "    interpolation=\"nearest\",\n",
    "    origin=\"lower\",\n",
    ")\n",
    "ax.scatter(X[:, 0], X[:, 1], color=\"black\", s=0.5)\n",
    "ax.scatter(0, 0, s=10, color=\"red\", marker=\"x\")\n",
    "\n",
    "plt.show()"
   ]
  },
  {
   "cell_type": "markdown",
   "id": "df0f5ac5",
   "metadata": {},
   "source": [
    "The Ackley function in 2 dimensions is given by $f(x,y) = -20exp[-0.2 \\sqrt{0.5(x^2 + y^2)}] - exp[0.5(cos(2 \\pi x) + cos(2 \\pi y))] + e + 20$. \n",
    "\n",
    "It has several local extrema and a global minimum at $(x,y) = (0,0)$. Once again, we negate this function to treat this as a maximization problem, with the global maximum at the origin."
   ]
  },
  {
   "cell_type": "code",
   "execution_count": null,
   "id": "b3b9bc6f",
   "metadata": {},
   "outputs": [],
   "source": [
    "seed_everything(1234)\n",
    "experiment = NegatedAckley2d()\n",
    "experiment.initialize_data(n=5, protocol=\"random\")"
   ]
  },
  {
   "cell_type": "code",
   "execution_count": null,
   "id": "7f642b23",
   "metadata": {},
   "outputs": [],
   "source": [
    "parameter_list = [\n",
    "    CampaignParameters(acquisition_function={\"method\": \"EI\", \"kwargs\": None}),\n",
    "    CampaignParameters(\n",
    "        acquisition_function={\"method\": \"UCB\", \"kwargs\": {\"beta\": 2.0}}\n",
    "    ),\n",
    "    CampaignParameters(\n",
    "        acquisition_function={\"method\": \"UCB\", \"kwargs\": {\"beta\": 20.0}}\n",
    "    ),\n",
    "    CampaignParameters(\n",
    "        acquisition_function={\"method\": \"UCB\", \"kwargs\": {\"beta\": 100.0}}\n",
    "    ),\n",
    "]"
   ]
  },
  {
   "cell_type": "code",
   "execution_count": null,
   "id": "8b4a36ad",
   "metadata": {},
   "outputs": [],
   "source": [
    "policy_evaluator = PolicyPerformanceEvaluator(\n",
    "    experiment, checkpoint_dir=\"checkpoints/misc2d/Ackley_n20\"\n",
    ")\n",
    "policy_evaluator.run(5, 50, parameter_list, n_jobs=12)"
   ]
  },
  {
   "cell_type": "code",
   "execution_count": null,
   "id": "7b007b22",
   "metadata": {},
   "outputs": [],
   "source": [
    "policy_results = policy_evaluator.process_results()"
   ]
  },
  {
   "cell_type": "code",
   "execution_count": null,
   "id": "4f46d989",
   "metadata": {},
   "outputs": [],
   "source": [
    "plot_kwargs = {\n",
    "    \"linewidth\": 1.0,\n",
    "    \"marker\": \"s\",\n",
    "    \"ms\": 1.0,\n",
    "    \"capthick\": 0.3,\n",
    "    \"capsize\": 2.0,\n",
    "    \"elinewidth\": 0.3,\n",
    "}"
   ]
  },
  {
   "cell_type": "code",
   "execution_count": null,
   "id": "d8fc935d",
   "metadata": {},
   "outputs": [],
   "source": [
    "fig, ax = plt.subplots(1, 1, figsize=(3, 2), sharex=True, sharey=True)\n",
    "\n",
    "for ii, (key, value) in enumerate(policy_results.items()):\n",
    "    res = value[\"results\"]\n",
    "    x = np.arange(res.shape[1])\n",
    "    y = np.median(res, axis=0)\n",
    "    percentiles = np.percentile(res, q=[25, 75], axis=0)\n",
    "    ax.errorbar(x, y, yerr=percentiles, label=key, **plot_kwargs)\n",
    "ax.legend(frameon=False, bbox_to_anchor=(1, 0.5), loc=\"center left\")\n",
    "ax.set_yscale(\"log\")\n",
    "plt.show()"
   ]
  }
 ],
 "metadata": {
  "kernelspec": {
   "display_name": "Python 3 (ipykernel)",
   "language": "python",
   "name": "python3"
  },
  "language_info": {
   "codemirror_mode": {
    "name": "ipython",
    "version": 3
   },
   "file_extension": ".py",
   "mimetype": "text/x-python",
   "name": "python",
   "nbconvert_exporter": "python",
   "pygments_lexer": "ipython3",
   "version": "3.11.9"
  }
 },
 "nbformat": 4,
 "nbformat_minor": 5
}
