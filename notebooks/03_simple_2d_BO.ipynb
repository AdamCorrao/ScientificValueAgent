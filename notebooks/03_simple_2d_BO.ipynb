{
 "cells": [
  {
   "cell_type": "code",
   "execution_count": null,
   "id": "e571f209-db40-493c-a035-901ae1fd3227",
   "metadata": {},
   "outputs": [],
   "source": [
    "%load_ext autoreload\n",
    "%autoreload 2\n",
    "%config Completer.use_jedi = False"
   ]
  },
  {
   "cell_type": "code",
   "execution_count": null,
   "id": "aa91026d-9a8e-4435-8f2f-b81b9190d46b",
   "metadata": {},
   "outputs": [],
   "source": [
    "import matplotlib.pyplot as plt\n",
    "from functools import partial"
   ]
  },
  {
   "cell_type": "code",
   "execution_count": null,
   "id": "7a1f6053-640b-4cdb-9e4e-82ec87ee4bd1",
   "metadata": {},
   "outputs": [],
   "source": [
    "import sys\n",
    "\n",
    "sys.path.append(\"..\")"
   ]
  },
  {
   "cell_type": "code",
   "execution_count": null,
   "id": "0f97685c-3980-4e41-8ced-5db4592bdf08",
   "metadata": {},
   "outputs": [],
   "source": [
    "# Import the various experiments we need for the notebook\n",
    "from sva.experiments import Simple2d\n",
    "\n",
    "# Plotting quality of life utils\n",
    "from sva.mpl_utils import set_mpl_defaults"
   ]
  },
  {
   "cell_type": "code",
   "execution_count": null,
   "id": "11944c41-6263-4c62-997d-17ea04035137",
   "metadata": {},
   "outputs": [],
   "source": [
    "set_mpl_defaults()"
   ]
  },
  {
   "cell_type": "markdown",
   "id": "56f9eb37-bca5-4832-8c4a-de60b3c3275e",
   "metadata": {},
   "source": [
    "# A simple 2d example"
   ]
  },
  {
   "cell_type": "code",
   "execution_count": null,
   "id": "c56950e5-de97-4066-b5c1-c61f455de6bc",
   "metadata": {},
   "outputs": [],
   "source": [
    "experiment = Simple2d()\n",
    "x = experiment.get_dense_coordinates(ppd=100)\n",
    "y = experiment(x)\n",
    "extent = experiment.get_domain_mpl_extent()"
   ]
  },
  {
   "cell_type": "code",
   "execution_count": null,
   "id": "61290fa7-f8a9-4cd1-8155-08ae5b76eb28",
   "metadata": {},
   "outputs": [],
   "source": [
    "fig, axs = plt.subplots(1, 1, figsize=(2, 2), sharex=True, sharey=True)\n",
    "\n",
    "ax = axs\n",
    "ax.imshow(\n",
    "    y.reshape(100, 100).T,\n",
    "    extent=extent,\n",
    "    interpolation=\"nearest\",\n",
    "    origin=\"lower\",\n",
    "    cmap=\"viridis\",\n",
    ")\n",
    "\n",
    "plt.show()"
   ]
  },
  {
   "cell_type": "code",
   "execution_count": null,
   "id": "39f76846-2040-42e4-8d11-bbfcf39f2e6d",
   "metadata": {},
   "outputs": [],
   "source": [
    "# Import the campaign\n",
    "from sva.campaign import Campaign\n",
    "\n",
    "# Import the standard fixed policy\n",
    "from sva.policy import FixedPolicy\n",
    "\n",
    "# Model to use\n",
    "from sva.models.gp import EasySingleTaskGP\n",
    "\n",
    "# Default fitting function\n",
    "from sva.models.gp import fit_EasyGP_mll"
   ]
  },
  {
   "cell_type": "code",
   "execution_count": null,
   "id": "efed7e9a-c0de-4a0d-813d-ec6f8967154e",
   "metadata": {},
   "outputs": [],
   "source": [
    "policy = FixedPolicy(\n",
    "    n_max=100,\n",
    "    prime_kwargs={\"protocol\": \"cold_start\"},\n",
    "    model_factory=partial(EasySingleTaskGP.from_default),\n",
    "    model_fitting_function=partial(fit_EasyGP_mll),\n",
    "    optimize_kwargs={\"q\": 1, \"num_restarts\": 20, \"raw_samples\": 100},\n",
    "    acquisition_function=\"UCB-10\",\n",
    "    save_model=True,\n",
    ")\n",
    "\n",
    "campaign = Campaign(seed=123, experiment=Simple2d(), policy=policy)\n",
    "campaign.run()"
   ]
  },
  {
   "cell_type": "code",
   "execution_count": null,
   "id": "6739926b-32d0-4235-af42-c96faa16b935",
   "metadata": {},
   "outputs": [],
   "source": [
    "fig, axs = plt.subplots(1, 1, figsize=(2, 2), sharex=True, sharey=True)\n",
    "\n",
    "ax = axs\n",
    "ax.imshow(\n",
    "    y.reshape(100, 100).T,\n",
    "    extent=extent,\n",
    "    interpolation=\"nearest\",\n",
    "    origin=\"lower\",\n",
    "    cmap=\"viridis\",\n",
    ")\n",
    "\n",
    "X = campaign.data.X\n",
    "ax.scatter(X[:, 0], X[:, 1], s=0.5, color=\"black\")\n",
    "\n",
    "plt.show()"
   ]
  }
 ],
 "metadata": {
  "kernelspec": {
   "display_name": "Python 3 (ipykernel)",
   "language": "python",
   "name": "python3"
  },
  "language_info": {
   "codemirror_mode": {
    "name": "ipython",
    "version": 3
   },
   "file_extension": ".py",
   "mimetype": "text/x-python",
   "name": "python",
   "nbconvert_exporter": "python",
   "pygments_lexer": "ipython3",
   "version": "3.11.9"
  }
 },
 "nbformat": 4,
 "nbformat_minor": 5
}
