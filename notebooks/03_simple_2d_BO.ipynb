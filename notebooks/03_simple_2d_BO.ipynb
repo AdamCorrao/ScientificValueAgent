{
 "cells": [
  {
   "cell_type": "code",
   "execution_count": null,
   "id": "e571f209-db40-493c-a035-901ae1fd3227",
   "metadata": {},
   "outputs": [],
   "source": [
    "%load_ext autoreload\n",
    "%autoreload 2\n",
    "%config Completer.use_jedi = False"
   ]
  },
  {
   "cell_type": "code",
   "execution_count": null,
   "id": "aa91026d-9a8e-4435-8f2f-b81b9190d46b",
   "metadata": {},
   "outputs": [],
   "source": [
    "import matplotlib.pyplot as plt\n",
    "from warnings import catch_warnings"
   ]
  },
  {
   "cell_type": "code",
   "execution_count": null,
   "id": "7a1f6053-640b-4cdb-9e4e-82ec87ee4bd1",
   "metadata": {},
   "outputs": [],
   "source": [
    "import sys\n",
    "\n",
    "sys.path.append(\"..\")"
   ]
  },
  {
   "cell_type": "code",
   "execution_count": null,
   "id": "0f97685c-3980-4e41-8ced-5db4592bdf08",
   "metadata": {},
   "outputs": [],
   "source": [
    "# Import the various experiments we need for the notebook\n",
    "from sva.experiments import Simple2d, CampaignParameters\n",
    "\n",
    "# Import the seeding function for reproducibility\n",
    "from sva.utils import seed_everything, set_mpl_defaults"
   ]
  },
  {
   "cell_type": "code",
   "execution_count": null,
   "id": "11944c41-6263-4c62-997d-17ea04035137",
   "metadata": {},
   "outputs": [],
   "source": [
    "set_mpl_defaults()"
   ]
  },
  {
   "cell_type": "markdown",
   "id": "56f9eb37-bca5-4832-8c4a-de60b3c3275e",
   "metadata": {},
   "source": [
    "# A simple 2d example"
   ]
  },
  {
   "cell_type": "code",
   "execution_count": null,
   "id": "c56950e5-de97-4066-b5c1-c61f455de6bc",
   "metadata": {},
   "outputs": [],
   "source": [
    "seed_everything(123)"
   ]
  },
  {
   "cell_type": "code",
   "execution_count": null,
   "id": "43097fcb-239d-4f33-8538-380d24a98992",
   "metadata": {},
   "outputs": [],
   "source": [
    "experiments = []\n",
    "acquisition_functions = [\"EI\", \"UCB\", \"UCB\", \"UCB\"]\n",
    "acquisition_function_kwargs = [\n",
    "    {},\n",
    "    {\"beta\": 10.0},\n",
    "    {\"beta\": 40.0},\n",
    "    {\"beta\": 100.0},\n",
    "]\n",
    "\n",
    "for acqf, acqf_kwargs in zip(\n",
    "    acquisition_functions, acquisition_function_kwargs\n",
    "):\n",
    "    experiment = Simple2d()\n",
    "    experiment.initialize_data(n=3, protocol=\"random\")\n",
    "    acquisition_function = {\"method\": acqf, \"kwargs\": acqf_kwargs}\n",
    "    with catch_warnings(record=True) as thrown_warnings:\n",
    "        parameters = CampaignParameters(\n",
    "            acquisition_function=acquisition_function\n",
    "        )\n",
    "    experiment.run(100, parameters=parameters)\n",
    "    experiments.append(experiment)"
   ]
  },
  {
   "cell_type": "code",
   "execution_count": null,
   "id": "addfd9f2-9c94-4a78-8447-4e067ee27339",
   "metadata": {},
   "outputs": [],
   "source": [
    "# Get the ground truth results\n",
    "x = experiment.get_dense_coordinates(ppd=100)\n",
    "y, _ = experiment(x)"
   ]
  },
  {
   "cell_type": "code",
   "execution_count": null,
   "id": "5bedf46c-43d0-47f5-a04e-f218f5a2d8a8",
   "metadata": {},
   "outputs": [],
   "source": [
    "extent = experiment.get_experimental_domain_mpl_extent()"
   ]
  },
  {
   "cell_type": "markdown",
   "id": "10408f02-c946-4d64-b046-ca0de3aec618",
   "metadata": {},
   "source": [
    "From left to right, we have EI, UCB(10), UCB(40) and UCB(100)."
   ]
  },
  {
   "cell_type": "code",
   "execution_count": null,
   "id": "1466cdab-1a4c-40bd-9ff1-d23a216b2adb",
   "metadata": {},
   "outputs": [],
   "source": [
    "fig, axs = plt.subplots(1, 4, figsize=(8, 3), sharex=True, sharey=True)\n",
    "\n",
    "for ii, experiment in enumerate(experiments):\n",
    "    ax = axs[ii]\n",
    "    X, Y = experiment.data.X, experiment.data.Y\n",
    "    ax.imshow(\n",
    "        y.reshape(100, 100).T,\n",
    "        extent=extent,\n",
    "        interpolation=\"nearest\",\n",
    "        origin=\"lower\",\n",
    "    )\n",
    "    ax.scatter(X[:, 0], X[:, 1], color=\"black\", s=0.5)\n",
    "\n",
    "plt.show()"
   ]
  }
 ],
 "metadata": {
  "kernelspec": {
   "display_name": "Python 3 (ipykernel)",
   "language": "python",
   "name": "python3"
  },
  "language_info": {
   "codemirror_mode": {
    "name": "ipython",
    "version": 3
   },
   "file_extension": ".py",
   "mimetype": "text/x-python",
   "name": "python",
   "nbconvert_exporter": "python",
   "pygments_lexer": "ipython3",
   "version": "3.11.6"
  }
 },
 "nbformat": 4,
 "nbformat_minor": 5
}
