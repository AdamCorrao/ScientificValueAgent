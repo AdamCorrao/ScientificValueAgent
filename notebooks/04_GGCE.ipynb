{
 "cells": [
  {
   "cell_type": "code",
   "execution_count": null,
   "id": "e571f209-db40-493c-a035-901ae1fd3227",
   "metadata": {},
   "outputs": [],
   "source": [
    "%load_ext autoreload\n",
    "%autoreload 2\n",
    "%config Completer.use_jedi = False"
   ]
  },
  {
   "cell_type": "code",
   "execution_count": null,
   "id": "aa91026d-9a8e-4435-8f2f-b81b9190d46b",
   "metadata": {},
   "outputs": [],
   "source": [
    "import matplotlib.pyplot as plt\n",
    "from functools import partial\n",
    "import numpy as np\n",
    "from mpl_toolkits.axes_grid1 import ImageGrid\n",
    "import gpytorch"
   ]
  },
  {
   "cell_type": "code",
   "execution_count": null,
   "id": "7a1f6053-640b-4cdb-9e4e-82ec87ee4bd1",
   "metadata": {},
   "outputs": [],
   "source": [
    "import sys\n",
    "\n",
    "sys.path.append(\"..\")"
   ]
  },
  {
   "cell_type": "code",
   "execution_count": null,
   "id": "0f97685c-3980-4e41-8ced-5db4592bdf08",
   "metadata": {},
   "outputs": [],
   "source": [
    "# Import the various experiments we need for the notebook\n",
    "from sva.experiments.ggce.ggce import Peierls\n",
    "\n",
    "# Plotting quality of life utils\n",
    "from sva.mpl_utils import set_mpl_defaults\n",
    "\n",
    "# Import the campaign\n",
    "from sva.campaign import Campaign, CampaignData, FixedPolicy, FixedSVAPolicy\n",
    "\n",
    "# Model to use\n",
    "from sva.models import EasySingleTaskGP, EasyFixedNoiseGP\n",
    "\n",
    "# Proximity penalty module\n",
    "from sva.bayesian_optimization import ProximityPenalty\n",
    "\n",
    "# Value function\n",
    "from sva.value import SVF"
   ]
  },
  {
   "cell_type": "code",
   "execution_count": null,
   "id": "11944c41-6263-4c62-997d-17ea04035137",
   "metadata": {},
   "outputs": [],
   "source": [
    "set_mpl_defaults()"
   ]
  },
  {
   "cell_type": "markdown",
   "id": "56f9eb37-bca5-4832-8c4a-de60b3c3275e",
   "metadata": {},
   "source": [
    "# GGCE example"
   ]
  },
  {
   "cell_type": "code",
   "execution_count": null,
   "id": "a02720e6-9ea8-444f-95c8-41f371a0ba66",
   "metadata": {},
   "outputs": [],
   "source": [
    "SEED = 133\n",
    "ppd = 100"
   ]
  },
  {
   "cell_type": "code",
   "execution_count": null,
   "id": "c56950e5-de97-4066-b5c1-c61f455de6bc",
   "metadata": {},
   "outputs": [],
   "source": [
    "experiment = Peierls(y_log=True)\n",
    "x = experiment.get_dense_coordinates(ppd=ppd)\n",
    "y = experiment(x)\n",
    "extent = experiment.get_domain_mpl_extent()\n",
    "extent[1] = 1.0  # Scale x-axis by pi"
   ]
  },
  {
   "cell_type": "markdown",
   "id": "d7e060d2-e589-4fa1-b03c-4b62458d1701",
   "metadata": {},
   "source": [
    "Show the ground truth function."
   ]
  },
  {
   "cell_type": "code",
   "execution_count": null,
   "id": "7461d06d-4ebd-463d-8f9c-9337e659fda7",
   "metadata": {},
   "outputs": [],
   "source": [
    "A = y.copy()\n",
    "A = A.reshape(ppd, ppd).T[::-1, :]"
   ]
  },
  {
   "cell_type": "code",
   "execution_count": null,
   "id": "ee1ef148-1ad2-428c-8a12-9eb5f8f602e7",
   "metadata": {},
   "outputs": [],
   "source": [
    "fig, ax = plt.subplots(1, 1, figsize=(2, 2))\n",
    "\n",
    "im = ax.imshow(A, extent=extent, aspect=\"auto\", cmap=\"binary\")\n",
    "cbar = plt.colorbar(im)\n",
    "cbar.set_label(r\"$\\log_{10} A(k,\\omega)$\")\n",
    "\n",
    "ax.set_ylabel(r\"$\\omega/t$\")\n",
    "ax.set_xlabel(r\"$k/\\pi$\")\n",
    "ax.set_xticks([0, 1])\n",
    "plt.show()"
   ]
  },
  {
   "cell_type": "code",
   "execution_count": null,
   "id": "03580941-b702-4593-b9fb-1614335c3f50",
   "metadata": {},
   "outputs": [],
   "source": [
    "x_grid = np.linspace(0, 2, 100)\n",
    "def sigmoid(d, x0, a):\n",
    "    return 1.0 / (1.0 + np.exp(-(d - x0) / a))\n",
    "xig = sigmoid(x_grid, 1, 0.05)"
   ]
  },
  {
   "cell_type": "code",
   "execution_count": null,
   "id": "58fbe1be-18dd-4f57-a0c0-22824957ab22",
   "metadata": {},
   "outputs": [],
   "source": [
    "plt.plot(x_grid, xig)"
   ]
  },
  {
   "cell_type": "markdown",
   "id": "3a2ec28d-0c7d-4f4f-b07b-3e3ee74e9550",
   "metadata": {},
   "source": [
    "We'll need some other bits and pieces to effectively run a campaign!"
   ]
  },
  {
   "cell_type": "code",
   "execution_count": null,
   "id": "89ecbb04-dd38-4e98-8317-704e0fd19264",
   "metadata": {},
   "outputs": [],
   "source": [
    "N_start = 3\n",
    "N_max = 225"
   ]
  },
  {
   "cell_type": "code",
   "execution_count": null,
   "id": "7806646a-d178-4ee3-85fa-07b72cff3c33",
   "metadata": {},
   "outputs": [],
   "source": [
    "data = CampaignData()\n",
    "data.prime(experiment, \"random\", seed=SEED, n=N_start)\n",
    "covar_module = gpytorch.kernels.ScaleKernel(gpytorch.kernels.MaternKernel())\n",
    "model_factory = partial(EasySingleTaskGP.from_default, covar_module=covar_module)\n",
    "policy = FixedSVAPolicy(\n",
    "    n_max=N_max, acquisition_function=\"UCB-100\", model_factory=model_factory, save_model=False,\n",
    "    optimize_kwargs={\"q\": 1, \"num_restarts\": 20, \"raw_samples\": 100}\n",
    ")\n",
    "campaign = Campaign(data=data, experiment=experiment, policy=policy, seed=SEED)"
   ]
  },
  {
   "cell_type": "code",
   "execution_count": null,
   "id": "2472f794-ce15-413e-b521-1a0f660608d1",
   "metadata": {},
   "outputs": [],
   "source": [
    "campaign.run()"
   ]
  },
  {
   "cell_type": "code",
   "execution_count": null,
   "id": "2a17b722-8247-4faf-9c58-7d1f795554aa",
   "metadata": {},
   "outputs": [],
   "source": [
    "kernel = gpytorch.kernels.ScaleKernel(gpytorch.kernels.RQKernel(ard_num_dims=2))\n",
    "mean = gpytorch.means.ZeroMean()\n",
    "model = EasySingleTaskGP.from_default(data.X, data.Y, mean_module=mean, covar_module=kernel)\n",
    "model.fit_mll()\n",
    "pred, std = model.predict(x)"
   ]
  },
  {
   "cell_type": "code",
   "execution_count": null,
   "id": "90c23ad6-830d-4dd8-86f8-9527676d210c",
   "metadata": {},
   "outputs": [],
   "source": [
    "f = plt.figure(figsize=(8, 2))\n",
    "\n",
    "axs = ImageGrid(\n",
    "    f,\n",
    "    111,\n",
    "    nrows_ncols=(1, 4),\n",
    "    axes_pad=0.25,\n",
    "    share_all=True,\n",
    "    cbar_location=\"right\",\n",
    "    cbar_mode=\"edge\",\n",
    "    cbar_size=\"7%\",\n",
    "    cbar_pad=0.15,\n",
    "    aspect=False,\n",
    ")\n",
    "\n",
    "\n",
    "ax = axs[0]\n",
    "ax.imshow(A, aspect=\"auto\", extent=extent, cmap=\"viridis\")\n",
    "ax.scatter(data.X[:N_start, 0] / np.pi, data.X[:N_start, 1], color='black')\n",
    "ax.scatter(data.X[:, 0] / np.pi, data.X[:, 1], s=1, color='red')\n",
    "ax.set_title(\"Truth w/ samples\")\n",
    "\n",
    "ax = axs[1]\n",
    "ax.imshow(pred.reshape(ppd, ppd).T[::-1, :], aspect=\"auto\", extent=extent, cmap=\"viridis\")\n",
    "ax.set_title(\"Pred\")\n",
    "\n",
    "ax = axs[2]\n",
    "ax.imshow((y - pred.reshape(-1, 1)).reshape(ppd, ppd).T[::-1, :], cmap=\"RdBu\", aspect=\"auto\", extent=extent)\n",
    "ax.set_title(\"Delta\")\n",
    "\n",
    "ax = axs[3]\n",
    "ax.imshow(std.reshape(ppd, ppd).T[::-1, :], aspect=\"auto\", extent=extent, cmap=\"viridis\")\n",
    "ax.set_title(\"Std\")\n",
    "\n",
    "plt.show()"
   ]
  }
 ],
 "metadata": {
  "kernelspec": {
   "display_name": "Python 3 (ipykernel)",
   "language": "python",
   "name": "python3"
  },
  "language_info": {
   "codemirror_mode": {
    "name": "ipython",
    "version": 3
   },
   "file_extension": ".py",
   "mimetype": "text/x-python",
   "name": "python",
   "nbconvert_exporter": "python",
   "pygments_lexer": "ipython3",
   "version": "3.11.9"
  }
 },
 "nbformat": 4,
 "nbformat_minor": 5
}
